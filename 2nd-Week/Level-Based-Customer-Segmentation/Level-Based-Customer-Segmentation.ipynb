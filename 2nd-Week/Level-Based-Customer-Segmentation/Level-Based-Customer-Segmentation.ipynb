{
 "cells": [
  {
   "cell_type": "markdown",
   "id": "d93123be",
   "metadata": {},
   "source": [
    "# Ödev 1: Fonksiyonlara Özellik Eklemek."
   ]
  },
  {
   "cell_type": "code",
   "execution_count": 740,
   "id": "61af4723",
   "metadata": {},
   "outputs": [],
   "source": [
    "import pandas as pd\n",
    "import seaborn as sns"
   ]
  },
  {
   "cell_type": "markdown",
   "id": "30808a30",
   "metadata": {},
   "source": [
    "## Öncesi:"
   ]
  },
  {
   "cell_type": "code",
   "execution_count": 741,
   "id": "c5691207",
   "metadata": {},
   "outputs": [],
   "source": [
    "def cat_summary(dataframe, col_name, plot=False):\n",
    "\n",
    "    print(pd.DataFrame({col_name: dataframe[col_name].value_counts(),\n",
    "                        \"Ratio\": 100 * dataframe[col_name].value_counts() / len(dataframe)}))\n",
    "    print(\"##########################################\")\n",
    "\n",
    "    if plot:\n",
    "        sns.countplot(x=dataframe[col_name], data=dataframe)\n",
    "        plt.show()"
   ]
  },
  {
   "cell_type": "markdown",
   "id": "17d27eec",
   "metadata": {},
   "source": [
    "## Sonrası:"
   ]
  },
  {
   "cell_type": "code",
   "execution_count": 742,
   "id": "b5af8cb8",
   "metadata": {},
   "outputs": [],
   "source": [
    "def cat_summary(dataframe, col_name, corr_col=False, plot=False):\n",
    "\n",
    "    print(pd.DataFrame({col_name: dataframe[col_name].value_counts(),\n",
    "                        f\"{col_name}\"+\"_\"+\"Ratio\": 100 * dataframe[col_name].value_counts() / len(dataframe)}))\n",
    "    \n",
    "    if plot:\n",
    "        sns.countplot(x=dataframe[col_name], data=dataframe)\n",
    "        plt.show()\n",
    "        \n",
    "    print(\"#######################################\", end=\"\\n\\n\")    \n",
    "    \n",
    "    if corr_col:\n",
    "        print(pd.DataFrame({corr_col: dataframe[corr_col].value_counts(),\n",
    "                    f\"{corr_col}\"+\"_\"+\"Ratio\": 100 * dataframe[corr_col].value_counts() / len(dataframe)}), end=\"\\n\\n\")  \n",
    "        if plot:\n",
    "            sns.countplot(x=dataframe[corr_col], data=dataframe)\n",
    "            plt.show()\n",
    "        \n",
    "        corr = dataframe[col_name].corr(dataframe[corr_col])\n",
    "        print({f\"{col_name}\" + \"_\" + f\"{corr_col}\" + \"_correlation\": corr})\n"
   ]
  },
  {
   "cell_type": "markdown",
   "id": "ed25c781",
   "metadata": {},
   "source": [
    "## Test:"
   ]
  },
  {
   "cell_type": "code",
   "execution_count": 743,
   "id": "fc06c819",
   "metadata": {},
   "outputs": [],
   "source": [
    "pd.set_option('display.max_columns', None)\n",
    "\n",
    "def load_titanic():\n",
    "    df = pd.read_csv(r\"C:/Users/eyp_d/Desktop/Bootcamp2/Datasets/titanic.csv\")\n",
    "    return df"
   ]
  },
  {
   "cell_type": "code",
   "execution_count": 744,
   "id": "aa9cf3f1",
   "metadata": {},
   "outputs": [],
   "source": [
    "df = load_titanic()"
   ]
  },
  {
   "cell_type": "code",
   "execution_count": 745,
   "id": "d380f8c9",
   "metadata": {},
   "outputs": [
    {
     "name": "stdout",
     "output_type": "stream",
     "text": [
      "   Pclass  Pclass_Ratio\n",
      "3     491     55.106622\n",
      "1     216     24.242424\n",
      "2     184     20.650954\n"
     ]
    },
    {
     "ename": "NameError",
     "evalue": "name 'plt' is not defined",
     "output_type": "error",
     "traceback": [
      "\u001b[1;31m---------------------------------------------------------------------------\u001b[0m",
      "\u001b[1;31mNameError\u001b[0m                                 Traceback (most recent call last)",
      "\u001b[1;32m<ipython-input-745-0af64838c44e>\u001b[0m in \u001b[0;36m<module>\u001b[1;34m\u001b[0m\n\u001b[1;32m----> 1\u001b[1;33m \u001b[0mcat_summary\u001b[0m\u001b[1;33m(\u001b[0m\u001b[0mdf\u001b[0m\u001b[1;33m,\u001b[0m \u001b[1;34m\"Pclass\"\u001b[0m\u001b[1;33m,\u001b[0m \u001b[1;34m\"Survived\"\u001b[0m\u001b[1;33m,\u001b[0m \u001b[0mplot\u001b[0m\u001b[1;33m=\u001b[0m\u001b[1;32mTrue\u001b[0m\u001b[1;33m)\u001b[0m\u001b[1;33m\u001b[0m\u001b[1;33m\u001b[0m\u001b[0m\n\u001b[0m",
      "\u001b[1;32m<ipython-input-742-85f5511996cc>\u001b[0m in \u001b[0;36mcat_summary\u001b[1;34m(dataframe, col_name, corr_col, plot)\u001b[0m\n\u001b[0;32m      6\u001b[0m     \u001b[1;32mif\u001b[0m \u001b[0mplot\u001b[0m\u001b[1;33m:\u001b[0m\u001b[1;33m\u001b[0m\u001b[1;33m\u001b[0m\u001b[0m\n\u001b[0;32m      7\u001b[0m         \u001b[0msns\u001b[0m\u001b[1;33m.\u001b[0m\u001b[0mcountplot\u001b[0m\u001b[1;33m(\u001b[0m\u001b[0mx\u001b[0m\u001b[1;33m=\u001b[0m\u001b[0mdataframe\u001b[0m\u001b[1;33m[\u001b[0m\u001b[0mcol_name\u001b[0m\u001b[1;33m]\u001b[0m\u001b[1;33m,\u001b[0m \u001b[0mdata\u001b[0m\u001b[1;33m=\u001b[0m\u001b[0mdataframe\u001b[0m\u001b[1;33m)\u001b[0m\u001b[1;33m\u001b[0m\u001b[1;33m\u001b[0m\u001b[0m\n\u001b[1;32m----> 8\u001b[1;33m         \u001b[0mplt\u001b[0m\u001b[1;33m.\u001b[0m\u001b[0mshow\u001b[0m\u001b[1;33m(\u001b[0m\u001b[1;33m)\u001b[0m\u001b[1;33m\u001b[0m\u001b[1;33m\u001b[0m\u001b[0m\n\u001b[0m\u001b[0;32m      9\u001b[0m \u001b[1;33m\u001b[0m\u001b[0m\n\u001b[0;32m     10\u001b[0m     \u001b[0mprint\u001b[0m\u001b[1;33m(\u001b[0m\u001b[1;34m\"#######################################\"\u001b[0m\u001b[1;33m,\u001b[0m \u001b[0mend\u001b[0m\u001b[1;33m=\u001b[0m\u001b[1;34m\"\\n\\n\"\u001b[0m\u001b[1;33m)\u001b[0m\u001b[1;33m\u001b[0m\u001b[1;33m\u001b[0m\u001b[0m\n",
      "\u001b[1;31mNameError\u001b[0m: name 'plt' is not defined"
     ]
    },
    {
     "data": {
      "image/png": "[encoded data removed]",
      "text/plain": [
       "<Figure size 432x288 with 1 Axes>"
      ]
     },
     "metadata": {
      "needs_background": "light"
     },
     "output_type": "display_data"
    }
   ],
   "source": [
    "cat_summary(df, \"Pclass\", \"Survived\", plot=True)"
   ]
  },
  {
   "cell_type": "markdown",
   "id": "e3e25c9d",
   "metadata": {},
   "source": [
    "# Ödev 2: Docstring. "
   ]
  },
  {
   "cell_type": "code",
   "execution_count": null,
   "id": "f4d0c237",
   "metadata": {},
   "outputs": [],
   "source": [
    "def cat_summary(dataframe, col_name, plot=False):\n",
    "    \"\"\"\n",
    "    \n",
    "    Veri setinden, parametre olarak verilen herhangi bir kategorik değişkenin sayısal toplamını ve indekslerine göre\n",
    "    oransal karşılığını veren fonksiyondur.\n",
    "    \n",
    "    \n",
    "    Parameters\n",
    "    ------\n",
    "        dataframe: dataframe\n",
    "                Değişken sayısal değerleri ve oransal karşılığının alınması istenilen dataframe\n",
    "        col_name: str\n",
    "                Sayısal ve oransal karşılığı alınmak istenilen dataframe değişkeni\n",
    "        plot: boolean\n",
    "                Değişkene ait fonksiyon çıktılarının grafiksel gösterimi için kullanılan boolean parametre\n",
    "                \n",
    "    \n",
    "    Examples\n",
    "    ------\n",
    "        import seaborn as sns\n",
    "        df = sns.load_dataset(\"titanic\")  \n",
    "        print(cat_summary(df, \"Survived\", plot=True))\n",
    "        \n",
    "        \n",
    "        \n",
    "    Notes\n",
    "    ------\n",
    "        col_name parametresi, dataframe'e ait bir kategorik değişken olmak zorundadır.\n",
    "\n",
    "    \n",
    "    \"\"\"\n",
    "\n",
    "    print(pd.DataFrame({col_name: dataframe[col_name].value_counts(),\n",
    "                        \"Ratio\": 100 * dataframe[col_name].value_counts() / len(dataframe)}))\n",
    "    print(\"##########################################\")\n",
    "\n",
    "    if plot:\n",
    "        sns.countplot(x=dataframe[col_name], data=dataframe)\n",
    "        plt.show()"
   ]
  },
  {
   "cell_type": "markdown",
   "id": "e2abe003",
   "metadata": {},
   "source": [
    "# Ödev 3:"
   ]
  },
  {
   "cell_type": "code",
   "execution_count": 746,
   "id": "3bccc7c2",
   "metadata": {},
   "outputs": [],
   "source": [
    "import pandas as pd\n",
    "import seaborn as sns\n",
    "import numpy as np"
   ]
  },
  {
   "cell_type": "markdown",
   "id": "378ea21d",
   "metadata": {},
   "source": [
    "## Görev 1:"
   ]
  },
  {
   "cell_type": "markdown",
   "id": "e391a035",
   "metadata": {},
   "source": [
    "### Soru 1: persona.csv dosyasını okutunuz ve veri seti ile ilgili genel bilgileri gösteriniz."
   ]
  },
  {
   "cell_type": "code",
   "execution_count": 747,
   "id": "9f71839b",
   "metadata": {},
   "outputs": [],
   "source": [
    "df = pd.read_csv(r\"C:/Users/eyp_d/Desktop/Bootcamp2/Datasets/persona.csv\")"
   ]
  },
  {
   "cell_type": "code",
   "execution_count": 748,
   "id": "e6b9040b",
   "metadata": {},
   "outputs": [
    {
     "data": {
      "text/html": [
       "<div>\n",
       "<style scoped>\n",
       "    .dataframe tbody tr th:only-of-type {\n",
       "        vertical-align: middle;\n",
       "    }\n",
       "\n",
       "    .dataframe tbody tr th {\n",
       "        vertical-align: top;\n",
       "    }\n",
       "\n",
       "    .dataframe thead th {\n",
       "        text-align: right;\n",
       "    }\n",
       "</style>\n",
       "<table border=\"1\" class=\"dataframe\">\n",
       "  <thead>\n",
       "    <tr style=\"text-align: right;\">\n",
       "      <th></th>\n",
       "      <th>PRICE</th>\n",
       "      <th>SOURCE</th>\n",
       "      <th>SEX</th>\n",
       "      <th>COUNTRY</th>\n",
       "      <th>AGE</th>\n",
       "    </tr>\n",
       "  </thead>\n",
       "  <tbody>\n",
       "    <tr>\n",
       "      <th>0</th>\n",
       "      <td>39</td>\n",
       "      <td>android</td>\n",
       "      <td>male</td>\n",
       "      <td>bra</td>\n",
       "      <td>17</td>\n",
       "    </tr>\n",
       "    <tr>\n",
       "      <th>1</th>\n",
       "      <td>39</td>\n",
       "      <td>android</td>\n",
       "      <td>male</td>\n",
       "      <td>bra</td>\n",
       "      <td>17</td>\n",
       "    </tr>\n",
       "    <tr>\n",
       "      <th>2</th>\n",
       "      <td>49</td>\n",
       "      <td>android</td>\n",
       "      <td>male</td>\n",
       "      <td>bra</td>\n",
       "      <td>17</td>\n",
       "    </tr>\n",
       "    <tr>\n",
       "      <th>3</th>\n",
       "      <td>29</td>\n",
       "      <td>android</td>\n",
       "      <td>male</td>\n",
       "      <td>tur</td>\n",
       "      <td>17</td>\n",
       "    </tr>\n",
       "    <tr>\n",
       "      <th>4</th>\n",
       "      <td>49</td>\n",
       "      <td>android</td>\n",
       "      <td>male</td>\n",
       "      <td>tur</td>\n",
       "      <td>17</td>\n",
       "    </tr>\n",
       "  </tbody>\n",
       "</table>\n",
       "</div>"
      ],
      "text/plain": [
       "   PRICE   SOURCE   SEX COUNTRY  AGE\n",
       "0     39  android  male     bra   17\n",
       "1     39  android  male     bra   17\n",
       "2     49  android  male     bra   17\n",
       "3     29  android  male     tur   17\n",
       "4     49  android  male     tur   17"
      ]
     },
     "execution_count": 748,
     "metadata": {},
     "output_type": "execute_result"
    }
   ],
   "source": [
    "df.head()"
   ]
  },
  {
   "cell_type": "markdown",
   "id": "18fc4f7e",
   "metadata": {},
   "source": [
    "### Soru 2: Kaç unique SOURCE vardır? Frekansları nedir?"
   ]
  },
  {
   "cell_type": "code",
   "execution_count": 749,
   "id": "fa0443cd",
   "metadata": {},
   "outputs": [
    {
     "data": {
      "text/plain": [
       "2"
      ]
     },
     "execution_count": 749,
     "metadata": {},
     "output_type": "execute_result"
    }
   ],
   "source": [
    "df[\"SOURCE\"].nunique()"
   ]
  },
  {
   "cell_type": "code",
   "execution_count": 750,
   "id": "a251b338",
   "metadata": {},
   "outputs": [
    {
     "data": {
      "text/html": [
       "<div>\n",
       "<style scoped>\n",
       "    .dataframe tbody tr th:only-of-type {\n",
       "        vertical-align: middle;\n",
       "    }\n",
       "\n",
       "    .dataframe tbody tr th {\n",
       "        vertical-align: top;\n",
       "    }\n",
       "\n",
       "    .dataframe thead th {\n",
       "        text-align: right;\n",
       "    }\n",
       "</style>\n",
       "<table border=\"1\" class=\"dataframe\">\n",
       "  <thead>\n",
       "    <tr style=\"text-align: right;\">\n",
       "      <th></th>\n",
       "      <th>SOURCE</th>\n",
       "    </tr>\n",
       "  </thead>\n",
       "  <tbody>\n",
       "    <tr>\n",
       "      <th>android</th>\n",
       "      <td>2974</td>\n",
       "    </tr>\n",
       "    <tr>\n",
       "      <th>ios</th>\n",
       "      <td>2026</td>\n",
       "    </tr>\n",
       "  </tbody>\n",
       "</table>\n",
       "</div>"
      ],
      "text/plain": [
       "         SOURCE\n",
       "android    2974\n",
       "ios        2026"
      ]
     },
     "execution_count": 750,
     "metadata": {},
     "output_type": "execute_result"
    }
   ],
   "source": [
    "pd.DataFrame(df[\"SOURCE\"].value_counts())"
   ]
  },
  {
   "cell_type": "markdown",
   "id": "1ce8a565",
   "metadata": {},
   "source": [
    "### Soru 3: Kaç unique PRICE vardır?"
   ]
  },
  {
   "cell_type": "code",
   "execution_count": 751,
   "id": "f8ae3af6",
   "metadata": {
    "scrolled": false
   },
   "outputs": [
    {
     "data": {
      "text/plain": [
       "6"
      ]
     },
     "execution_count": 751,
     "metadata": {},
     "output_type": "execute_result"
    }
   ],
   "source": [
    "df[\"PRICE\"].nunique()"
   ]
  },
  {
   "cell_type": "markdown",
   "id": "5aa2668d",
   "metadata": {},
   "source": [
    "### Soru 4: Hangi PRICE'dan kaçar tane satış gerçekleşmiş?"
   ]
  },
  {
   "cell_type": "code",
   "execution_count": 752,
   "id": "57f6505d",
   "metadata": {
    "scrolled": true
   },
   "outputs": [
    {
     "data": {
      "text/html": [
       "<div>\n",
       "<style scoped>\n",
       "    .dataframe tbody tr th:only-of-type {\n",
       "        vertical-align: middle;\n",
       "    }\n",
       "\n",
       "    .dataframe tbody tr th {\n",
       "        vertical-align: top;\n",
       "    }\n",
       "\n",
       "    .dataframe thead th {\n",
       "        text-align: right;\n",
       "    }\n",
       "</style>\n",
       "<table border=\"1\" class=\"dataframe\">\n",
       "  <thead>\n",
       "    <tr style=\"text-align: right;\">\n",
       "      <th></th>\n",
       "      <th>PRICE</th>\n",
       "    </tr>\n",
       "  </thead>\n",
       "  <tbody>\n",
       "    <tr>\n",
       "      <th>29</th>\n",
       "      <td>1305</td>\n",
       "    </tr>\n",
       "    <tr>\n",
       "      <th>39</th>\n",
       "      <td>1260</td>\n",
       "    </tr>\n",
       "    <tr>\n",
       "      <th>49</th>\n",
       "      <td>1031</td>\n",
       "    </tr>\n",
       "    <tr>\n",
       "      <th>19</th>\n",
       "      <td>992</td>\n",
       "    </tr>\n",
       "    <tr>\n",
       "      <th>59</th>\n",
       "      <td>212</td>\n",
       "    </tr>\n",
       "    <tr>\n",
       "      <th>9</th>\n",
       "      <td>200</td>\n",
       "    </tr>\n",
       "  </tbody>\n",
       "</table>\n",
       "</div>"
      ],
      "text/plain": [
       "    PRICE\n",
       "29   1305\n",
       "39   1260\n",
       "49   1031\n",
       "19    992\n",
       "59    212\n",
       "9     200"
      ]
     },
     "execution_count": 752,
     "metadata": {},
     "output_type": "execute_result"
    }
   ],
   "source": [
    "pd.DataFrame(df[\"PRICE\"].value_counts())"
   ]
  },
  {
   "cell_type": "markdown",
   "id": "112e7ad5",
   "metadata": {},
   "source": [
    "### Soru 5: Hangi ülkeden kaçar tane satış olmuş?"
   ]
  },
  {
   "cell_type": "code",
   "execution_count": 753,
   "id": "431e2b15",
   "metadata": {},
   "outputs": [
    {
     "data": {
      "text/html": [
       "<div>\n",
       "<style scoped>\n",
       "    .dataframe tbody tr th:only-of-type {\n",
       "        vertical-align: middle;\n",
       "    }\n",
       "\n",
       "    .dataframe tbody tr th {\n",
       "        vertical-align: top;\n",
       "    }\n",
       "\n",
       "    .dataframe thead th {\n",
       "        text-align: right;\n",
       "    }\n",
       "</style>\n",
       "<table border=\"1\" class=\"dataframe\">\n",
       "  <thead>\n",
       "    <tr style=\"text-align: right;\">\n",
       "      <th></th>\n",
       "      <th>COUNTRY</th>\n",
       "    </tr>\n",
       "  </thead>\n",
       "  <tbody>\n",
       "    <tr>\n",
       "      <th>usa</th>\n",
       "      <td>2065</td>\n",
       "    </tr>\n",
       "    <tr>\n",
       "      <th>bra</th>\n",
       "      <td>1496</td>\n",
       "    </tr>\n",
       "    <tr>\n",
       "      <th>deu</th>\n",
       "      <td>455</td>\n",
       "    </tr>\n",
       "    <tr>\n",
       "      <th>tur</th>\n",
       "      <td>451</td>\n",
       "    </tr>\n",
       "    <tr>\n",
       "      <th>fra</th>\n",
       "      <td>303</td>\n",
       "    </tr>\n",
       "    <tr>\n",
       "      <th>can</th>\n",
       "      <td>230</td>\n",
       "    </tr>\n",
       "  </tbody>\n",
       "</table>\n",
       "</div>"
      ],
      "text/plain": [
       "     COUNTRY\n",
       "usa     2065\n",
       "bra     1496\n",
       "deu      455\n",
       "tur      451\n",
       "fra      303\n",
       "can      230"
      ]
     },
     "execution_count": 753,
     "metadata": {},
     "output_type": "execute_result"
    }
   ],
   "source": [
    "pd.DataFrame(df[\"COUNTRY\"].value_counts())"
   ]
  },
  {
   "cell_type": "markdown",
   "id": "af74310c",
   "metadata": {},
   "source": [
    "### Soru 6: Ülkelere göre satışlardan toplam ne kadar kazanılmış?"
   ]
  },
  {
   "cell_type": "code",
   "execution_count": 754,
   "id": "aff890aa",
   "metadata": {},
   "outputs": [
    {
     "data": {
      "text/html": [
       "<div>\n",
       "<style scoped>\n",
       "    .dataframe tbody tr th:only-of-type {\n",
       "        vertical-align: middle;\n",
       "    }\n",
       "\n",
       "    .dataframe tbody tr th {\n",
       "        vertical-align: top;\n",
       "    }\n",
       "\n",
       "    .dataframe thead th {\n",
       "        text-align: right;\n",
       "    }\n",
       "</style>\n",
       "<table border=\"1\" class=\"dataframe\">\n",
       "  <thead>\n",
       "    <tr style=\"text-align: right;\">\n",
       "      <th></th>\n",
       "      <th>PRICE</th>\n",
       "    </tr>\n",
       "    <tr>\n",
       "      <th>COUNTRY</th>\n",
       "      <th></th>\n",
       "    </tr>\n",
       "  </thead>\n",
       "  <tbody>\n",
       "    <tr>\n",
       "      <th>bra</th>\n",
       "      <td>51354</td>\n",
       "    </tr>\n",
       "    <tr>\n",
       "      <th>can</th>\n",
       "      <td>7730</td>\n",
       "    </tr>\n",
       "    <tr>\n",
       "      <th>deu</th>\n",
       "      <td>15485</td>\n",
       "    </tr>\n",
       "    <tr>\n",
       "      <th>fra</th>\n",
       "      <td>10177</td>\n",
       "    </tr>\n",
       "    <tr>\n",
       "      <th>tur</th>\n",
       "      <td>15689</td>\n",
       "    </tr>\n",
       "    <tr>\n",
       "      <th>usa</th>\n",
       "      <td>70225</td>\n",
       "    </tr>\n",
       "  </tbody>\n",
       "</table>\n",
       "</div>"
      ],
      "text/plain": [
       "         PRICE\n",
       "COUNTRY       \n",
       "bra      51354\n",
       "can       7730\n",
       "deu      15485\n",
       "fra      10177\n",
       "tur      15689\n",
       "usa      70225"
      ]
     },
     "execution_count": 754,
     "metadata": {},
     "output_type": "execute_result"
    }
   ],
   "source": [
    "pd.DataFrame(df.groupby([\"COUNTRY\"])[\"PRICE\"].sum())"
   ]
  },
  {
   "cell_type": "markdown",
   "id": "ce9d277b",
   "metadata": {},
   "source": [
    "### Soru 7: SOURCE türlerine göre satış sayıları nedir?"
   ]
  },
  {
   "cell_type": "code",
   "execution_count": 755,
   "id": "f5cddb36",
   "metadata": {},
   "outputs": [
    {
     "data": {
      "text/html": [
       "<div>\n",
       "<style scoped>\n",
       "    .dataframe tbody tr th:only-of-type {\n",
       "        vertical-align: middle;\n",
       "    }\n",
       "\n",
       "    .dataframe tbody tr th {\n",
       "        vertical-align: top;\n",
       "    }\n",
       "\n",
       "    .dataframe thead th {\n",
       "        text-align: right;\n",
       "    }\n",
       "</style>\n",
       "<table border=\"1\" class=\"dataframe\">\n",
       "  <thead>\n",
       "    <tr style=\"text-align: right;\">\n",
       "      <th></th>\n",
       "      <th>PRICE</th>\n",
       "    </tr>\n",
       "    <tr>\n",
       "      <th>SOURCE</th>\n",
       "      <th></th>\n",
       "    </tr>\n",
       "  </thead>\n",
       "  <tbody>\n",
       "    <tr>\n",
       "      <th>android</th>\n",
       "      <td>101636</td>\n",
       "    </tr>\n",
       "    <tr>\n",
       "      <th>ios</th>\n",
       "      <td>69024</td>\n",
       "    </tr>\n",
       "  </tbody>\n",
       "</table>\n",
       "</div>"
      ],
      "text/plain": [
       "          PRICE\n",
       "SOURCE         \n",
       "android  101636\n",
       "ios       69024"
      ]
     },
     "execution_count": 755,
     "metadata": {},
     "output_type": "execute_result"
    }
   ],
   "source": [
    "pd.DataFrame(df.groupby([\"SOURCE\"])[\"PRICE\"].sum())"
   ]
  },
  {
   "cell_type": "markdown",
   "id": "35ee97bb",
   "metadata": {},
   "source": [
    "### Soru 8: Ülkelere göre PRICE ortalamaları nedir?"
   ]
  },
  {
   "cell_type": "code",
   "execution_count": 756,
   "id": "f2d31c2c",
   "metadata": {},
   "outputs": [
    {
     "data": {
      "text/html": [
       "<div>\n",
       "<style scoped>\n",
       "    .dataframe tbody tr th:only-of-type {\n",
       "        vertical-align: middle;\n",
       "    }\n",
       "\n",
       "    .dataframe tbody tr th {\n",
       "        vertical-align: top;\n",
       "    }\n",
       "\n",
       "    .dataframe thead th {\n",
       "        text-align: right;\n",
       "    }\n",
       "</style>\n",
       "<table border=\"1\" class=\"dataframe\">\n",
       "  <thead>\n",
       "    <tr style=\"text-align: right;\">\n",
       "      <th></th>\n",
       "      <th>PRICE</th>\n",
       "    </tr>\n",
       "    <tr>\n",
       "      <th>COUNTRY</th>\n",
       "      <th></th>\n",
       "    </tr>\n",
       "  </thead>\n",
       "  <tbody>\n",
       "    <tr>\n",
       "      <th>bra</th>\n",
       "      <td>34.327540</td>\n",
       "    </tr>\n",
       "    <tr>\n",
       "      <th>can</th>\n",
       "      <td>33.608696</td>\n",
       "    </tr>\n",
       "    <tr>\n",
       "      <th>deu</th>\n",
       "      <td>34.032967</td>\n",
       "    </tr>\n",
       "    <tr>\n",
       "      <th>fra</th>\n",
       "      <td>33.587459</td>\n",
       "    </tr>\n",
       "    <tr>\n",
       "      <th>tur</th>\n",
       "      <td>34.787140</td>\n",
       "    </tr>\n",
       "    <tr>\n",
       "      <th>usa</th>\n",
       "      <td>34.007264</td>\n",
       "    </tr>\n",
       "  </tbody>\n",
       "</table>\n",
       "</div>"
      ],
      "text/plain": [
       "             PRICE\n",
       "COUNTRY           \n",
       "bra      34.327540\n",
       "can      33.608696\n",
       "deu      34.032967\n",
       "fra      33.587459\n",
       "tur      34.787140\n",
       "usa      34.007264"
      ]
     },
     "execution_count": 756,
     "metadata": {},
     "output_type": "execute_result"
    }
   ],
   "source": [
    "pd.DataFrame(df.groupby([\"COUNTRY\"])[\"PRICE\"].mean())"
   ]
  },
  {
   "cell_type": "markdown",
   "id": "3d7cac54",
   "metadata": {},
   "source": [
    "### Soru 9: SOURCE'lara göre PRICE ortalamaları nedir?"
   ]
  },
  {
   "cell_type": "code",
   "execution_count": 757,
   "id": "e46e849f",
   "metadata": {},
   "outputs": [
    {
     "data": {
      "text/html": [
       "<div>\n",
       "<style scoped>\n",
       "    .dataframe tbody tr th:only-of-type {\n",
       "        vertical-align: middle;\n",
       "    }\n",
       "\n",
       "    .dataframe tbody tr th {\n",
       "        vertical-align: top;\n",
       "    }\n",
       "\n",
       "    .dataframe thead th {\n",
       "        text-align: right;\n",
       "    }\n",
       "</style>\n",
       "<table border=\"1\" class=\"dataframe\">\n",
       "  <thead>\n",
       "    <tr style=\"text-align: right;\">\n",
       "      <th></th>\n",
       "      <th>PRICE</th>\n",
       "    </tr>\n",
       "    <tr>\n",
       "      <th>SOURCE</th>\n",
       "      <th></th>\n",
       "    </tr>\n",
       "  </thead>\n",
       "  <tbody>\n",
       "    <tr>\n",
       "      <th>android</th>\n",
       "      <td>34.174849</td>\n",
       "    </tr>\n",
       "    <tr>\n",
       "      <th>ios</th>\n",
       "      <td>34.069102</td>\n",
       "    </tr>\n",
       "  </tbody>\n",
       "</table>\n",
       "</div>"
      ],
      "text/plain": [
       "             PRICE\n",
       "SOURCE            \n",
       "android  34.174849\n",
       "ios      34.069102"
      ]
     },
     "execution_count": 757,
     "metadata": {},
     "output_type": "execute_result"
    }
   ],
   "source": [
    "pd.DataFrame(df.groupby([\"SOURCE\"])[\"PRICE\"].mean())"
   ]
  },
  {
   "cell_type": "markdown",
   "id": "fdf65b18",
   "metadata": {},
   "source": [
    "### Soru 10: COUNTRY-SOURCE kırılımında PRICE ortalamaları nedir?"
   ]
  },
  {
   "cell_type": "code",
   "execution_count": 758,
   "id": "6b3f6a61",
   "metadata": {},
   "outputs": [
    {
     "data": {
      "text/html": [
       "<div>\n",
       "<style scoped>\n",
       "    .dataframe tbody tr th:only-of-type {\n",
       "        vertical-align: middle;\n",
       "    }\n",
       "\n",
       "    .dataframe tbody tr th {\n",
       "        vertical-align: top;\n",
       "    }\n",
       "\n",
       "    .dataframe thead th {\n",
       "        text-align: right;\n",
       "    }\n",
       "</style>\n",
       "<table border=\"1\" class=\"dataframe\">\n",
       "  <thead>\n",
       "    <tr style=\"text-align: right;\">\n",
       "      <th></th>\n",
       "      <th></th>\n",
       "      <th>PRICE</th>\n",
       "    </tr>\n",
       "    <tr>\n",
       "      <th>COUNTRY</th>\n",
       "      <th>SOURCE</th>\n",
       "      <th></th>\n",
       "    </tr>\n",
       "  </thead>\n",
       "  <tbody>\n",
       "    <tr>\n",
       "      <th rowspan=\"2\" valign=\"top\">bra</th>\n",
       "      <th>android</th>\n",
       "      <td>34.387029</td>\n",
       "    </tr>\n",
       "    <tr>\n",
       "      <th>ios</th>\n",
       "      <td>34.222222</td>\n",
       "    </tr>\n",
       "    <tr>\n",
       "      <th rowspan=\"2\" valign=\"top\">can</th>\n",
       "      <th>android</th>\n",
       "      <td>33.330709</td>\n",
       "    </tr>\n",
       "    <tr>\n",
       "      <th>ios</th>\n",
       "      <td>33.951456</td>\n",
       "    </tr>\n",
       "    <tr>\n",
       "      <th rowspan=\"2\" valign=\"top\">deu</th>\n",
       "      <th>android</th>\n",
       "      <td>33.869888</td>\n",
       "    </tr>\n",
       "    <tr>\n",
       "      <th>ios</th>\n",
       "      <td>34.268817</td>\n",
       "    </tr>\n",
       "    <tr>\n",
       "      <th rowspan=\"2\" valign=\"top\">fra</th>\n",
       "      <th>android</th>\n",
       "      <td>34.312500</td>\n",
       "    </tr>\n",
       "    <tr>\n",
       "      <th>ios</th>\n",
       "      <td>32.776224</td>\n",
       "    </tr>\n",
       "    <tr>\n",
       "      <th rowspan=\"2\" valign=\"top\">tur</th>\n",
       "      <th>android</th>\n",
       "      <td>36.229437</td>\n",
       "    </tr>\n",
       "    <tr>\n",
       "      <th>ios</th>\n",
       "      <td>33.272727</td>\n",
       "    </tr>\n",
       "    <tr>\n",
       "      <th rowspan=\"2\" valign=\"top\">usa</th>\n",
       "      <th>android</th>\n",
       "      <td>33.760357</td>\n",
       "    </tr>\n",
       "    <tr>\n",
       "      <th>ios</th>\n",
       "      <td>34.371703</td>\n",
       "    </tr>\n",
       "  </tbody>\n",
       "</table>\n",
       "</div>"
      ],
      "text/plain": [
       "                     PRICE\n",
       "COUNTRY SOURCE            \n",
       "bra     android  34.387029\n",
       "        ios      34.222222\n",
       "can     android  33.330709\n",
       "        ios      33.951456\n",
       "deu     android  33.869888\n",
       "        ios      34.268817\n",
       "fra     android  34.312500\n",
       "        ios      32.776224\n",
       "tur     android  36.229437\n",
       "        ios      33.272727\n",
       "usa     android  33.760357\n",
       "        ios      34.371703"
      ]
     },
     "execution_count": 758,
     "metadata": {},
     "output_type": "execute_result"
    }
   ],
   "source": [
    "pd.DataFrame(df.groupby([\"COUNTRY\", \"SOURCE\"])[\"PRICE\"].mean())"
   ]
  },
  {
   "cell_type": "markdown",
   "id": "c53b8711",
   "metadata": {},
   "source": [
    "## Görev 2:"
   ]
  },
  {
   "cell_type": "markdown",
   "id": "5974ed1c",
   "metadata": {},
   "source": [
    "### COUNTRY, SOURCE, SEX, AGE kırılımında ortalama kazançlar nedir?"
   ]
  },
  {
   "cell_type": "code",
   "execution_count": 759,
   "id": "def9954d",
   "metadata": {},
   "outputs": [
    {
     "data": {
      "text/html": [
       "<div>\n",
       "<style scoped>\n",
       "    .dataframe tbody tr th:only-of-type {\n",
       "        vertical-align: middle;\n",
       "    }\n",
       "\n",
       "    .dataframe tbody tr th {\n",
       "        vertical-align: top;\n",
       "    }\n",
       "\n",
       "    .dataframe thead th {\n",
       "        text-align: right;\n",
       "    }\n",
       "</style>\n",
       "<table border=\"1\" class=\"dataframe\">\n",
       "  <thead>\n",
       "    <tr style=\"text-align: right;\">\n",
       "      <th></th>\n",
       "      <th></th>\n",
       "      <th></th>\n",
       "      <th></th>\n",
       "      <th>PRICE</th>\n",
       "    </tr>\n",
       "    <tr>\n",
       "      <th>COUNTRY</th>\n",
       "      <th>SOURCE</th>\n",
       "      <th>SEX</th>\n",
       "      <th>AGE</th>\n",
       "      <th></th>\n",
       "    </tr>\n",
       "  </thead>\n",
       "  <tbody>\n",
       "    <tr>\n",
       "      <th rowspan=\"8\" valign=\"top\">bra</th>\n",
       "      <th rowspan=\"8\" valign=\"top\">android</th>\n",
       "      <th rowspan=\"8\" valign=\"top\">female</th>\n",
       "      <th>15</th>\n",
       "      <td>38.714286</td>\n",
       "    </tr>\n",
       "    <tr>\n",
       "      <th>16</th>\n",
       "      <td>35.944444</td>\n",
       "    </tr>\n",
       "    <tr>\n",
       "      <th>17</th>\n",
       "      <td>35.666667</td>\n",
       "    </tr>\n",
       "    <tr>\n",
       "      <th>18</th>\n",
       "      <td>32.255814</td>\n",
       "    </tr>\n",
       "    <tr>\n",
       "      <th>19</th>\n",
       "      <td>35.206897</td>\n",
       "    </tr>\n",
       "    <tr>\n",
       "      <th>20</th>\n",
       "      <td>31.000000</td>\n",
       "    </tr>\n",
       "    <tr>\n",
       "      <th>21</th>\n",
       "      <td>37.292683</td>\n",
       "    </tr>\n",
       "    <tr>\n",
       "      <th>22</th>\n",
       "      <td>34.945946</td>\n",
       "    </tr>\n",
       "  </tbody>\n",
       "</table>\n",
       "</div>"
      ],
      "text/plain": [
       "                                PRICE\n",
       "COUNTRY SOURCE  SEX    AGE           \n",
       "bra     android female 15   38.714286\n",
       "                       16   35.944444\n",
       "                       17   35.666667\n",
       "                       18   32.255814\n",
       "                       19   35.206897\n",
       "                       20   31.000000\n",
       "                       21   37.292683\n",
       "                       22   34.945946"
      ]
     },
     "execution_count": 759,
     "metadata": {},
     "output_type": "execute_result"
    }
   ],
   "source": [
    "pd.DataFrame(df.groupby([\"COUNTRY\", \"SOURCE\", \"SEX\", \"AGE\"])[\"PRICE\"].mean()).head(8)"
   ]
  },
  {
   "cell_type": "markdown",
   "id": "13fb82f2",
   "metadata": {},
   "source": [
    "## Görev 3:"
   ]
  },
  {
   "cell_type": "markdown",
   "id": "bfb9d583",
   "metadata": {},
   "source": [
    "### Çıktıyı PRICE'a göre sıralayınız."
   ]
  },
  {
   "cell_type": "code",
   "execution_count": 760,
   "id": "7a405879",
   "metadata": {},
   "outputs": [
    {
     "data": {
      "text/html": [
       "<div>\n",
       "<style scoped>\n",
       "    .dataframe tbody tr th:only-of-type {\n",
       "        vertical-align: middle;\n",
       "    }\n",
       "\n",
       "    .dataframe tbody tr th {\n",
       "        vertical-align: top;\n",
       "    }\n",
       "\n",
       "    .dataframe thead th {\n",
       "        text-align: right;\n",
       "    }\n",
       "</style>\n",
       "<table border=\"1\" class=\"dataframe\">\n",
       "  <thead>\n",
       "    <tr style=\"text-align: right;\">\n",
       "      <th></th>\n",
       "      <th></th>\n",
       "      <th></th>\n",
       "      <th></th>\n",
       "      <th>PRICE</th>\n",
       "    </tr>\n",
       "    <tr>\n",
       "      <th>COUNTRY</th>\n",
       "      <th>SOURCE</th>\n",
       "      <th>SEX</th>\n",
       "      <th>AGE</th>\n",
       "      <th></th>\n",
       "    </tr>\n",
       "  </thead>\n",
       "  <tbody>\n",
       "    <tr>\n",
       "      <th>bra</th>\n",
       "      <th>android</th>\n",
       "      <th>male</th>\n",
       "      <th>46</th>\n",
       "      <td>59.0</td>\n",
       "    </tr>\n",
       "    <tr>\n",
       "      <th>usa</th>\n",
       "      <th>android</th>\n",
       "      <th>male</th>\n",
       "      <th>36</th>\n",
       "      <td>59.0</td>\n",
       "    </tr>\n",
       "    <tr>\n",
       "      <th>fra</th>\n",
       "      <th>android</th>\n",
       "      <th>female</th>\n",
       "      <th>24</th>\n",
       "      <td>59.0</td>\n",
       "    </tr>\n",
       "    <tr>\n",
       "      <th>usa</th>\n",
       "      <th>ios</th>\n",
       "      <th>male</th>\n",
       "      <th>32</th>\n",
       "      <td>54.0</td>\n",
       "    </tr>\n",
       "    <tr>\n",
       "      <th>deu</th>\n",
       "      <th>android</th>\n",
       "      <th>female</th>\n",
       "      <th>36</th>\n",
       "      <td>49.0</td>\n",
       "    </tr>\n",
       "  </tbody>\n",
       "</table>\n",
       "</div>"
      ],
      "text/plain": [
       "                            PRICE\n",
       "COUNTRY SOURCE  SEX    AGE       \n",
       "bra     android male   46    59.0\n",
       "usa     android male   36    59.0\n",
       "fra     android female 24    59.0\n",
       "usa     ios     male   32    54.0\n",
       "deu     android female 36    49.0"
      ]
     },
     "execution_count": 760,
     "metadata": {},
     "output_type": "execute_result"
    }
   ],
   "source": [
    "agg_df = pd.DataFrame(df.groupby([\"COUNTRY\", \"SOURCE\", \"SEX\", \"AGE\"])[\"PRICE\"].mean()).sort_values(\"PRICE\", ascending=False)\n",
    "agg_df.head()"
   ]
  },
  {
   "cell_type": "markdown",
   "id": "1be2b409",
   "metadata": {},
   "source": [
    "## Görev 4:"
   ]
  },
  {
   "cell_type": "markdown",
   "id": "cc4b52b6",
   "metadata": {},
   "source": [
    "### Index’te yer alan isimleri değişken ismine çeviriniz."
   ]
  },
  {
   "cell_type": "code",
   "execution_count": 761,
   "id": "31554e1e",
   "metadata": {},
   "outputs": [],
   "source": [
    "agg_df.reset_index(inplace=True)"
   ]
  },
  {
   "cell_type": "code",
   "execution_count": 762,
   "id": "27556de2",
   "metadata": {
    "scrolled": true
   },
   "outputs": [
    {
     "data": {
      "text/html": [
       "<div>\n",
       "<style scoped>\n",
       "    .dataframe tbody tr th:only-of-type {\n",
       "        vertical-align: middle;\n",
       "    }\n",
       "\n",
       "    .dataframe tbody tr th {\n",
       "        vertical-align: top;\n",
       "    }\n",
       "\n",
       "    .dataframe thead th {\n",
       "        text-align: right;\n",
       "    }\n",
       "</style>\n",
       "<table border=\"1\" class=\"dataframe\">\n",
       "  <thead>\n",
       "    <tr style=\"text-align: right;\">\n",
       "      <th></th>\n",
       "      <th>COUNTRY</th>\n",
       "      <th>SOURCE</th>\n",
       "      <th>SEX</th>\n",
       "      <th>AGE</th>\n",
       "      <th>PRICE</th>\n",
       "    </tr>\n",
       "  </thead>\n",
       "  <tbody>\n",
       "    <tr>\n",
       "      <th>0</th>\n",
       "      <td>bra</td>\n",
       "      <td>android</td>\n",
       "      <td>male</td>\n",
       "      <td>46</td>\n",
       "      <td>59.0</td>\n",
       "    </tr>\n",
       "    <tr>\n",
       "      <th>1</th>\n",
       "      <td>usa</td>\n",
       "      <td>android</td>\n",
       "      <td>male</td>\n",
       "      <td>36</td>\n",
       "      <td>59.0</td>\n",
       "    </tr>\n",
       "    <tr>\n",
       "      <th>2</th>\n",
       "      <td>fra</td>\n",
       "      <td>android</td>\n",
       "      <td>female</td>\n",
       "      <td>24</td>\n",
       "      <td>59.0</td>\n",
       "    </tr>\n",
       "    <tr>\n",
       "      <th>3</th>\n",
       "      <td>usa</td>\n",
       "      <td>ios</td>\n",
       "      <td>male</td>\n",
       "      <td>32</td>\n",
       "      <td>54.0</td>\n",
       "    </tr>\n",
       "    <tr>\n",
       "      <th>4</th>\n",
       "      <td>deu</td>\n",
       "      <td>android</td>\n",
       "      <td>female</td>\n",
       "      <td>36</td>\n",
       "      <td>49.0</td>\n",
       "    </tr>\n",
       "  </tbody>\n",
       "</table>\n",
       "</div>"
      ],
      "text/plain": [
       "  COUNTRY   SOURCE     SEX  AGE  PRICE\n",
       "0     bra  android    male   46   59.0\n",
       "1     usa  android    male   36   59.0\n",
       "2     fra  android  female   24   59.0\n",
       "3     usa      ios    male   32   54.0\n",
       "4     deu  android  female   36   49.0"
      ]
     },
     "execution_count": 762,
     "metadata": {},
     "output_type": "execute_result"
    }
   ],
   "source": [
    "agg_df.head()"
   ]
  },
  {
   "cell_type": "markdown",
   "id": "506d1d2b",
   "metadata": {},
   "source": [
    "## Görev 5: "
   ]
  },
  {
   "cell_type": "markdown",
   "id": "1049cfd1",
   "metadata": {},
   "source": [
    "### age değişkenini kategorik değişkene çeviriniz ve agg_df’e ekleyiniz."
   ]
  },
  {
   "cell_type": "code",
   "execution_count": 763,
   "id": "910fb24b",
   "metadata": {},
   "outputs": [],
   "source": [
    "agg_df[\"AGE_CAT\"] = pd.cut(agg_df.AGE, bins=[0, 18, 23, 30, 40, 70], labels=['0_18','19_23','24_30','31_40', '41_70'])"
   ]
  },
  {
   "cell_type": "code",
   "execution_count": 764,
   "id": "52dc9b5e",
   "metadata": {},
   "outputs": [
    {
     "data": {
      "text/html": [
       "<div>\n",
       "<style scoped>\n",
       "    .dataframe tbody tr th:only-of-type {\n",
       "        vertical-align: middle;\n",
       "    }\n",
       "\n",
       "    .dataframe tbody tr th {\n",
       "        vertical-align: top;\n",
       "    }\n",
       "\n",
       "    .dataframe thead th {\n",
       "        text-align: right;\n",
       "    }\n",
       "</style>\n",
       "<table border=\"1\" class=\"dataframe\">\n",
       "  <thead>\n",
       "    <tr style=\"text-align: right;\">\n",
       "      <th></th>\n",
       "      <th>COUNTRY</th>\n",
       "      <th>SOURCE</th>\n",
       "      <th>SEX</th>\n",
       "      <th>AGE</th>\n",
       "      <th>PRICE</th>\n",
       "      <th>AGE_CAT</th>\n",
       "    </tr>\n",
       "  </thead>\n",
       "  <tbody>\n",
       "    <tr>\n",
       "      <th>0</th>\n",
       "      <td>bra</td>\n",
       "      <td>android</td>\n",
       "      <td>male</td>\n",
       "      <td>46</td>\n",
       "      <td>59.0</td>\n",
       "      <td>41_70</td>\n",
       "    </tr>\n",
       "    <tr>\n",
       "      <th>1</th>\n",
       "      <td>usa</td>\n",
       "      <td>android</td>\n",
       "      <td>male</td>\n",
       "      <td>36</td>\n",
       "      <td>59.0</td>\n",
       "      <td>31_40</td>\n",
       "    </tr>\n",
       "    <tr>\n",
       "      <th>2</th>\n",
       "      <td>fra</td>\n",
       "      <td>android</td>\n",
       "      <td>female</td>\n",
       "      <td>24</td>\n",
       "      <td>59.0</td>\n",
       "      <td>24_30</td>\n",
       "    </tr>\n",
       "    <tr>\n",
       "      <th>3</th>\n",
       "      <td>usa</td>\n",
       "      <td>ios</td>\n",
       "      <td>male</td>\n",
       "      <td>32</td>\n",
       "      <td>54.0</td>\n",
       "      <td>31_40</td>\n",
       "    </tr>\n",
       "    <tr>\n",
       "      <th>4</th>\n",
       "      <td>deu</td>\n",
       "      <td>android</td>\n",
       "      <td>female</td>\n",
       "      <td>36</td>\n",
       "      <td>49.0</td>\n",
       "      <td>31_40</td>\n",
       "    </tr>\n",
       "  </tbody>\n",
       "</table>\n",
       "</div>"
      ],
      "text/plain": [
       "  COUNTRY   SOURCE     SEX  AGE  PRICE AGE_CAT\n",
       "0     bra  android    male   46   59.0   41_70\n",
       "1     usa  android    male   36   59.0   31_40\n",
       "2     fra  android  female   24   59.0   24_30\n",
       "3     usa      ios    male   32   54.0   31_40\n",
       "4     deu  android  female   36   49.0   31_40"
      ]
     },
     "execution_count": 764,
     "metadata": {},
     "output_type": "execute_result"
    }
   ],
   "source": [
    "agg_df.head()"
   ]
  },
  {
   "cell_type": "markdown",
   "id": "cc32895e",
   "metadata": {},
   "source": [
    "## Görev 6: "
   ]
  },
  {
   "cell_type": "markdown",
   "id": "b5bd46ce",
   "metadata": {},
   "source": [
    "### Yeni seviye tabanlı müşterileri (persona) tanımlayınız."
   ]
  },
  {
   "cell_type": "code",
   "execution_count": 765,
   "id": "7517a6e1",
   "metadata": {},
   "outputs": [],
   "source": [
    "values_fancy = [str(row[0]).upper() +\"_\"+ str(row[1]).upper() +\"_\"+ str(row[2]).upper() +\"_\"+ str(row[5]) for row in agg_df.values]\n",
    "\n",
    "customer_level_based = pd.DataFrame(np.array(values_fancy))\n",
    "\n",
    "agg_df.insert(0, \"customer_level_based\", customer_level_based)\n"
   ]
  },
  {
   "cell_type": "code",
   "execution_count": 766,
   "id": "9aca5228",
   "metadata": {},
   "outputs": [
    {
     "data": {
      "text/html": [
       "<div>\n",
       "<style scoped>\n",
       "    .dataframe tbody tr th:only-of-type {\n",
       "        vertical-align: middle;\n",
       "    }\n",
       "\n",
       "    .dataframe tbody tr th {\n",
       "        vertical-align: top;\n",
       "    }\n",
       "\n",
       "    .dataframe thead th {\n",
       "        text-align: right;\n",
       "    }\n",
       "</style>\n",
       "<table border=\"1\" class=\"dataframe\">\n",
       "  <thead>\n",
       "    <tr style=\"text-align: right;\">\n",
       "      <th></th>\n",
       "      <th>customer_level_based</th>\n",
       "      <th>COUNTRY</th>\n",
       "      <th>SOURCE</th>\n",
       "      <th>SEX</th>\n",
       "      <th>AGE</th>\n",
       "      <th>PRICE</th>\n",
       "      <th>AGE_CAT</th>\n",
       "    </tr>\n",
       "  </thead>\n",
       "  <tbody>\n",
       "    <tr>\n",
       "      <th>0</th>\n",
       "      <td>BRA_ANDROID_MALE_41_70</td>\n",
       "      <td>bra</td>\n",
       "      <td>android</td>\n",
       "      <td>male</td>\n",
       "      <td>46</td>\n",
       "      <td>59.0</td>\n",
       "      <td>41_70</td>\n",
       "    </tr>\n",
       "    <tr>\n",
       "      <th>1</th>\n",
       "      <td>USA_ANDROID_MALE_31_40</td>\n",
       "      <td>usa</td>\n",
       "      <td>android</td>\n",
       "      <td>male</td>\n",
       "      <td>36</td>\n",
       "      <td>59.0</td>\n",
       "      <td>31_40</td>\n",
       "    </tr>\n",
       "    <tr>\n",
       "      <th>2</th>\n",
       "      <td>FRA_ANDROID_FEMALE_24_30</td>\n",
       "      <td>fra</td>\n",
       "      <td>android</td>\n",
       "      <td>female</td>\n",
       "      <td>24</td>\n",
       "      <td>59.0</td>\n",
       "      <td>24_30</td>\n",
       "    </tr>\n",
       "    <tr>\n",
       "      <th>3</th>\n",
       "      <td>USA_IOS_MALE_31_40</td>\n",
       "      <td>usa</td>\n",
       "      <td>ios</td>\n",
       "      <td>male</td>\n",
       "      <td>32</td>\n",
       "      <td>54.0</td>\n",
       "      <td>31_40</td>\n",
       "    </tr>\n",
       "    <tr>\n",
       "      <th>4</th>\n",
       "      <td>DEU_ANDROID_FEMALE_31_40</td>\n",
       "      <td>deu</td>\n",
       "      <td>android</td>\n",
       "      <td>female</td>\n",
       "      <td>36</td>\n",
       "      <td>49.0</td>\n",
       "      <td>31_40</td>\n",
       "    </tr>\n",
       "  </tbody>\n",
       "</table>\n",
       "</div>"
      ],
      "text/plain": [
       "       customer_level_based COUNTRY   SOURCE     SEX  AGE  PRICE AGE_CAT\n",
       "0    BRA_ANDROID_MALE_41_70     bra  android    male   46   59.0   41_70\n",
       "1    USA_ANDROID_MALE_31_40     usa  android    male   36   59.0   31_40\n",
       "2  FRA_ANDROID_FEMALE_24_30     fra  android  female   24   59.0   24_30\n",
       "3        USA_IOS_MALE_31_40     usa      ios    male   32   54.0   31_40\n",
       "4  DEU_ANDROID_FEMALE_31_40     deu  android  female   36   49.0   31_40"
      ]
     },
     "execution_count": 766,
     "metadata": {},
     "output_type": "execute_result"
    }
   ],
   "source": [
    "agg_df.head()"
   ]
  },
  {
   "cell_type": "code",
   "execution_count": 767,
   "id": "da6d952d",
   "metadata": {},
   "outputs": [],
   "source": [
    "agg_df.drop([\"COUNTRY\",\"SOURCE\", \"SEX\", \"AGE\",\"AGE_CAT\"], axis=1, inplace=True)  "
   ]
  },
  {
   "cell_type": "code",
   "execution_count": 768,
   "id": "46e92102",
   "metadata": {},
   "outputs": [
    {
     "data": {
      "text/html": [
       "<div>\n",
       "<style scoped>\n",
       "    .dataframe tbody tr th:only-of-type {\n",
       "        vertical-align: middle;\n",
       "    }\n",
       "\n",
       "    .dataframe tbody tr th {\n",
       "        vertical-align: top;\n",
       "    }\n",
       "\n",
       "    .dataframe thead th {\n",
       "        text-align: right;\n",
       "    }\n",
       "</style>\n",
       "<table border=\"1\" class=\"dataframe\">\n",
       "  <thead>\n",
       "    <tr style=\"text-align: right;\">\n",
       "      <th></th>\n",
       "      <th>customer_level_based</th>\n",
       "      <th>PRICE</th>\n",
       "    </tr>\n",
       "  </thead>\n",
       "  <tbody>\n",
       "    <tr>\n",
       "      <th>0</th>\n",
       "      <td>BRA_ANDROID_MALE_41_70</td>\n",
       "      <td>59.0</td>\n",
       "    </tr>\n",
       "    <tr>\n",
       "      <th>1</th>\n",
       "      <td>USA_ANDROID_MALE_31_40</td>\n",
       "      <td>59.0</td>\n",
       "    </tr>\n",
       "    <tr>\n",
       "      <th>2</th>\n",
       "      <td>FRA_ANDROID_FEMALE_24_30</td>\n",
       "      <td>59.0</td>\n",
       "    </tr>\n",
       "    <tr>\n",
       "      <th>3</th>\n",
       "      <td>USA_IOS_MALE_31_40</td>\n",
       "      <td>54.0</td>\n",
       "    </tr>\n",
       "    <tr>\n",
       "      <th>4</th>\n",
       "      <td>DEU_ANDROID_FEMALE_31_40</td>\n",
       "      <td>49.0</td>\n",
       "    </tr>\n",
       "    <tr>\n",
       "      <th>5</th>\n",
       "      <td>DEU_ANDROID_FEMALE_41_70</td>\n",
       "      <td>49.0</td>\n",
       "    </tr>\n",
       "    <tr>\n",
       "      <th>6</th>\n",
       "      <td>DEU_IOS_MALE_19_23</td>\n",
       "      <td>49.0</td>\n",
       "    </tr>\n",
       "    <tr>\n",
       "      <th>7</th>\n",
       "      <td>USA_ANDROID_FEMALE_41_70</td>\n",
       "      <td>49.0</td>\n",
       "    </tr>\n",
       "  </tbody>\n",
       "</table>\n",
       "</div>"
      ],
      "text/plain": [
       "       customer_level_based  PRICE\n",
       "0    BRA_ANDROID_MALE_41_70   59.0\n",
       "1    USA_ANDROID_MALE_31_40   59.0\n",
       "2  FRA_ANDROID_FEMALE_24_30   59.0\n",
       "3        USA_IOS_MALE_31_40   54.0\n",
       "4  DEU_ANDROID_FEMALE_31_40   49.0\n",
       "5  DEU_ANDROID_FEMALE_41_70   49.0\n",
       "6        DEU_IOS_MALE_19_23   49.0\n",
       "7  USA_ANDROID_FEMALE_41_70   49.0"
      ]
     },
     "execution_count": 768,
     "metadata": {},
     "output_type": "execute_result"
    }
   ],
   "source": [
    "agg_df.head(8)"
   ]
  },
  {
   "cell_type": "markdown",
   "id": "54e1d479",
   "metadata": {},
   "source": [
    "#### Dikkat! List comprehension ile customers_level_based değerleri oluşturulduktan sonra bu değerlerin tekilleştirilmesi gerekmektedir"
   ]
  },
  {
   "cell_type": "code",
   "execution_count": 769,
   "id": "88a9946d",
   "metadata": {
    "scrolled": true
   },
   "outputs": [],
   "source": [
    "agg_df = agg_df.groupby(\"customer_level_based\")[\"PRICE\"].mean().reset_index()"
   ]
  },
  {
   "cell_type": "code",
   "execution_count": 770,
   "id": "da5e855f",
   "metadata": {},
   "outputs": [
    {
     "data": {
      "text/html": [
       "<div>\n",
       "<style scoped>\n",
       "    .dataframe tbody tr th:only-of-type {\n",
       "        vertical-align: middle;\n",
       "    }\n",
       "\n",
       "    .dataframe tbody tr th {\n",
       "        vertical-align: top;\n",
       "    }\n",
       "\n",
       "    .dataframe thead th {\n",
       "        text-align: right;\n",
       "    }\n",
       "</style>\n",
       "<table border=\"1\" class=\"dataframe\">\n",
       "  <thead>\n",
       "    <tr style=\"text-align: right;\">\n",
       "      <th></th>\n",
       "      <th>customer_level_based</th>\n",
       "      <th>PRICE</th>\n",
       "    </tr>\n",
       "  </thead>\n",
       "  <tbody>\n",
       "    <tr>\n",
       "      <th>0</th>\n",
       "      <td>BRA_ANDROID_FEMALE_0_18</td>\n",
       "      <td>35.645303</td>\n",
       "    </tr>\n",
       "    <tr>\n",
       "      <th>1</th>\n",
       "      <td>BRA_ANDROID_FEMALE_19_23</td>\n",
       "      <td>34.077340</td>\n",
       "    </tr>\n",
       "    <tr>\n",
       "      <th>2</th>\n",
       "      <td>BRA_ANDROID_FEMALE_24_30</td>\n",
       "      <td>33.863946</td>\n",
       "    </tr>\n",
       "    <tr>\n",
       "      <th>3</th>\n",
       "      <td>BRA_ANDROID_FEMALE_31_40</td>\n",
       "      <td>34.898326</td>\n",
       "    </tr>\n",
       "    <tr>\n",
       "      <th>4</th>\n",
       "      <td>BRA_ANDROID_FEMALE_41_70</td>\n",
       "      <td>36.737179</td>\n",
       "    </tr>\n",
       "    <tr>\n",
       "      <th>5</th>\n",
       "      <td>BRA_ANDROID_MALE_0_18</td>\n",
       "      <td>34.805861</td>\n",
       "    </tr>\n",
       "    <tr>\n",
       "      <th>6</th>\n",
       "      <td>BRA_ANDROID_MALE_19_23</td>\n",
       "      <td>31.673243</td>\n",
       "    </tr>\n",
       "    <tr>\n",
       "      <th>7</th>\n",
       "      <td>BRA_ANDROID_MALE_24_30</td>\n",
       "      <td>33.413919</td>\n",
       "    </tr>\n",
       "    <tr>\n",
       "      <th>8</th>\n",
       "      <td>BRA_ANDROID_MALE_31_40</td>\n",
       "      <td>34.327381</td>\n",
       "    </tr>\n",
       "    <tr>\n",
       "      <th>9</th>\n",
       "      <td>BRA_ANDROID_MALE_41_70</td>\n",
       "      <td>40.041667</td>\n",
       "    </tr>\n",
       "  </tbody>\n",
       "</table>\n",
       "</div>"
      ],
      "text/plain": [
       "       customer_level_based      PRICE\n",
       "0   BRA_ANDROID_FEMALE_0_18  35.645303\n",
       "1  BRA_ANDROID_FEMALE_19_23  34.077340\n",
       "2  BRA_ANDROID_FEMALE_24_30  33.863946\n",
       "3  BRA_ANDROID_FEMALE_31_40  34.898326\n",
       "4  BRA_ANDROID_FEMALE_41_70  36.737179\n",
       "5     BRA_ANDROID_MALE_0_18  34.805861\n",
       "6    BRA_ANDROID_MALE_19_23  31.673243\n",
       "7    BRA_ANDROID_MALE_24_30  33.413919\n",
       "8    BRA_ANDROID_MALE_31_40  34.327381\n",
       "9    BRA_ANDROID_MALE_41_70  40.041667"
      ]
     },
     "execution_count": 770,
     "metadata": {},
     "output_type": "execute_result"
    }
   ],
   "source": [
    "agg_df.head(10)"
   ]
  },
  {
   "cell_type": "markdown",
   "id": "37db0686",
   "metadata": {},
   "source": [
    "## Görev 7:"
   ]
  },
  {
   "cell_type": "markdown",
   "id": "3fb57612",
   "metadata": {},
   "source": [
    "### Yeni müşterileri (personaları) segmentlere ayırınız."
   ]
  },
  {
   "cell_type": "code",
   "execution_count": 771,
   "id": "a46578a7",
   "metadata": {},
   "outputs": [],
   "source": [
    "agg_df[\"SEGMENT\"] = pd.qcut(agg_df[\"PRICE\"], 4, labels=[\"D\", \"C\", \"B\", \"A\"]) # qcut, eşit parçada kategorize etmemizi sağladı"
   ]
  },
  {
   "cell_type": "code",
   "execution_count": 772,
   "id": "82e463c9",
   "metadata": {},
   "outputs": [
    {
     "data": {
      "text/html": [
       "<div>\n",
       "<style scoped>\n",
       "    .dataframe tbody tr th:only-of-type {\n",
       "        vertical-align: middle;\n",
       "    }\n",
       "\n",
       "    .dataframe tbody tr th {\n",
       "        vertical-align: top;\n",
       "    }\n",
       "\n",
       "    .dataframe thead th {\n",
       "        text-align: right;\n",
       "    }\n",
       "</style>\n",
       "<table border=\"1\" class=\"dataframe\">\n",
       "  <thead>\n",
       "    <tr style=\"text-align: right;\">\n",
       "      <th></th>\n",
       "      <th>customer_level_based</th>\n",
       "      <th>PRICE</th>\n",
       "      <th>SEGMENT</th>\n",
       "    </tr>\n",
       "  </thead>\n",
       "  <tbody>\n",
       "    <tr>\n",
       "      <th>0</th>\n",
       "      <td>BRA_ANDROID_FEMALE_0_18</td>\n",
       "      <td>35.645303</td>\n",
       "      <td>B</td>\n",
       "    </tr>\n",
       "    <tr>\n",
       "      <th>1</th>\n",
       "      <td>BRA_ANDROID_FEMALE_19_23</td>\n",
       "      <td>34.077340</td>\n",
       "      <td>C</td>\n",
       "    </tr>\n",
       "    <tr>\n",
       "      <th>2</th>\n",
       "      <td>BRA_ANDROID_FEMALE_24_30</td>\n",
       "      <td>33.863946</td>\n",
       "      <td>C</td>\n",
       "    </tr>\n",
       "    <tr>\n",
       "      <th>3</th>\n",
       "      <td>BRA_ANDROID_FEMALE_31_40</td>\n",
       "      <td>34.898326</td>\n",
       "      <td>B</td>\n",
       "    </tr>\n",
       "    <tr>\n",
       "      <th>4</th>\n",
       "      <td>BRA_ANDROID_FEMALE_41_70</td>\n",
       "      <td>36.737179</td>\n",
       "      <td>A</td>\n",
       "    </tr>\n",
       "  </tbody>\n",
       "</table>\n",
       "</div>"
      ],
      "text/plain": [
       "       customer_level_based      PRICE SEGMENT\n",
       "0   BRA_ANDROID_FEMALE_0_18  35.645303       B\n",
       "1  BRA_ANDROID_FEMALE_19_23  34.077340       C\n",
       "2  BRA_ANDROID_FEMALE_24_30  33.863946       C\n",
       "3  BRA_ANDROID_FEMALE_31_40  34.898326       B\n",
       "4  BRA_ANDROID_FEMALE_41_70  36.737179       A"
      ]
     },
     "execution_count": 772,
     "metadata": {},
     "output_type": "execute_result"
    }
   ],
   "source": [
    "agg_df.head()"
   ]
  },
  {
   "cell_type": "markdown",
   "id": "494fd00a",
   "metadata": {},
   "source": [
    "#### Segmentleri betimleyiniz (Segmentlere göre group by yapıp price mean, max, sum’larını alınız)."
   ]
  },
  {
   "cell_type": "code",
   "execution_count": 773,
   "id": "0c5dc553",
   "metadata": {},
   "outputs": [
    {
     "data": {
      "text/html": [
       "<div>\n",
       "<style scoped>\n",
       "    .dataframe tbody tr th:only-of-type {\n",
       "        vertical-align: middle;\n",
       "    }\n",
       "\n",
       "    .dataframe tbody tr th {\n",
       "        vertical-align: top;\n",
       "    }\n",
       "\n",
       "    .dataframe thead th {\n",
       "        text-align: right;\n",
       "    }\n",
       "</style>\n",
       "<table border=\"1\" class=\"dataframe\">\n",
       "  <thead>\n",
       "    <tr style=\"text-align: right;\">\n",
       "      <th></th>\n",
       "      <th>PRICE</th>\n",
       "    </tr>\n",
       "    <tr>\n",
       "      <th>SEGMENT</th>\n",
       "      <th></th>\n",
       "    </tr>\n",
       "  </thead>\n",
       "  <tbody>\n",
       "    <tr>\n",
       "      <th>A</th>\n",
       "      <td>38.691234</td>\n",
       "    </tr>\n",
       "    <tr>\n",
       "      <th>B</th>\n",
       "      <td>34.999645</td>\n",
       "    </tr>\n",
       "    <tr>\n",
       "      <th>C</th>\n",
       "      <td>33.509674</td>\n",
       "    </tr>\n",
       "    <tr>\n",
       "      <th>D</th>\n",
       "      <td>29.206780</td>\n",
       "    </tr>\n",
       "  </tbody>\n",
       "</table>\n",
       "</div>"
      ],
      "text/plain": [
       "             PRICE\n",
       "SEGMENT           \n",
       "A        38.691234\n",
       "B        34.999645\n",
       "C        33.509674\n",
       "D        29.206780"
      ]
     },
     "execution_count": 773,
     "metadata": {},
     "output_type": "execute_result"
    }
   ],
   "source": [
    "pd.DataFrame(agg_df.groupby([\"SEGMENT\"])[\"PRICE\"].mean().sort_values(ascending=False))"
   ]
  },
  {
   "cell_type": "code",
   "execution_count": 774,
   "id": "81508c66",
   "metadata": {},
   "outputs": [
    {
     "data": {
      "text/html": [
       "<div>\n",
       "<style scoped>\n",
       "    .dataframe tbody tr th:only-of-type {\n",
       "        vertical-align: middle;\n",
       "    }\n",
       "\n",
       "    .dataframe tbody tr th {\n",
       "        vertical-align: top;\n",
       "    }\n",
       "\n",
       "    .dataframe thead th {\n",
       "        text-align: right;\n",
       "    }\n",
       "</style>\n",
       "<table border=\"1\" class=\"dataframe\">\n",
       "  <thead>\n",
       "    <tr style=\"text-align: right;\">\n",
       "      <th></th>\n",
       "      <th>PRICE</th>\n",
       "    </tr>\n",
       "    <tr>\n",
       "      <th>SEGMENT</th>\n",
       "      <th></th>\n",
       "    </tr>\n",
       "  </thead>\n",
       "  <tbody>\n",
       "    <tr>\n",
       "      <th>A</th>\n",
       "      <td>45.428571</td>\n",
       "    </tr>\n",
       "    <tr>\n",
       "      <th>B</th>\n",
       "      <td>36.000000</td>\n",
       "    </tr>\n",
       "    <tr>\n",
       "      <th>C</th>\n",
       "      <td>34.077340</td>\n",
       "    </tr>\n",
       "    <tr>\n",
       "      <th>D</th>\n",
       "      <td>32.333333</td>\n",
       "    </tr>\n",
       "  </tbody>\n",
       "</table>\n",
       "</div>"
      ],
      "text/plain": [
       "             PRICE\n",
       "SEGMENT           \n",
       "A        45.428571\n",
       "B        36.000000\n",
       "C        34.077340\n",
       "D        32.333333"
      ]
     },
     "execution_count": 774,
     "metadata": {},
     "output_type": "execute_result"
    }
   ],
   "source": [
    "pd.DataFrame(agg_df.groupby([\"SEGMENT\"])[\"PRICE\"].max().sort_values(ascending=False))"
   ]
  },
  {
   "cell_type": "code",
   "execution_count": 775,
   "id": "fafb4633",
   "metadata": {},
   "outputs": [
    {
     "data": {
      "text/html": [
       "<div>\n",
       "<style scoped>\n",
       "    .dataframe tbody tr th:only-of-type {\n",
       "        vertical-align: middle;\n",
       "    }\n",
       "\n",
       "    .dataframe tbody tr th {\n",
       "        vertical-align: top;\n",
       "    }\n",
       "\n",
       "    .dataframe thead th {\n",
       "        text-align: right;\n",
       "    }\n",
       "</style>\n",
       "<table border=\"1\" class=\"dataframe\">\n",
       "  <thead>\n",
       "    <tr style=\"text-align: right;\">\n",
       "      <th></th>\n",
       "      <th>PRICE</th>\n",
       "    </tr>\n",
       "    <tr>\n",
       "      <th>SEGMENT</th>\n",
       "      <th></th>\n",
       "    </tr>\n",
       "  </thead>\n",
       "  <tbody>\n",
       "    <tr>\n",
       "      <th>A</th>\n",
       "      <td>1044.663328</td>\n",
       "    </tr>\n",
       "    <tr>\n",
       "      <th>B</th>\n",
       "      <td>944.990411</td>\n",
       "    </tr>\n",
       "    <tr>\n",
       "      <th>C</th>\n",
       "      <td>904.761209</td>\n",
       "    </tr>\n",
       "    <tr>\n",
       "      <th>D</th>\n",
       "      <td>817.789833</td>\n",
       "    </tr>\n",
       "  </tbody>\n",
       "</table>\n",
       "</div>"
      ],
      "text/plain": [
       "               PRICE\n",
       "SEGMENT             \n",
       "A        1044.663328\n",
       "B         944.990411\n",
       "C         904.761209\n",
       "D         817.789833"
      ]
     },
     "execution_count": 775,
     "metadata": {},
     "output_type": "execute_result"
    }
   ],
   "source": [
    "pd.DataFrame(agg_df.groupby([\"SEGMENT\"])[\"PRICE\"].sum().sort_values(ascending=False))"
   ]
  },
  {
   "cell_type": "markdown",
   "id": "8442b213",
   "metadata": {},
   "source": [
    "#### C segmentini analiz ediniz (Veri setinden sadece C segmentini çekip analiz ediniz)."
   ]
  },
  {
   "cell_type": "code",
   "execution_count": 776,
   "id": "176a3436",
   "metadata": {},
   "outputs": [
    {
     "data": {
      "text/plain": [
       "array([  1,   2,   7,  12,  17,  23,  35,  36,  44,  45,  46,  49,  53,\n",
       "        55,  58,  60,  63,  64,  67,  70,  81,  83,  89,  90,  92, 101,\n",
       "       104], dtype=int64)"
      ]
     },
     "execution_count": 776,
     "metadata": {},
     "output_type": "execute_result"
    }
   ],
   "source": [
    "C_fancy_index = agg_df[agg_df[\"SEGMENT\"]==\"C\"].index.values\n",
    "C_fancy_index"
   ]
  },
  {
   "cell_type": "code",
   "execution_count": 777,
   "id": "b680322f",
   "metadata": {},
   "outputs": [
    {
     "data": {
      "text/html": [
       "<div>\n",
       "<style scoped>\n",
       "    .dataframe tbody tr th:only-of-type {\n",
       "        vertical-align: middle;\n",
       "    }\n",
       "\n",
       "    .dataframe tbody tr th {\n",
       "        vertical-align: top;\n",
       "    }\n",
       "\n",
       "    .dataframe thead th {\n",
       "        text-align: right;\n",
       "    }\n",
       "</style>\n",
       "<table border=\"1\" class=\"dataframe\">\n",
       "  <thead>\n",
       "    <tr style=\"text-align: right;\">\n",
       "      <th></th>\n",
       "      <th>PRICE</th>\n",
       "      <th>SEGMENT</th>\n",
       "    </tr>\n",
       "  </thead>\n",
       "  <tbody>\n",
       "    <tr>\n",
       "      <th>1</th>\n",
       "      <td>34.077340</td>\n",
       "      <td>C</td>\n",
       "    </tr>\n",
       "    <tr>\n",
       "      <th>2</th>\n",
       "      <td>33.863946</td>\n",
       "      <td>C</td>\n",
       "    </tr>\n",
       "    <tr>\n",
       "      <th>7</th>\n",
       "      <td>33.413919</td>\n",
       "      <td>C</td>\n",
       "    </tr>\n",
       "    <tr>\n",
       "      <th>12</th>\n",
       "      <td>34.015873</td>\n",
       "      <td>C</td>\n",
       "    </tr>\n",
       "    <tr>\n",
       "      <th>17</th>\n",
       "      <td>33.864865</td>\n",
       "      <td>C</td>\n",
       "    </tr>\n",
       "  </tbody>\n",
       "</table>\n",
       "</div>"
      ],
      "text/plain": [
       "        PRICE SEGMENT\n",
       "1   34.077340       C\n",
       "2   33.863946       C\n",
       "7   33.413919       C\n",
       "12  34.015873       C\n",
       "17  33.864865       C"
      ]
     },
     "execution_count": 777,
     "metadata": {},
     "output_type": "execute_result"
    }
   ],
   "source": [
    "C_df = agg_df.loc[C_fancy_index, [\"PRICE\", \"SEGMENT\"]].head()\n",
    "C_df.head(20)"
   ]
  },
  {
   "cell_type": "code",
   "execution_count": 778,
   "id": "600ccdae",
   "metadata": {},
   "outputs": [
    {
     "data": {
      "text/html": [
       "<div>\n",
       "<style scoped>\n",
       "    .dataframe tbody tr th:only-of-type {\n",
       "        vertical-align: middle;\n",
       "    }\n",
       "\n",
       "    .dataframe tbody tr th {\n",
       "        vertical-align: top;\n",
       "    }\n",
       "\n",
       "    .dataframe thead th {\n",
       "        text-align: right;\n",
       "    }\n",
       "</style>\n",
       "<table border=\"1\" class=\"dataframe\">\n",
       "  <thead>\n",
       "    <tr style=\"text-align: right;\">\n",
       "      <th></th>\n",
       "      <th>PRICE</th>\n",
       "    </tr>\n",
       "  </thead>\n",
       "  <tbody>\n",
       "    <tr>\n",
       "      <th>count</th>\n",
       "      <td>5.000000</td>\n",
       "    </tr>\n",
       "    <tr>\n",
       "      <th>mean</th>\n",
       "      <td>33.847189</td>\n",
       "    </tr>\n",
       "    <tr>\n",
       "      <th>std</th>\n",
       "      <td>0.259682</td>\n",
       "    </tr>\n",
       "    <tr>\n",
       "      <th>min</th>\n",
       "      <td>33.413919</td>\n",
       "    </tr>\n",
       "    <tr>\n",
       "      <th>25%</th>\n",
       "      <td>33.863946</td>\n",
       "    </tr>\n",
       "    <tr>\n",
       "      <th>50%</th>\n",
       "      <td>33.864865</td>\n",
       "    </tr>\n",
       "    <tr>\n",
       "      <th>75%</th>\n",
       "      <td>34.015873</td>\n",
       "    </tr>\n",
       "    <tr>\n",
       "      <th>max</th>\n",
       "      <td>34.077340</td>\n",
       "    </tr>\n",
       "  </tbody>\n",
       "</table>\n",
       "</div>"
      ],
      "text/plain": [
       "           PRICE\n",
       "count   5.000000\n",
       "mean   33.847189\n",
       "std     0.259682\n",
       "min    33.413919\n",
       "25%    33.863946\n",
       "50%    33.864865\n",
       "75%    34.015873\n",
       "max    34.077340"
      ]
     },
     "execution_count": 778,
     "metadata": {},
     "output_type": "execute_result"
    }
   ],
   "source": [
    "C_df.describe()"
   ]
  },
  {
   "cell_type": "markdown",
   "id": "50eda83e",
   "metadata": {},
   "source": [
    "## Görev 8:"
   ]
  },
  {
   "cell_type": "markdown",
   "id": "ecf8094c",
   "metadata": {},
   "source": [
    "### Yeni gelen müşterileri segmentlerine göre sınıflandırınız ve ne kadar gelir getirebileceğini tahmin ediniz."
   ]
  },
  {
   "cell_type": "markdown",
   "id": "e029a578",
   "metadata": {},
   "source": [
    "#### 33 yaşında ANDROID kullanan bir Türk kadını hangi segmente aittir veortalama ne kadar gelir kazandırması beklenir?"
   ]
  },
  {
   "cell_type": "code",
   "execution_count": 779,
   "id": "ae87ffda",
   "metadata": {},
   "outputs": [
    {
     "data": {
      "text/html": [
       "<div>\n",
       "<style scoped>\n",
       "    .dataframe tbody tr th:only-of-type {\n",
       "        vertical-align: middle;\n",
       "    }\n",
       "\n",
       "    .dataframe tbody tr th {\n",
       "        vertical-align: top;\n",
       "    }\n",
       "\n",
       "    .dataframe thead th {\n",
       "        text-align: right;\n",
       "    }\n",
       "</style>\n",
       "<table border=\"1\" class=\"dataframe\">\n",
       "  <thead>\n",
       "    <tr style=\"text-align: right;\">\n",
       "      <th></th>\n",
       "      <th>PRICE</th>\n",
       "    </tr>\n",
       "    <tr>\n",
       "      <th>customer_level_based</th>\n",
       "      <th></th>\n",
       "    </tr>\n",
       "  </thead>\n",
       "  <tbody>\n",
       "    <tr>\n",
       "      <th>BRA_ANDROID_FEMALE_0_18</th>\n",
       "      <td>35.645303</td>\n",
       "    </tr>\n",
       "    <tr>\n",
       "      <th>BRA_ANDROID_FEMALE_19_23</th>\n",
       "      <td>34.077340</td>\n",
       "    </tr>\n",
       "    <tr>\n",
       "      <th>BRA_ANDROID_FEMALE_24_30</th>\n",
       "      <td>33.863946</td>\n",
       "    </tr>\n",
       "    <tr>\n",
       "      <th>BRA_ANDROID_FEMALE_31_40</th>\n",
       "      <td>34.898326</td>\n",
       "    </tr>\n",
       "    <tr>\n",
       "      <th>BRA_ANDROID_FEMALE_41_70</th>\n",
       "      <td>36.737179</td>\n",
       "    </tr>\n",
       "    <tr>\n",
       "      <th>BRA_ANDROID_MALE_0_18</th>\n",
       "      <td>34.805861</td>\n",
       "    </tr>\n",
       "    <tr>\n",
       "      <th>BRA_ANDROID_MALE_19_23</th>\n",
       "      <td>31.673243</td>\n",
       "    </tr>\n",
       "    <tr>\n",
       "      <th>BRA_ANDROID_MALE_24_30</th>\n",
       "      <td>33.413919</td>\n",
       "    </tr>\n",
       "  </tbody>\n",
       "</table>\n",
       "</div>"
      ],
      "text/plain": [
       "                              PRICE\n",
       "customer_level_based               \n",
       "BRA_ANDROID_FEMALE_0_18   35.645303\n",
       "BRA_ANDROID_FEMALE_19_23  34.077340\n",
       "BRA_ANDROID_FEMALE_24_30  33.863946\n",
       "BRA_ANDROID_FEMALE_31_40  34.898326\n",
       "BRA_ANDROID_FEMALE_41_70  36.737179\n",
       "BRA_ANDROID_MALE_0_18     34.805861\n",
       "BRA_ANDROID_MALE_19_23    31.673243\n",
       "BRA_ANDROID_MALE_24_30    33.413919"
      ]
     },
     "execution_count": 779,
     "metadata": {},
     "output_type": "execute_result"
    }
   ],
   "source": [
    "pd.DataFrame(agg_df.groupby([\"customer_level_based\"])[\"PRICE\"].sum()).head(8)"
   ]
  },
  {
   "cell_type": "code",
   "execution_count": 780,
   "id": "a3a4de79",
   "metadata": {},
   "outputs": [
    {
     "data": {
      "text/html": [
       "<div>\n",
       "<style scoped>\n",
       "    .dataframe tbody tr th:only-of-type {\n",
       "        vertical-align: middle;\n",
       "    }\n",
       "\n",
       "    .dataframe tbody tr th {\n",
       "        vertical-align: top;\n",
       "    }\n",
       "\n",
       "    .dataframe thead th {\n",
       "        text-align: right;\n",
       "    }\n",
       "</style>\n",
       "<table border=\"1\" class=\"dataframe\">\n",
       "  <thead>\n",
       "    <tr style=\"text-align: right;\">\n",
       "      <th></th>\n",
       "      <th>customer_level_based</th>\n",
       "      <th>PRICE</th>\n",
       "      <th>SEGMENT</th>\n",
       "    </tr>\n",
       "  </thead>\n",
       "  <tbody>\n",
       "    <tr>\n",
       "      <th>72</th>\n",
       "      <td>TUR_ANDROID_FEMALE_31_40</td>\n",
       "      <td>41.833333</td>\n",
       "      <td>A</td>\n",
       "    </tr>\n",
       "  </tbody>\n",
       "</table>\n",
       "</div>"
      ],
      "text/plain": [
       "        customer_level_based      PRICE SEGMENT\n",
       "72  TUR_ANDROID_FEMALE_31_40  41.833333       A"
      ]
     },
     "execution_count": 780,
     "metadata": {},
     "output_type": "execute_result"
    }
   ],
   "source": [
    "new_user = \"TUR_ANDROID_FEMALE_31_40\"\n",
    "agg_df[agg_df[\"customer_level_based\"] == new_user]"
   ]
  },
  {
   "cell_type": "code",
   "execution_count": 781,
   "id": "44774cae",
   "metadata": {},
   "outputs": [
    {
     "data": {
      "text/html": [
       "<div>\n",
       "<style scoped>\n",
       "    .dataframe tbody tr th:only-of-type {\n",
       "        vertical-align: middle;\n",
       "    }\n",
       "\n",
       "    .dataframe tbody tr th {\n",
       "        vertical-align: top;\n",
       "    }\n",
       "\n",
       "    .dataframe thead th {\n",
       "        text-align: right;\n",
       "    }\n",
       "</style>\n",
       "<table border=\"1\" class=\"dataframe\">\n",
       "  <thead>\n",
       "    <tr style=\"text-align: right;\">\n",
       "      <th></th>\n",
       "      <th>customer_level_based</th>\n",
       "      <th>PRICE</th>\n",
       "      <th>SEGMENT</th>\n",
       "    </tr>\n",
       "  </thead>\n",
       "  <tbody>\n",
       "    <tr>\n",
       "      <th>63</th>\n",
       "      <td>FRA_IOS_FEMALE_31_40</td>\n",
       "      <td>32.818182</td>\n",
       "      <td>C</td>\n",
       "    </tr>\n",
       "  </tbody>\n",
       "</table>\n",
       "</div>"
      ],
      "text/plain": [
       "    customer_level_based      PRICE SEGMENT\n",
       "63  FRA_IOS_FEMALE_31_40  32.818182       C"
      ]
     },
     "execution_count": 781,
     "metadata": {},
     "output_type": "execute_result"
    }
   ],
   "source": [
    "new_user2 = \"FRA_IOS_FEMALE_31_40\"\n",
    "agg_df[agg_df[\"customer_level_based\"] == new_user2]"
   ]
  }
 ],
 "metadata": {
  "kernelspec": {
   "display_name": "Python 3",
   "language": "python",
   "name": "python3"
  },
  "language_info": {
   "codemirror_mode": {
    "name": "ipython",
    "version": 3
   },
   "file_extension": ".py",
   "mimetype": "text/x-python",
   "name": "python",
   "nbconvert_exporter": "python",
   "pygments_lexer": "ipython3",
   "version": "3.8.8"
  }
 },
 "nbformat": 4,
 "nbformat_minor": 5
}
