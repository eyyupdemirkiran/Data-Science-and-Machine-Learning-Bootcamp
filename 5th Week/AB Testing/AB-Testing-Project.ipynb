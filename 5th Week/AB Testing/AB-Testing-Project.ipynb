{
 "cells": [
  {
   "cell_type": "code",
   "execution_count": 2,
   "id": "9810049a-3bef-4abe-b376-205b153fae6e",
   "metadata": {},
   "outputs": [],
   "source": [
    "import itertools\n",
    "import numpy as np\n",
    "import pandas as pd\n",
    "import matplotlib.pyplot as plt\n",
    "import seaborn as sns\n",
    "import statsmodels.stats.api as sms\n",
    "from scipy.stats import ttest_1samp, shapiro, levene, ttest_ind, mannwhitneyu, pearsonr, spearmanr, kendalltau, \\\n",
    "    f_oneway, kruskal\n",
    "from statsmodels.stats.proportion import proportions_ztest"
   ]
  },
  {
   "cell_type": "code",
   "execution_count": 3,
   "id": "f69f7d64-3c63-4902-9327-07a0f2635742",
   "metadata": {},
   "outputs": [],
   "source": [
    "pd.set_option('display.max_columns', None)\n",
    "pd.set_option('display.max_rows', 10)\n",
    "pd.set_option('display.float_format', lambda x: '%.5f' % x)"
   ]
  },
  {
   "cell_type": "code",
   "execution_count": 4,
   "id": "ff41f668-ead7-4966-8394-aeea027132b0",
   "metadata": {},
   "outputs": [],
   "source": [
    "xls = pd.ExcelFile('C:/Users/eyp_d/Desktop/VBO-Bootcamp-Dersler/5.Hafta/Ders Öncesi Notlar/ab_testing.xlsx')\n",
    "df_control_ = pd.read_excel(xls, 'Control Group')\n",
    "df_test_ = pd.read_excel(xls, 'Test Group')"
   ]
  },
  {
   "cell_type": "code",
   "execution_count": 5,
   "id": "06cb4d33-01b9-4dad-99f8-289df8b6d09e",
   "metadata": {},
   "outputs": [
    {
     "data": {
      "text/html": [
       "<div>\n",
       "<style scoped>\n",
       "    .dataframe tbody tr th:only-of-type {\n",
       "        vertical-align: middle;\n",
       "    }\n",
       "\n",
       "    .dataframe tbody tr th {\n",
       "        vertical-align: top;\n",
       "    }\n",
       "\n",
       "    .dataframe thead th {\n",
       "        text-align: right;\n",
       "    }\n",
       "</style>\n",
       "<table border=\"1\" class=\"dataframe\">\n",
       "  <thead>\n",
       "    <tr style=\"text-align: right;\">\n",
       "      <th></th>\n",
       "      <th>Impression</th>\n",
       "      <th>Click</th>\n",
       "      <th>Purchase</th>\n",
       "      <th>Earning</th>\n",
       "    </tr>\n",
       "  </thead>\n",
       "  <tbody>\n",
       "    <tr>\n",
       "      <th>0</th>\n",
       "      <td>82529.45927</td>\n",
       "      <td>6090.07732</td>\n",
       "      <td>665.21125</td>\n",
       "      <td>2311.27714</td>\n",
       "    </tr>\n",
       "    <tr>\n",
       "      <th>1</th>\n",
       "      <td>98050.45193</td>\n",
       "      <td>3382.86179</td>\n",
       "      <td>315.08489</td>\n",
       "      <td>1742.80686</td>\n",
       "    </tr>\n",
       "    <tr>\n",
       "      <th>2</th>\n",
       "      <td>82696.02355</td>\n",
       "      <td>4167.96575</td>\n",
       "      <td>458.08374</td>\n",
       "      <td>1797.82745</td>\n",
       "    </tr>\n",
       "    <tr>\n",
       "      <th>3</th>\n",
       "      <td>109914.40040</td>\n",
       "      <td>4910.88224</td>\n",
       "      <td>487.09077</td>\n",
       "      <td>1696.22918</td>\n",
       "    </tr>\n",
       "    <tr>\n",
       "      <th>4</th>\n",
       "      <td>108457.76263</td>\n",
       "      <td>5987.65581</td>\n",
       "      <td>441.03405</td>\n",
       "      <td>1543.72018</td>\n",
       "    </tr>\n",
       "  </tbody>\n",
       "</table>\n",
       "</div>"
      ],
      "text/plain": [
       "    Impression      Click  Purchase    Earning\n",
       "0  82529.45927 6090.07732 665.21125 2311.27714\n",
       "1  98050.45193 3382.86179 315.08489 1742.80686\n",
       "2  82696.02355 4167.96575 458.08374 1797.82745\n",
       "3 109914.40040 4910.88224 487.09077 1696.22918\n",
       "4 108457.76263 5987.65581 441.03405 1543.72018"
      ]
     },
     "execution_count": 5,
     "metadata": {},
     "output_type": "execute_result"
    }
   ],
   "source": [
    "df_control = df_control_[[\"Impression\", \"Click\", \"Purchase\", \"Earning\"]]\n",
    "df_control.head()"
   ]
  },
  {
   "cell_type": "code",
   "execution_count": 6,
   "id": "003fe11c-6fb5-4fa3-b043-46e8a1463feb",
   "metadata": {},
   "outputs": [
    {
     "name": "stderr",
     "output_type": "stream",
     "text": [
      "C:\\Users\\eyp_d\\anaconda3\\lib\\site-packages\\seaborn\\distributions.py:2557: FutureWarning: `distplot` is a deprecated function and will be removed in a future version. Please adapt your code to use either `displot` (a figure-level function with similar flexibility) or `kdeplot` (an axes-level function for kernel density plots).\n",
      "  warnings.warn(msg, FutureWarning)\n"
     ]
    },
    {
     "data": {
      "image/png": "[encoded data removed]",
      "text/plain": [
       "<Figure size 432x288 with 1 Axes>"
      ]
     },
     "metadata": {
      "needs_background": "light"
     },
     "output_type": "display_data"
    }
   ],
   "source": [
    "sns.distplot(df_control[\"Purchase\"], hist=False)      # Normal dağılımın grafiksel gözlemlenmesi\n",
    "plt.show()"
   ]
  },
  {
   "cell_type": "code",
   "execution_count": 8,
   "id": "38f1830e-e670-43ed-bfa1-18082cae493e",
   "metadata": {},
   "outputs": [
    {
     "data": {
      "text/html": [
       "<div>\n",
       "<style scoped>\n",
       "    .dataframe tbody tr th:only-of-type {\n",
       "        vertical-align: middle;\n",
       "    }\n",
       "\n",
       "    .dataframe tbody tr th {\n",
       "        vertical-align: top;\n",
       "    }\n",
       "\n",
       "    .dataframe thead th {\n",
       "        text-align: right;\n",
       "    }\n",
       "</style>\n",
       "<table border=\"1\" class=\"dataframe\">\n",
       "  <thead>\n",
       "    <tr style=\"text-align: right;\">\n",
       "      <th></th>\n",
       "      <th>Impression</th>\n",
       "      <th>Click</th>\n",
       "      <th>Purchase</th>\n",
       "      <th>Earning</th>\n",
       "    </tr>\n",
       "  </thead>\n",
       "  <tbody>\n",
       "    <tr>\n",
       "      <th>0</th>\n",
       "      <td>120103.50380</td>\n",
       "      <td>3216.54796</td>\n",
       "      <td>702.16035</td>\n",
       "      <td>1939.61124</td>\n",
       "    </tr>\n",
       "    <tr>\n",
       "      <th>1</th>\n",
       "      <td>134775.94336</td>\n",
       "      <td>3635.08242</td>\n",
       "      <td>834.05429</td>\n",
       "      <td>2929.40582</td>\n",
       "    </tr>\n",
       "    <tr>\n",
       "      <th>2</th>\n",
       "      <td>107806.62079</td>\n",
       "      <td>3057.14356</td>\n",
       "      <td>422.93426</td>\n",
       "      <td>2526.24488</td>\n",
       "    </tr>\n",
       "    <tr>\n",
       "      <th>3</th>\n",
       "      <td>116445.27553</td>\n",
       "      <td>4650.47391</td>\n",
       "      <td>429.03353</td>\n",
       "      <td>2281.42857</td>\n",
       "    </tr>\n",
       "    <tr>\n",
       "      <th>4</th>\n",
       "      <td>145082.51684</td>\n",
       "      <td>5201.38772</td>\n",
       "      <td>749.86044</td>\n",
       "      <td>2781.69752</td>\n",
       "    </tr>\n",
       "  </tbody>\n",
       "</table>\n",
       "</div>"
      ],
      "text/plain": [
       "    Impression      Click  Purchase    Earning\n",
       "0 120103.50380 3216.54796 702.16035 1939.61124\n",
       "1 134775.94336 3635.08242 834.05429 2929.40582\n",
       "2 107806.62079 3057.14356 422.93426 2526.24488\n",
       "3 116445.27553 4650.47391 429.03353 2281.42857\n",
       "4 145082.51684 5201.38772 749.86044 2781.69752"
      ]
     },
     "execution_count": 8,
     "metadata": {},
     "output_type": "execute_result"
    }
   ],
   "source": [
    "df_test = df_test_[[\"Impression\", \"Click\", \"Purchase\", \"Earning\"]]\n",
    "df_test.head()"
   ]
  },
  {
   "cell_type": "code",
   "execution_count": 9,
   "id": "ad36fb3e-d9bf-4129-b962-1072bfe94ac2",
   "metadata": {},
   "outputs": [
    {
     "name": "stderr",
     "output_type": "stream",
     "text": [
      "C:\\Users\\eyp_d\\anaconda3\\lib\\site-packages\\seaborn\\distributions.py:2557: FutureWarning: `distplot` is a deprecated function and will be removed in a future version. Please adapt your code to use either `displot` (a figure-level function with similar flexibility) or `kdeplot` (an axes-level function for kernel density plots).\n",
      "  warnings.warn(msg, FutureWarning)\n"
     ]
    },
    {
     "data": {
      "image/png": "[encoded data removed]",
      "text/plain": [
       "<Figure size 432x288 with 1 Axes>"
      ]
     },
     "metadata": {
      "needs_background": "light"
     },
     "output_type": "display_data"
    }
   ],
   "source": [
    "sns.distplot(df_test[\"Purchase\"], hist=False)        # Normal dağılımın grafiksel gözlemlenmesi\n",
    "plt.show();"
   ]
  },
  {
   "cell_type": "code",
   "execution_count": 28,
   "id": "95000d95-c557-4cb8-a970-63b5cc7a2549",
   "metadata": {},
   "outputs": [
    {
     "data": {
      "text/html": [
       "<div>\n",
       "<style scoped>\n",
       "    .dataframe tbody tr th:only-of-type {\n",
       "        vertical-align: middle;\n",
       "    }\n",
       "\n",
       "    .dataframe tbody tr th {\n",
       "        vertical-align: top;\n",
       "    }\n",
       "\n",
       "    .dataframe thead th {\n",
       "        text-align: right;\n",
       "    }\n",
       "</style>\n",
       "<table border=\"1\" class=\"dataframe\">\n",
       "  <thead>\n",
       "    <tr style=\"text-align: right;\">\n",
       "      <th></th>\n",
       "      <th>Impression</th>\n",
       "      <th>Click</th>\n",
       "      <th>Purchase</th>\n",
       "      <th>Earning</th>\n",
       "    </tr>\n",
       "  </thead>\n",
       "  <tbody>\n",
       "    <tr>\n",
       "      <th>count</th>\n",
       "      <td>40.00000</td>\n",
       "      <td>40.00000</td>\n",
       "      <td>40.00000</td>\n",
       "      <td>40.00000</td>\n",
       "    </tr>\n",
       "    <tr>\n",
       "      <th>mean</th>\n",
       "      <td>101711.44907</td>\n",
       "      <td>5100.65737</td>\n",
       "      <td>550.89406</td>\n",
       "      <td>1908.56830</td>\n",
       "    </tr>\n",
       "    <tr>\n",
       "      <th>std</th>\n",
       "      <td>20302.15786</td>\n",
       "      <td>1329.98550</td>\n",
       "      <td>134.10820</td>\n",
       "      <td>302.91778</td>\n",
       "    </tr>\n",
       "    <tr>\n",
       "      <th>min</th>\n",
       "      <td>45475.94296</td>\n",
       "      <td>2189.75316</td>\n",
       "      <td>267.02894</td>\n",
       "      <td>1253.98952</td>\n",
       "    </tr>\n",
       "    <tr>\n",
       "      <th>25%</th>\n",
       "      <td>85726.69035</td>\n",
       "      <td>4124.30413</td>\n",
       "      <td>470.09553</td>\n",
       "      <td>1685.84720</td>\n",
       "    </tr>\n",
       "    <tr>\n",
       "      <th>50%</th>\n",
       "      <td>99790.70108</td>\n",
       "      <td>5001.22060</td>\n",
       "      <td>531.20631</td>\n",
       "      <td>1975.16052</td>\n",
       "    </tr>\n",
       "    <tr>\n",
       "      <th>75%</th>\n",
       "      <td>115212.81654</td>\n",
       "      <td>5923.80360</td>\n",
       "      <td>637.95709</td>\n",
       "      <td>2119.80278</td>\n",
       "    </tr>\n",
       "    <tr>\n",
       "      <th>max</th>\n",
       "      <td>147539.33633</td>\n",
       "      <td>7959.12507</td>\n",
       "      <td>801.79502</td>\n",
       "      <td>2497.29522</td>\n",
       "    </tr>\n",
       "  </tbody>\n",
       "</table>\n",
       "</div>"
      ],
      "text/plain": [
       "        Impression      Click  Purchase    Earning\n",
       "count     40.00000   40.00000  40.00000   40.00000\n",
       "mean  101711.44907 5100.65737 550.89406 1908.56830\n",
       "std    20302.15786 1329.98550 134.10820  302.91778\n",
       "min    45475.94296 2189.75316 267.02894 1253.98952\n",
       "25%    85726.69035 4124.30413 470.09553 1685.84720\n",
       "50%    99790.70108 5001.22060 531.20631 1975.16052\n",
       "75%   115212.81654 5923.80360 637.95709 2119.80278\n",
       "max   147539.33633 7959.12507 801.79502 2497.29522"
      ]
     },
     "execution_count": 28,
     "metadata": {},
     "output_type": "execute_result"
    }
   ],
   "source": [
    "df_control.describe()"
   ]
  },
  {
   "cell_type": "code",
   "execution_count": 29,
   "id": "0d7e7059-06b4-4754-a8ee-4c1b5d5971c1",
   "metadata": {},
   "outputs": [
    {
     "data": {
      "text/html": [
       "<div>\n",
       "<style scoped>\n",
       "    .dataframe tbody tr th:only-of-type {\n",
       "        vertical-align: middle;\n",
       "    }\n",
       "\n",
       "    .dataframe tbody tr th {\n",
       "        vertical-align: top;\n",
       "    }\n",
       "\n",
       "    .dataframe thead th {\n",
       "        text-align: right;\n",
       "    }\n",
       "</style>\n",
       "<table border=\"1\" class=\"dataframe\">\n",
       "  <thead>\n",
       "    <tr style=\"text-align: right;\">\n",
       "      <th></th>\n",
       "      <th>Impression</th>\n",
       "      <th>Click</th>\n",
       "      <th>Purchase</th>\n",
       "      <th>Earning</th>\n",
       "    </tr>\n",
       "  </thead>\n",
       "  <tbody>\n",
       "    <tr>\n",
       "      <th>count</th>\n",
       "      <td>40.00000</td>\n",
       "      <td>40.00000</td>\n",
       "      <td>40.00000</td>\n",
       "      <td>40.00000</td>\n",
       "    </tr>\n",
       "    <tr>\n",
       "      <th>mean</th>\n",
       "      <td>120512.41176</td>\n",
       "      <td>3967.54976</td>\n",
       "      <td>582.10610</td>\n",
       "      <td>2514.89073</td>\n",
       "    </tr>\n",
       "    <tr>\n",
       "      <th>std</th>\n",
       "      <td>18807.44871</td>\n",
       "      <td>923.09507</td>\n",
       "      <td>161.15251</td>\n",
       "      <td>282.73085</td>\n",
       "    </tr>\n",
       "    <tr>\n",
       "      <th>min</th>\n",
       "      <td>79033.83492</td>\n",
       "      <td>1836.62986</td>\n",
       "      <td>311.62952</td>\n",
       "      <td>1939.61124</td>\n",
       "    </tr>\n",
       "    <tr>\n",
       "      <th>25%</th>\n",
       "      <td>112691.97077</td>\n",
       "      <td>3376.81902</td>\n",
       "      <td>444.62683</td>\n",
       "      <td>2280.53743</td>\n",
       "    </tr>\n",
       "    <tr>\n",
       "      <th>50%</th>\n",
       "      <td>119291.30077</td>\n",
       "      <td>3931.35980</td>\n",
       "      <td>551.35573</td>\n",
       "      <td>2544.66611</td>\n",
       "    </tr>\n",
       "    <tr>\n",
       "      <th>75%</th>\n",
       "      <td>132050.57893</td>\n",
       "      <td>4660.49791</td>\n",
       "      <td>699.86236</td>\n",
       "      <td>2761.54540</td>\n",
       "    </tr>\n",
       "    <tr>\n",
       "      <th>max</th>\n",
       "      <td>158605.92048</td>\n",
       "      <td>6019.69508</td>\n",
       "      <td>889.91046</td>\n",
       "      <td>3171.48971</td>\n",
       "    </tr>\n",
       "  </tbody>\n",
       "</table>\n",
       "</div>"
      ],
      "text/plain": [
       "        Impression      Click  Purchase    Earning\n",
       "count     40.00000   40.00000  40.00000   40.00000\n",
       "mean  120512.41176 3967.54976 582.10610 2514.89073\n",
       "std    18807.44871  923.09507 161.15251  282.73085\n",
       "min    79033.83492 1836.62986 311.62952 1939.61124\n",
       "25%   112691.97077 3376.81902 444.62683 2280.53743\n",
       "50%   119291.30077 3931.35980 551.35573 2544.66611\n",
       "75%   132050.57893 4660.49791 699.86236 2761.54540\n",
       "max   158605.92048 6019.69508 889.91046 3171.48971"
      ]
     },
     "execution_count": 29,
     "metadata": {},
     "output_type": "execute_result"
    }
   ],
   "source": [
    "df_test.describe()"
   ]
  },
  {
   "cell_type": "markdown",
   "id": "0866bfd0-cb97-4d81-adb7-e2fb77f0b282",
   "metadata": {},
   "source": [
    "## Görev 1:"
   ]
  },
  {
   "cell_type": "markdown",
   "id": "89e666f4-59f9-49af-8b8b-d73b8a5837cd",
   "metadata": {},
   "source": [
    "#### A/B testinin hipotezini tanımlayınız."
   ]
  },
  {
   "cell_type": "markdown",
   "id": "9d91c925-6db9-49c1-9b38-091f34e17b68",
   "metadata": {},
   "source": [
    "H0: M1 = M2 (Maximum Bidding ile Average Bidding kazançları arasında istatistiksel olarak anlamlı fark yoktur.)\n",
    "\n",
    "H1: M1 != M2 (Maximum Bidding ile Average Bidding kazançları arasında istatistiksel olarak anlamlı fark vardır)"
   ]
  },
  {
   "cell_type": "markdown",
   "id": "79612be1-d12f-4a6d-9085-c189d70705b6",
   "metadata": {},
   "source": [
    "## Görev 2:"
   ]
  },
  {
   "cell_type": "markdown",
   "id": "07b8b9a5-30b6-49a1-b6a1-e338099db38e",
   "metadata": {},
   "source": [
    "#### Çıkan test sonuçlarının istatistiksel olarak anlamlı olup olmadığını yorumlayınız."
   ]
  },
  {
   "cell_type": "markdown",
   "id": "9e26be24-df25-40b0-b1d6-3bce5adf934d",
   "metadata": {},
   "source": [
    "##### 1. Varsayım Kontrolü"
   ]
  },
  {
   "cell_type": "markdown",
   "id": "259da51a-da68-4f36-b5a6-4ff786934992",
   "metadata": {},
   "source": [
    "###### a) Normallik Varsayımı"
   ]
  },
  {
   "cell_type": "markdown",
   "id": "dd6c97ae-2111-4a1f-9a94-2aa0814f3bd1",
   "metadata": {},
   "source": [
    "H0: Normal dağılım varsayımı sağlanmaktadır.\n",
    "\n",
    "H1: ..sağlanmamaktadır."
   ]
  },
  {
   "cell_type": "code",
   "execution_count": 30,
   "id": "e6c891a6-9e89-4847-8af4-d46f7d5645b5",
   "metadata": {},
   "outputs": [
    {
     "name": "stdout",
     "output_type": "stream",
     "text": [
      "Test Stat = 0.9773, p-value = 0.5891\n"
     ]
    }
   ],
   "source": [
    "test_stat, pvalue = shapiro(df_control[\"Purchase\"])\n",
    "print('Test Stat = %.4f, p-value = %.4f' % (test_stat, pvalue))"
   ]
  },
  {
   "cell_type": "code",
   "execution_count": 31,
   "id": "f3ef9c4b-4038-42f0-93ec-33c4006b6747",
   "metadata": {},
   "outputs": [
    {
     "name": "stdout",
     "output_type": "stream",
     "text": [
      "Test Stat = 0.9589, p-value = 0.1541\n"
     ]
    }
   ],
   "source": [
    "test_stat, pvalue = shapiro(df_test[\"Purchase\"])\n",
    "print('Test Stat = %.4f, p-value = %.4f' % (test_stat, pvalue))"
   ]
  },
  {
   "cell_type": "markdown",
   "id": "d17c12f3-1e02-4c48-bea4-aec14cc373bd",
   "metadata": {},
   "source": [
    "p-value > 0.05 olduğundan H0 red edilemez.\n",
    "Her iki veri setindeki Purchase verileri normal dağılım göstermektedir."
   ]
  },
  {
   "cell_type": "markdown",
   "id": "c45df43d-fc08-443b-a44d-08f3df9c136e",
   "metadata": {},
   "source": [
    "###### b) Varyans Homojenligi Varsayımı"
   ]
  },
  {
   "cell_type": "markdown",
   "id": "067d2a88-ace7-44e2-94ed-946205a99534",
   "metadata": {},
   "source": [
    "H0: Varyanslar Homojendir\n",
    "\n",
    "H1: Varyanslar Homojen Değildir"
   ]
  },
  {
   "cell_type": "code",
   "execution_count": 32,
   "id": "1d14649c-3cdf-4785-bfcc-6242a5161b1e",
   "metadata": {},
   "outputs": [
    {
     "name": "stdout",
     "output_type": "stream",
     "text": [
      "Test Stat = 2.6393, p-value = 0.1083\n"
     ]
    }
   ],
   "source": [
    "test_stat, pvalue = levene(df_control[\"Purchase\"],\n",
    "                           df_test[\"Purchase\"])\n",
    "\n",
    "print('Test Stat = %.4f, p-value = %.4f' % (test_stat, pvalue))"
   ]
  },
  {
   "cell_type": "markdown",
   "id": "2d85fb7a-424e-4b5c-ab61-57130bfb2b51",
   "metadata": {},
   "source": [
    "p-value > 0.05 olduğundan H0 red edilemez. Her iki veri setindeki Purchase verilerin varyansları homojendir."
   ]
  },
  {
   "cell_type": "markdown",
   "id": "bdac8462-09cf-45cf-ad1b-11508ba472e4",
   "metadata": {},
   "source": [
    "##### 2. Hipotezin Uygulanması"
   ]
  },
  {
   "cell_type": "markdown",
   "id": "413336ce-75e8-4119-946b-1a501f76a765",
   "metadata": {},
   "source": [
    "###### Normallik varsayımı sağlandığından bağımsız iki örneklem t testi (parametrik test) uygulanacaktır."
   ]
  },
  {
   "cell_type": "code",
   "execution_count": 33,
   "id": "8db06526-8499-4ebd-b829-821161416d7f",
   "metadata": {},
   "outputs": [
    {
     "name": "stdout",
     "output_type": "stream",
     "text": [
      "Test Stat = -0.9416, p-value = 0.3493\n"
     ]
    }
   ],
   "source": [
    "test_stat, pvalue = ttest_ind(df_control[\"Purchase\"],\n",
    "                              df_test[\"Purchase\"],\n",
    "                              equal_var=True)\n",
    "\n",
    "print('Test Stat = %.4f, p-value = %.4f' % (test_stat, pvalue))"
   ]
  },
  {
   "cell_type": "markdown",
   "id": "bc300665-22f8-4349-b629-60ef5ea964e8",
   "metadata": {},
   "source": [
    "p-value > 0.05 olduğundan H0 red edilemez. Her iki bidding yönteminin şirkete getireceği satın alma sayısı(Purchase) arasında istatiksel olarak anlamlı bir fark yoktur. "
   ]
  },
  {
   "cell_type": "markdown",
   "id": "b868fd10-f237-4a22-81f7-4e8b49716645",
   "metadata": {},
   "source": [
    "## Görev 3:"
   ]
  },
  {
   "cell_type": "markdown",
   "id": "bbfa0f34-20e8-4374-9d4f-37b502758000",
   "metadata": {},
   "source": [
    "#### Hangi testleri kullandınız? Sebeplerini belirtiniz."
   ]
  },
  {
   "cell_type": "markdown",
   "id": "3e7c6938-9e20-4f3f-90e1-e7ce4ff66202",
   "metadata": {},
   "source": [
    "Her iki normallik varsayımı da sağlandığından bağımsız iki örneklem t testi (parametrik test) uygulanılmıştır."
   ]
  },
  {
   "cell_type": "markdown",
   "id": "0ff3fe95-1068-4619-833b-9ee50140edd6",
   "metadata": {},
   "source": [
    "## Görev 4:"
   ]
  },
  {
   "cell_type": "markdown",
   "id": "39641cce-8144-4ca8-b121-413b03dceebb",
   "metadata": {},
   "source": [
    "#### Görev 2’de verdiğiniz cevaba göre, müşteriye tavsiyeniz nedir?"
   ]
  },
  {
   "cell_type": "markdown",
   "id": "47a7d475-b049-49e6-b91f-8418b3f8da1e",
   "metadata": {},
   "source": [
    "#### Earning Üzerinden A/B Test"
   ]
  },
  {
   "cell_type": "code",
   "execution_count": 34,
   "id": "f7deb3b2-284f-4da8-af54-1c534d5a79d5",
   "metadata": {},
   "outputs": [
    {
     "name": "stdout",
     "output_type": "stream",
     "text": [
      "Test Stat = 0.9756, p-value = 0.5306\n"
     ]
    }
   ],
   "source": [
    "test_stat, pvalue = shapiro(df_control[\"Earning\"])\n",
    "print('Test Stat = %.4f, p-value = %.4f' % (test_stat, pvalue))"
   ]
  },
  {
   "cell_type": "code",
   "execution_count": 36,
   "id": "8321b601-f27c-4e70-a7b1-c85d46678316",
   "metadata": {},
   "outputs": [
    {
     "name": "stdout",
     "output_type": "stream",
     "text": [
      "Test Stat = 0.9780, p-value = 0.6163\n"
     ]
    }
   ],
   "source": [
    "test_stat, pvalue = shapiro(df_test[\"Earning\"])\n",
    "print('Test Stat = %.4f, p-value = %.4f' % (test_stat, pvalue))"
   ]
  },
  {
   "cell_type": "code",
   "execution_count": 37,
   "id": "dadc0d70-bbd4-4967-af72-4eb1cad87229",
   "metadata": {},
   "outputs": [
    {
     "name": "stdout",
     "output_type": "stream",
     "text": [
      "Test Stat = 0.3532, p-value = 0.5540\n"
     ]
    }
   ],
   "source": [
    "test_stat, pvalue = levene(df_control[\"Earning\"],\n",
    "                           df_test[\"Earning\"])\n",
    "\n",
    "print('Test Stat = %.4f, p-value = %.4f' % (test_stat, pvalue))"
   ]
  },
  {
   "cell_type": "code",
   "execution_count": 38,
   "id": "0a6ea648-970f-446e-bb85-693d449c1460",
   "metadata": {},
   "outputs": [
    {
     "name": "stdout",
     "output_type": "stream",
     "text": [
      "Test Stat = -9.2545, p-value = 0.0000\n"
     ]
    }
   ],
   "source": [
    "test_stat, pvalue = ttest_ind(df_control[\"Earning\"],\n",
    "                              df_test[\"Earning\"],\n",
    "                              equal_var=True)\n",
    "\n",
    "print('Test Stat = %.4f, p-value = %.4f' % (test_stat, pvalue))"
   ]
  },
  {
   "cell_type": "markdown",
   "id": "d44dfd31-c2a3-4555-b95d-2804cd4ba4fb",
   "metadata": {},
   "source": [
    "p-value < 0.05 olduğundan H0 red edilir. Her iki bidding yönteminin şirkete getireceği kazanç(Earning) arasında istatiksel olarak anlamlı bir fark vardır."
   ]
  },
  {
   "cell_type": "markdown",
   "id": "7da1669a-bfcf-4b31-acab-2138b70bb380",
   "metadata": {},
   "source": [
    "#### Impression Üzerinden A/B Test"
   ]
  },
  {
   "cell_type": "code",
   "execution_count": 39,
   "id": "f0d39516-2bdd-412f-9bd2-3ac72b9fa737",
   "metadata": {},
   "outputs": [
    {
     "name": "stdout",
     "output_type": "stream",
     "text": [
      "Test Stat = 0.9697, p-value = 0.3514\n"
     ]
    }
   ],
   "source": [
    "test_stat, pvalue = shapiro(df_control[\"Impression\"])\n",
    "print('Test Stat = %.4f, p-value = %.4f' % (test_stat, pvalue))"
   ]
  },
  {
   "cell_type": "code",
   "execution_count": 40,
   "id": "5f92d390-6454-446a-ac75-ef8794515a5e",
   "metadata": {},
   "outputs": [
    {
     "name": "stdout",
     "output_type": "stream",
     "text": [
      "Test Stat = 0.9720, p-value = 0.4148\n"
     ]
    }
   ],
   "source": [
    "test_stat, pvalue = shapiro(df_test[\"Impression\"])\n",
    "print('Test Stat = %.4f, p-value = %.4f' % (test_stat, pvalue))"
   ]
  },
  {
   "cell_type": "code",
   "execution_count": 41,
   "id": "73e25c51-dd50-4e2e-aaba-6e1fd4042152",
   "metadata": {},
   "outputs": [
    {
     "name": "stdout",
     "output_type": "stream",
     "text": [
      "Test Stat = 0.5865, p-value = 0.4461\n"
     ]
    }
   ],
   "source": [
    "test_stat, pvalue = levene(df_control[\"Impression\"],\n",
    "                           df_test[\"Impression\"])\n",
    "\n",
    "print('Test Stat = %.4f, p-value = %.4f' % (test_stat, pvalue))"
   ]
  },
  {
   "cell_type": "code",
   "execution_count": 42,
   "id": "343612e9-7bd0-4959-b2dc-aa542719e95f",
   "metadata": {},
   "outputs": [
    {
     "name": "stdout",
     "output_type": "stream",
     "text": [
      "Test Stat = -4.2966, p-value = 0.0000\n"
     ]
    }
   ],
   "source": [
    "test_stat, pvalue = ttest_ind(df_control[\"Impression\"],\n",
    "                              df_test[\"Impression\"],\n",
    "                              equal_var=True)\n",
    "\n",
    "print('Test Stat = %.4f, p-value = %.4f' % (test_stat, pvalue))"
   ]
  },
  {
   "cell_type": "markdown",
   "id": "0173b007-6e20-40ba-9cf4-a04792c01d2d",
   "metadata": {},
   "source": [
    "p-value < 0.05 olduğundan H0 red edilir. Her iki bidding yönteminin şirkete getireceği reklam görüntüleme sayısı(Impression) arasında istatiksel olarak anlamlı bir fark vardır."
   ]
  },
  {
   "cell_type": "markdown",
   "id": "e55ef3b3-ecb7-4024-99a7-11e52a0e6aa9",
   "metadata": {},
   "source": [
    "#### Click Üzerinden A/B Test"
   ]
  },
  {
   "cell_type": "code",
   "execution_count": 43,
   "id": "ed5387be-24b6-4e83-9973-4f700d51a251",
   "metadata": {},
   "outputs": [
    {
     "name": "stdout",
     "output_type": "stream",
     "text": [
      "Test Stat = 0.9844, p-value = 0.8461\n"
     ]
    }
   ],
   "source": [
    "test_stat, pvalue = shapiro(df_control[\"Click\"])\n",
    "print('Test Stat = %.4f, p-value = %.4f' % (test_stat, pvalue))"
   ]
  },
  {
   "cell_type": "code",
   "execution_count": 44,
   "id": "b4429fe2-3f3b-417a-b67e-743131cd8331",
   "metadata": {},
   "outputs": [
    {
     "name": "stdout",
     "output_type": "stream",
     "text": [
      "Test Stat = 0.9896, p-value = 0.9699\n"
     ]
    }
   ],
   "source": [
    "test_stat, pvalue = shapiro(df_test[\"Click\"])\n",
    "print('Test Stat = %.4f, p-value = %.4f' % (test_stat, pvalue))"
   ]
  },
  {
   "cell_type": "code",
   "execution_count": 45,
   "id": "0fe4d909-132d-43ef-9fe2-e79c584d78f1",
   "metadata": {},
   "outputs": [
    {
     "name": "stdout",
     "output_type": "stream",
     "text": [
      "Test Stat = 0.5865, p-value = 0.4461\n"
     ]
    }
   ],
   "source": [
    "test_stat, pvalue = levene(df_control[\"Impression\"],\n",
    "                           df_test[\"Impression\"])\n",
    "\n",
    "print('Test Stat = %.4f, p-value = %.4f' % (test_stat, pvalue))"
   ]
  },
  {
   "cell_type": "code",
   "execution_count": 46,
   "id": "27a73a9d-0b87-47d7-8ece-962979c0c29e",
   "metadata": {},
   "outputs": [
    {
     "name": "stdout",
     "output_type": "stream",
     "text": [
      "Test Stat = -4.2966, p-value = 0.0000\n"
     ]
    }
   ],
   "source": [
    "test_stat, pvalue = ttest_ind(df_control[\"Impression\"],\n",
    "                              df_test[\"Impression\"],\n",
    "                              equal_var=True)\n",
    "\n",
    "print('Test Stat = %.4f, p-value = %.4f' % (test_stat, pvalue))"
   ]
  },
  {
   "cell_type": "markdown",
   "id": "81640cea-9d5b-4b08-9cdf-75e180265c33",
   "metadata": {},
   "source": [
    "p-value < 0.05 olduğundan H0 red edilir. Her iki bidding yönteminin şirkete getireceği görüntülenen reklama tıklanma sayısı(Click) arasında istatiksel olarak anlamlı bir fark vardır."
   ]
  },
  {
   "cell_type": "markdown",
   "id": "8ea178f7-f74b-4242-add0-23b2cfa791ae",
   "metadata": {},
   "source": [
    "\n",
    "Buna göre, müşterimiz olan ilgili şirkete Average Bidding yönteminin Purchase satın alma sayısında anlamsal olarak bir farklılık olmadığını belirtirdim. Ancak, Purchase dışındaki diğer tüm değişkenler arasında bir farklılık olduğunu belirterek, reklam verilen platformun(Facebook) Average Bidding yöntemi için bu yönde bir avantaj sağladığını ifade ederdim. Bu ;durumun şans eseri olup olmadığı konusunun netleşmesi için daha fazla veri setinin tutulması ve tekrardan bize ulaşmalarını söylerdim. :)\n",
    "\n"
   ]
  },
  {
   "cell_type": "markdown",
   "id": "c2c2f9e0-fc9d-43a9-a864-d6b2b83d7667",
   "metadata": {},
   "source": [
    "## İKİ ÖRNEKLEM ORAN TESTİ"
   ]
  },
  {
   "cell_type": "code",
   "execution_count": 10,
   "id": "55cb1c28-157a-426f-8481-a11be0eacd2c",
   "metadata": {},
   "outputs": [
    {
     "data": {
      "text/plain": [
       "40"
      ]
     },
     "execution_count": 10,
     "metadata": {},
     "output_type": "execute_result"
    }
   ],
   "source": [
    "df_control[\"Purchase\"].shape[0]"
   ]
  },
  {
   "cell_type": "code",
   "execution_count": 11,
   "id": "bd08432e-e8bf-47b8-a900-ac3b467c77b8",
   "metadata": {},
   "outputs": [
    {
     "data": {
      "text/plain": [
       "40"
      ]
     },
     "execution_count": 11,
     "metadata": {},
     "output_type": "execute_result"
    }
   ],
   "source": [
    "df_test[\"Purchase\"].shape[0]"
   ]
  },
  {
   "cell_type": "code",
   "execution_count": 18,
   "id": "5cac9bad-0581-4415-8f5a-271c66c98bd2",
   "metadata": {},
   "outputs": [
    {
     "data": {
      "text/plain": [
       "22035.762350809266"
      ]
     },
     "execution_count": 18,
     "metadata": {},
     "output_type": "execute_result"
    }
   ],
   "source": [
    "df_control[\"Purchase\"].sum()"
   ]
  },
  {
   "cell_type": "code",
   "execution_count": 19,
   "id": "379fc11b-8f52-4ce2-9683-c05be3f673e5",
   "metadata": {},
   "outputs": [
    {
     "data": {
      "text/plain": [
       "[22035.762350809266, 23284.243865938704]"
      ]
     },
     "execution_count": 19,
     "metadata": {},
     "output_type": "execute_result"
    }
   ],
   "source": [
    "basari_sayisi = [df_control[\"Purchase\"].sum(), df_test[\"Purchase\"].sum()]\n",
    "basari_sayisi"
   ]
  },
  {
   "cell_type": "code",
   "execution_count": 20,
   "id": "556729da-81e5-4bab-ae41-18ed75e93246",
   "metadata": {},
   "outputs": [
    {
     "data": {
      "text/plain": [
       "[4068457.962707891, 4820496.47030138]"
      ]
     },
     "execution_count": 20,
     "metadata": {},
     "output_type": "execute_result"
    }
   ],
   "source": [
    "gözlem_sayisi = [df_control[\"Impression\"].sum(), df_test[\"Impression\"].sum()]\n",
    "gözlem_sayisi"
   ]
  },
  {
   "cell_type": "code",
   "execution_count": 27,
   "id": "fa59b6f7-4bad-4514-9035-df8ba74f7905",
   "metadata": {},
   "outputs": [],
   "source": [
    "ttest_z, p_value_z = proportions_ztest(basari_sayisi, gözlem_sayisi)"
   ]
  },
  {
   "cell_type": "code",
   "execution_count": 29,
   "id": "3e033f51-4f23-406d-8a1b-bac48247d206",
   "metadata": {},
   "outputs": [
    {
     "name": "stdout",
     "output_type": "stream",
     "text": [
      "ttest istatistiği: 12.221173465876399\n",
      "p_value: 0.0000000000\n"
     ]
    }
   ],
   "source": [
    "print(\"ttest istatistiği: {}\\np_value: {:.10f}\".format(ttest_z, p_value_z))"
   ]
  },
  {
   "cell_type": "code",
   "execution_count": 31,
   "id": "fdc16813-ad50-412b-86b2-81f53dd2d47d",
   "metadata": {},
   "outputs": [
    {
     "data": {
      "text/plain": [
       "184.6297803515056"
      ]
     },
     "execution_count": 31,
     "metadata": {},
     "output_type": "execute_result"
    }
   ],
   "source": [
    "donusum_oranı_control = df_control[\"Impression\"].sum() / df_control[\"Purchase\"].sum()\n",
    "donusum_oranı_control"
   ]
  },
  {
   "cell_type": "code",
   "execution_count": 33,
   "id": "42e0e693-fe3f-4d16-ae14-7297cb654670",
   "metadata": {},
   "outputs": [
    {
     "data": {
      "text/plain": [
       "207.02825902596868"
      ]
     },
     "execution_count": 33,
     "metadata": {},
     "output_type": "execute_result"
    }
   ],
   "source": [
    "df_test[\"Impression\"].sum() / df_test[\"Purchase\"].sum()"
   ]
  },
  {
   "cell_type": "code",
   "execution_count": null,
   "id": "ccaa7ff0-533b-4a35-a4b8-363a0e9d1090",
   "metadata": {},
   "outputs": [],
   "source": []
  }
 ],
 "metadata": {
  "kernelspec": {
   "display_name": "Python 3",
   "language": "python",
   "name": "python3"
  },
  "language_info": {
   "codemirror_mode": {
    "name": "ipython",
    "version": 3
   },
   "file_extension": ".py",
   "mimetype": "text/x-python",
   "name": "python",
   "nbconvert_exporter": "python",
   "pygments_lexer": "ipython3",
   "version": "3.8.8"
  }
 },
 "nbformat": 4,
 "nbformat_minor": 5
}
