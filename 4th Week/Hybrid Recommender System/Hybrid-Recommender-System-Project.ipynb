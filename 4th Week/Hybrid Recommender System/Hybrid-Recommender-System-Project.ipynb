{
 "cells": [
  {
   "cell_type": "markdown",
   "id": "fe05e2ef-e3ff-4ab2-84f8-86ed52f8ba04",
   "metadata": {},
   "source": [
    "## Görev 1:"
   ]
  },
  {
   "cell_type": "markdown",
   "id": "ce54fb2d-1224-4e67-be0a-caa27e5846a4",
   "metadata": {},
   "source": [
    "#### Veri Hazırlama işlemlerini gerçekleştiriniz."
   ]
  },
  {
   "cell_type": "code",
   "execution_count": 1,
   "id": "bbbd3ac6-31e3-4600-8a6e-15323916586b",
   "metadata": {},
   "outputs": [],
   "source": [
    "import pandas as pd\n",
    "pd.set_option('display.max_columns', 20)"
   ]
  },
  {
   "cell_type": "code",
   "execution_count": 2,
   "id": "66270a84-42ef-4338-bfd8-e47063b41063",
   "metadata": {},
   "outputs": [],
   "source": [
    "movie = pd.read_csv(r'C:/Users/eyp_d/Desktop/VBO-Bootcamp-Dersler/4.Hafta/Ders Öncesi Notlar/movie_lens_dataset/movie.csv')\n",
    "rating = pd.read_csv('C:/Users/eyp_d/Desktop/VBO-Bootcamp-Dersler/4.Hafta/Ders Öncesi Notlar/movie_lens_dataset/rating.csv')"
   ]
  },
  {
   "cell_type": "code",
   "execution_count": 3,
   "id": "ee274928-8d04-4bad-bfee-92ecb0f7cee0",
   "metadata": {},
   "outputs": [
    {
     "data": {
      "text/html": [
       "<div>\n",
       "<style scoped>\n",
       "    .dataframe tbody tr th:only-of-type {\n",
       "        vertical-align: middle;\n",
       "    }\n",
       "\n",
       "    .dataframe tbody tr th {\n",
       "        vertical-align: top;\n",
       "    }\n",
       "\n",
       "    .dataframe thead th {\n",
       "        text-align: right;\n",
       "    }\n",
       "</style>\n",
       "<table border=\"1\" class=\"dataframe\">\n",
       "  <thead>\n",
       "    <tr style=\"text-align: right;\">\n",
       "      <th></th>\n",
       "      <th>movieId</th>\n",
       "      <th>title</th>\n",
       "      <th>genres</th>\n",
       "    </tr>\n",
       "  </thead>\n",
       "  <tbody>\n",
       "    <tr>\n",
       "      <th>0</th>\n",
       "      <td>1</td>\n",
       "      <td>Toy Story (1995)</td>\n",
       "      <td>Adventure|Animation|Children|Comedy|Fantasy</td>\n",
       "    </tr>\n",
       "    <tr>\n",
       "      <th>1</th>\n",
       "      <td>2</td>\n",
       "      <td>Jumanji (1995)</td>\n",
       "      <td>Adventure|Children|Fantasy</td>\n",
       "    </tr>\n",
       "    <tr>\n",
       "      <th>2</th>\n",
       "      <td>3</td>\n",
       "      <td>Grumpier Old Men (1995)</td>\n",
       "      <td>Comedy|Romance</td>\n",
       "    </tr>\n",
       "    <tr>\n",
       "      <th>3</th>\n",
       "      <td>4</td>\n",
       "      <td>Waiting to Exhale (1995)</td>\n",
       "      <td>Comedy|Drama|Romance</td>\n",
       "    </tr>\n",
       "    <tr>\n",
       "      <th>4</th>\n",
       "      <td>5</td>\n",
       "      <td>Father of the Bride Part II (1995)</td>\n",
       "      <td>Comedy</td>\n",
       "    </tr>\n",
       "  </tbody>\n",
       "</table>\n",
       "</div>"
      ],
      "text/plain": [
       "   movieId                               title  \\\n",
       "0        1                    Toy Story (1995)   \n",
       "1        2                      Jumanji (1995)   \n",
       "2        3             Grumpier Old Men (1995)   \n",
       "3        4            Waiting to Exhale (1995)   \n",
       "4        5  Father of the Bride Part II (1995)   \n",
       "\n",
       "                                        genres  \n",
       "0  Adventure|Animation|Children|Comedy|Fantasy  \n",
       "1                   Adventure|Children|Fantasy  \n",
       "2                               Comedy|Romance  \n",
       "3                         Comedy|Drama|Romance  \n",
       "4                                       Comedy  "
      ]
     },
     "execution_count": 3,
     "metadata": {},
     "output_type": "execute_result"
    }
   ],
   "source": [
    "movie.head()"
   ]
  },
  {
   "cell_type": "code",
   "execution_count": 4,
   "id": "008b71f6-7daa-41d5-bd6b-87b04993c976",
   "metadata": {},
   "outputs": [
    {
     "data": {
      "text/html": [
       "<div>\n",
       "<style scoped>\n",
       "    .dataframe tbody tr th:only-of-type {\n",
       "        vertical-align: middle;\n",
       "    }\n",
       "\n",
       "    .dataframe tbody tr th {\n",
       "        vertical-align: top;\n",
       "    }\n",
       "\n",
       "    .dataframe thead th {\n",
       "        text-align: right;\n",
       "    }\n",
       "</style>\n",
       "<table border=\"1\" class=\"dataframe\">\n",
       "  <thead>\n",
       "    <tr style=\"text-align: right;\">\n",
       "      <th></th>\n",
       "      <th>userId</th>\n",
       "      <th>movieId</th>\n",
       "      <th>rating</th>\n",
       "      <th>timestamp</th>\n",
       "    </tr>\n",
       "  </thead>\n",
       "  <tbody>\n",
       "    <tr>\n",
       "      <th>0</th>\n",
       "      <td>1</td>\n",
       "      <td>2</td>\n",
       "      <td>3.5</td>\n",
       "      <td>2005-04-02 23:53:47</td>\n",
       "    </tr>\n",
       "    <tr>\n",
       "      <th>1</th>\n",
       "      <td>1</td>\n",
       "      <td>29</td>\n",
       "      <td>3.5</td>\n",
       "      <td>2005-04-02 23:31:16</td>\n",
       "    </tr>\n",
       "    <tr>\n",
       "      <th>2</th>\n",
       "      <td>1</td>\n",
       "      <td>32</td>\n",
       "      <td>3.5</td>\n",
       "      <td>2005-04-02 23:33:39</td>\n",
       "    </tr>\n",
       "    <tr>\n",
       "      <th>3</th>\n",
       "      <td>1</td>\n",
       "      <td>47</td>\n",
       "      <td>3.5</td>\n",
       "      <td>2005-04-02 23:32:07</td>\n",
       "    </tr>\n",
       "    <tr>\n",
       "      <th>4</th>\n",
       "      <td>1</td>\n",
       "      <td>50</td>\n",
       "      <td>3.5</td>\n",
       "      <td>2005-04-02 23:29:40</td>\n",
       "    </tr>\n",
       "  </tbody>\n",
       "</table>\n",
       "</div>"
      ],
      "text/plain": [
       "   userId  movieId  rating            timestamp\n",
       "0       1        2     3.5  2005-04-02 23:53:47\n",
       "1       1       29     3.5  2005-04-02 23:31:16\n",
       "2       1       32     3.5  2005-04-02 23:33:39\n",
       "3       1       47     3.5  2005-04-02 23:32:07\n",
       "4       1       50     3.5  2005-04-02 23:29:40"
      ]
     },
     "execution_count": 4,
     "metadata": {},
     "output_type": "execute_result"
    }
   ],
   "source": [
    "rating.head()"
   ]
  },
  {
   "cell_type": "code",
   "execution_count": 5,
   "id": "a5db9689-841e-4300-ad6f-1b73d852082c",
   "metadata": {},
   "outputs": [],
   "source": [
    "df = movie.merge(rating, how=\"left\", on=\"movieId\")"
   ]
  },
  {
   "cell_type": "code",
   "execution_count": 6,
   "id": "d550a8ea-8013-4db9-8565-d209dc64e0f5",
   "metadata": {},
   "outputs": [
    {
     "data": {
      "text/html": [
       "<div>\n",
       "<style scoped>\n",
       "    .dataframe tbody tr th:only-of-type {\n",
       "        vertical-align: middle;\n",
       "    }\n",
       "\n",
       "    .dataframe tbody tr th {\n",
       "        vertical-align: top;\n",
       "    }\n",
       "\n",
       "    .dataframe thead th {\n",
       "        text-align: right;\n",
       "    }\n",
       "</style>\n",
       "<table border=\"1\" class=\"dataframe\">\n",
       "  <thead>\n",
       "    <tr style=\"text-align: right;\">\n",
       "      <th></th>\n",
       "      <th>movieId</th>\n",
       "      <th>title</th>\n",
       "      <th>genres</th>\n",
       "      <th>userId</th>\n",
       "      <th>rating</th>\n",
       "      <th>timestamp</th>\n",
       "    </tr>\n",
       "  </thead>\n",
       "  <tbody>\n",
       "    <tr>\n",
       "      <th>0</th>\n",
       "      <td>1</td>\n",
       "      <td>Toy Story (1995)</td>\n",
       "      <td>Adventure|Animation|Children|Comedy|Fantasy</td>\n",
       "      <td>3.0</td>\n",
       "      <td>4.0</td>\n",
       "      <td>1999-12-11 13:36:47</td>\n",
       "    </tr>\n",
       "    <tr>\n",
       "      <th>1</th>\n",
       "      <td>1</td>\n",
       "      <td>Toy Story (1995)</td>\n",
       "      <td>Adventure|Animation|Children|Comedy|Fantasy</td>\n",
       "      <td>6.0</td>\n",
       "      <td>5.0</td>\n",
       "      <td>1997-03-13 17:50:52</td>\n",
       "    </tr>\n",
       "    <tr>\n",
       "      <th>2</th>\n",
       "      <td>1</td>\n",
       "      <td>Toy Story (1995)</td>\n",
       "      <td>Adventure|Animation|Children|Comedy|Fantasy</td>\n",
       "      <td>8.0</td>\n",
       "      <td>4.0</td>\n",
       "      <td>1996-06-05 13:37:51</td>\n",
       "    </tr>\n",
       "    <tr>\n",
       "      <th>3</th>\n",
       "      <td>1</td>\n",
       "      <td>Toy Story (1995)</td>\n",
       "      <td>Adventure|Animation|Children|Comedy|Fantasy</td>\n",
       "      <td>10.0</td>\n",
       "      <td>4.0</td>\n",
       "      <td>1999-11-25 02:44:47</td>\n",
       "    </tr>\n",
       "    <tr>\n",
       "      <th>4</th>\n",
       "      <td>1</td>\n",
       "      <td>Toy Story (1995)</td>\n",
       "      <td>Adventure|Animation|Children|Comedy|Fantasy</td>\n",
       "      <td>11.0</td>\n",
       "      <td>4.5</td>\n",
       "      <td>2009-01-02 01:13:41</td>\n",
       "    </tr>\n",
       "  </tbody>\n",
       "</table>\n",
       "</div>"
      ],
      "text/plain": [
       "   movieId             title                                       genres  \\\n",
       "0        1  Toy Story (1995)  Adventure|Animation|Children|Comedy|Fantasy   \n",
       "1        1  Toy Story (1995)  Adventure|Animation|Children|Comedy|Fantasy   \n",
       "2        1  Toy Story (1995)  Adventure|Animation|Children|Comedy|Fantasy   \n",
       "3        1  Toy Story (1995)  Adventure|Animation|Children|Comedy|Fantasy   \n",
       "4        1  Toy Story (1995)  Adventure|Animation|Children|Comedy|Fantasy   \n",
       "\n",
       "   userId  rating            timestamp  \n",
       "0     3.0     4.0  1999-12-11 13:36:47  \n",
       "1     6.0     5.0  1997-03-13 17:50:52  \n",
       "2     8.0     4.0  1996-06-05 13:37:51  \n",
       "3    10.0     4.0  1999-11-25 02:44:47  \n",
       "4    11.0     4.5  2009-01-02 01:13:41  "
      ]
     },
     "execution_count": 6,
     "metadata": {},
     "output_type": "execute_result"
    }
   ],
   "source": [
    "df.head()"
   ]
  },
  {
   "cell_type": "code",
   "execution_count": 7,
   "id": "2ddcf032-ebc4-4b86-852f-674afdb5472f",
   "metadata": {},
   "outputs": [],
   "source": [
    "comment_counts = pd.DataFrame(df[\"title\"].value_counts())"
   ]
  },
  {
   "cell_type": "code",
   "execution_count": 8,
   "id": "1708d4d5-388c-4d28-b67b-30ccebaeb3f0",
   "metadata": {},
   "outputs": [
    {
     "data": {
      "text/html": [
       "<div>\n",
       "<style scoped>\n",
       "    .dataframe tbody tr th:only-of-type {\n",
       "        vertical-align: middle;\n",
       "    }\n",
       "\n",
       "    .dataframe tbody tr th {\n",
       "        vertical-align: top;\n",
       "    }\n",
       "\n",
       "    .dataframe thead th {\n",
       "        text-align: right;\n",
       "    }\n",
       "</style>\n",
       "<table border=\"1\" class=\"dataframe\">\n",
       "  <thead>\n",
       "    <tr style=\"text-align: right;\">\n",
       "      <th></th>\n",
       "      <th>title</th>\n",
       "    </tr>\n",
       "  </thead>\n",
       "  <tbody>\n",
       "    <tr>\n",
       "      <th>Pulp Fiction (1994)</th>\n",
       "      <td>67310</td>\n",
       "    </tr>\n",
       "    <tr>\n",
       "      <th>Forrest Gump (1994)</th>\n",
       "      <td>66172</td>\n",
       "    </tr>\n",
       "    <tr>\n",
       "      <th>Shawshank Redemption, The (1994)</th>\n",
       "      <td>63366</td>\n",
       "    </tr>\n",
       "    <tr>\n",
       "      <th>Silence of the Lambs, The (1991)</th>\n",
       "      <td>63299</td>\n",
       "    </tr>\n",
       "    <tr>\n",
       "      <th>Jurassic Park (1993)</th>\n",
       "      <td>59715</td>\n",
       "    </tr>\n",
       "  </tbody>\n",
       "</table>\n",
       "</div>"
      ],
      "text/plain": [
       "                                  title\n",
       "Pulp Fiction (1994)               67310\n",
       "Forrest Gump (1994)               66172\n",
       "Shawshank Redemption, The (1994)  63366\n",
       "Silence of the Lambs, The (1991)  63299\n",
       "Jurassic Park (1993)              59715"
      ]
     },
     "execution_count": 8,
     "metadata": {},
     "output_type": "execute_result"
    }
   ],
   "source": [
    "comment_counts.head()"
   ]
  },
  {
   "cell_type": "code",
   "execution_count": 9,
   "id": "5255468b-0ffe-4267-a8ff-79de749dcb47",
   "metadata": {},
   "outputs": [],
   "source": [
    "rare_movies = comment_counts[comment_counts[\"title\"] <= 1000].index"
   ]
  },
  {
   "cell_type": "code",
   "execution_count": 10,
   "id": "5336154e-b829-40c0-a2d5-80a4ffa26024",
   "metadata": {},
   "outputs": [],
   "source": [
    "common_movies = df[~df[\"title\"].isin(rare_movies)] # Az yorumlanmış filmlerin çıkarılmış durumdaki hali."
   ]
  },
  {
   "cell_type": "code",
   "execution_count": 11,
   "id": "cad79a56-22f8-4c6b-a45d-41b85e14679d",
   "metadata": {},
   "outputs": [
    {
     "data": {
      "text/html": [
       "<div>\n",
       "<style scoped>\n",
       "    .dataframe tbody tr th:only-of-type {\n",
       "        vertical-align: middle;\n",
       "    }\n",
       "\n",
       "    .dataframe tbody tr th {\n",
       "        vertical-align: top;\n",
       "    }\n",
       "\n",
       "    .dataframe thead th {\n",
       "        text-align: right;\n",
       "    }\n",
       "</style>\n",
       "<table border=\"1\" class=\"dataframe\">\n",
       "  <thead>\n",
       "    <tr style=\"text-align: right;\">\n",
       "      <th></th>\n",
       "      <th>movieId</th>\n",
       "      <th>title</th>\n",
       "      <th>genres</th>\n",
       "      <th>userId</th>\n",
       "      <th>rating</th>\n",
       "      <th>timestamp</th>\n",
       "    </tr>\n",
       "  </thead>\n",
       "  <tbody>\n",
       "    <tr>\n",
       "      <th>0</th>\n",
       "      <td>1</td>\n",
       "      <td>Toy Story (1995)</td>\n",
       "      <td>Adventure|Animation|Children|Comedy|Fantasy</td>\n",
       "      <td>3.0</td>\n",
       "      <td>4.0</td>\n",
       "      <td>1999-12-11 13:36:47</td>\n",
       "    </tr>\n",
       "    <tr>\n",
       "      <th>1</th>\n",
       "      <td>1</td>\n",
       "      <td>Toy Story (1995)</td>\n",
       "      <td>Adventure|Animation|Children|Comedy|Fantasy</td>\n",
       "      <td>6.0</td>\n",
       "      <td>5.0</td>\n",
       "      <td>1997-03-13 17:50:52</td>\n",
       "    </tr>\n",
       "    <tr>\n",
       "      <th>2</th>\n",
       "      <td>1</td>\n",
       "      <td>Toy Story (1995)</td>\n",
       "      <td>Adventure|Animation|Children|Comedy|Fantasy</td>\n",
       "      <td>8.0</td>\n",
       "      <td>4.0</td>\n",
       "      <td>1996-06-05 13:37:51</td>\n",
       "    </tr>\n",
       "    <tr>\n",
       "      <th>3</th>\n",
       "      <td>1</td>\n",
       "      <td>Toy Story (1995)</td>\n",
       "      <td>Adventure|Animation|Children|Comedy|Fantasy</td>\n",
       "      <td>10.0</td>\n",
       "      <td>4.0</td>\n",
       "      <td>1999-11-25 02:44:47</td>\n",
       "    </tr>\n",
       "    <tr>\n",
       "      <th>4</th>\n",
       "      <td>1</td>\n",
       "      <td>Toy Story (1995)</td>\n",
       "      <td>Adventure|Animation|Children|Comedy|Fantasy</td>\n",
       "      <td>11.0</td>\n",
       "      <td>4.5</td>\n",
       "      <td>2009-01-02 01:13:41</td>\n",
       "    </tr>\n",
       "  </tbody>\n",
       "</table>\n",
       "</div>"
      ],
      "text/plain": [
       "   movieId             title                                       genres  \\\n",
       "0        1  Toy Story (1995)  Adventure|Animation|Children|Comedy|Fantasy   \n",
       "1        1  Toy Story (1995)  Adventure|Animation|Children|Comedy|Fantasy   \n",
       "2        1  Toy Story (1995)  Adventure|Animation|Children|Comedy|Fantasy   \n",
       "3        1  Toy Story (1995)  Adventure|Animation|Children|Comedy|Fantasy   \n",
       "4        1  Toy Story (1995)  Adventure|Animation|Children|Comedy|Fantasy   \n",
       "\n",
       "   userId  rating            timestamp  \n",
       "0     3.0     4.0  1999-12-11 13:36:47  \n",
       "1     6.0     5.0  1997-03-13 17:50:52  \n",
       "2     8.0     4.0  1996-06-05 13:37:51  \n",
       "3    10.0     4.0  1999-11-25 02:44:47  \n",
       "4    11.0     4.5  2009-01-02 01:13:41  "
      ]
     },
     "execution_count": 11,
     "metadata": {},
     "output_type": "execute_result"
    }
   ],
   "source": [
    "common_movies.head()"
   ]
  },
  {
   "cell_type": "code",
   "execution_count": 12,
   "id": "f43b5a8c-5cad-4636-90f6-3263ddb4827e",
   "metadata": {},
   "outputs": [],
   "source": [
    "user_movie_df = common_movies.pivot_table(index=[\"userId\"], columns=[\"title\"], values=\"rating\")"
   ]
  },
  {
   "cell_type": "code",
   "execution_count": 13,
   "id": "e7d4d2fa-cc10-4071-8614-55f9bbd1c3ca",
   "metadata": {},
   "outputs": [
    {
     "data": {
      "text/html": [
       "<div>\n",
       "<style scoped>\n",
       "    .dataframe tbody tr th:only-of-type {\n",
       "        vertical-align: middle;\n",
       "    }\n",
       "\n",
       "    .dataframe tbody tr th {\n",
       "        vertical-align: top;\n",
       "    }\n",
       "\n",
       "    .dataframe thead th {\n",
       "        text-align: right;\n",
       "    }\n",
       "</style>\n",
       "<table border=\"1\" class=\"dataframe\">\n",
       "  <thead>\n",
       "    <tr style=\"text-align: right;\">\n",
       "      <th>title</th>\n",
       "      <th>'burbs, The (1989)</th>\n",
       "      <th>(500) Days of Summer (2009)</th>\n",
       "      <th>*batteries not included (1987)</th>\n",
       "      <th>...And Justice for All (1979)</th>\n",
       "      <th>10 Things I Hate About You (1999)</th>\n",
       "      <th>10,000 BC (2008)</th>\n",
       "      <th>101 Dalmatians (1996)</th>\n",
       "      <th>101 Dalmatians (One Hundred and One Dalmatians) (1961)</th>\n",
       "      <th>102 Dalmatians (2000)</th>\n",
       "      <th>12 Angry Men (1957)</th>\n",
       "      <th>...</th>\n",
       "      <th>Zero Dark Thirty (2012)</th>\n",
       "      <th>Zero Effect (1998)</th>\n",
       "      <th>Zodiac (2007)</th>\n",
       "      <th>Zombieland (2009)</th>\n",
       "      <th>Zoolander (2001)</th>\n",
       "      <th>Zulu (1964)</th>\n",
       "      <th>[REC] (2007)</th>\n",
       "      <th>eXistenZ (1999)</th>\n",
       "      <th>xXx (2002)</th>\n",
       "      <th>¡Three Amigos! (1986)</th>\n",
       "    </tr>\n",
       "    <tr>\n",
       "      <th>userId</th>\n",
       "      <th></th>\n",
       "      <th></th>\n",
       "      <th></th>\n",
       "      <th></th>\n",
       "      <th></th>\n",
       "      <th></th>\n",
       "      <th></th>\n",
       "      <th></th>\n",
       "      <th></th>\n",
       "      <th></th>\n",
       "      <th></th>\n",
       "      <th></th>\n",
       "      <th></th>\n",
       "      <th></th>\n",
       "      <th></th>\n",
       "      <th></th>\n",
       "      <th></th>\n",
       "      <th></th>\n",
       "      <th></th>\n",
       "      <th></th>\n",
       "      <th></th>\n",
       "    </tr>\n",
       "  </thead>\n",
       "  <tbody>\n",
       "    <tr>\n",
       "      <th>1.0</th>\n",
       "      <td>NaN</td>\n",
       "      <td>NaN</td>\n",
       "      <td>NaN</td>\n",
       "      <td>NaN</td>\n",
       "      <td>NaN</td>\n",
       "      <td>NaN</td>\n",
       "      <td>NaN</td>\n",
       "      <td>NaN</td>\n",
       "      <td>NaN</td>\n",
       "      <td>NaN</td>\n",
       "      <td>...</td>\n",
       "      <td>NaN</td>\n",
       "      <td>NaN</td>\n",
       "      <td>NaN</td>\n",
       "      <td>NaN</td>\n",
       "      <td>NaN</td>\n",
       "      <td>NaN</td>\n",
       "      <td>NaN</td>\n",
       "      <td>NaN</td>\n",
       "      <td>NaN</td>\n",
       "      <td>NaN</td>\n",
       "    </tr>\n",
       "    <tr>\n",
       "      <th>2.0</th>\n",
       "      <td>NaN</td>\n",
       "      <td>NaN</td>\n",
       "      <td>NaN</td>\n",
       "      <td>NaN</td>\n",
       "      <td>NaN</td>\n",
       "      <td>NaN</td>\n",
       "      <td>NaN</td>\n",
       "      <td>NaN</td>\n",
       "      <td>NaN</td>\n",
       "      <td>NaN</td>\n",
       "      <td>...</td>\n",
       "      <td>NaN</td>\n",
       "      <td>NaN</td>\n",
       "      <td>NaN</td>\n",
       "      <td>NaN</td>\n",
       "      <td>NaN</td>\n",
       "      <td>NaN</td>\n",
       "      <td>NaN</td>\n",
       "      <td>NaN</td>\n",
       "      <td>NaN</td>\n",
       "      <td>NaN</td>\n",
       "    </tr>\n",
       "    <tr>\n",
       "      <th>3.0</th>\n",
       "      <td>NaN</td>\n",
       "      <td>NaN</td>\n",
       "      <td>NaN</td>\n",
       "      <td>NaN</td>\n",
       "      <td>NaN</td>\n",
       "      <td>NaN</td>\n",
       "      <td>NaN</td>\n",
       "      <td>NaN</td>\n",
       "      <td>NaN</td>\n",
       "      <td>NaN</td>\n",
       "      <td>...</td>\n",
       "      <td>NaN</td>\n",
       "      <td>NaN</td>\n",
       "      <td>NaN</td>\n",
       "      <td>NaN</td>\n",
       "      <td>NaN</td>\n",
       "      <td>NaN</td>\n",
       "      <td>NaN</td>\n",
       "      <td>NaN</td>\n",
       "      <td>NaN</td>\n",
       "      <td>NaN</td>\n",
       "    </tr>\n",
       "    <tr>\n",
       "      <th>4.0</th>\n",
       "      <td>NaN</td>\n",
       "      <td>NaN</td>\n",
       "      <td>NaN</td>\n",
       "      <td>NaN</td>\n",
       "      <td>NaN</td>\n",
       "      <td>NaN</td>\n",
       "      <td>NaN</td>\n",
       "      <td>NaN</td>\n",
       "      <td>NaN</td>\n",
       "      <td>NaN</td>\n",
       "      <td>...</td>\n",
       "      <td>NaN</td>\n",
       "      <td>NaN</td>\n",
       "      <td>NaN</td>\n",
       "      <td>NaN</td>\n",
       "      <td>NaN</td>\n",
       "      <td>NaN</td>\n",
       "      <td>NaN</td>\n",
       "      <td>NaN</td>\n",
       "      <td>NaN</td>\n",
       "      <td>NaN</td>\n",
       "    </tr>\n",
       "    <tr>\n",
       "      <th>5.0</th>\n",
       "      <td>NaN</td>\n",
       "      <td>NaN</td>\n",
       "      <td>NaN</td>\n",
       "      <td>NaN</td>\n",
       "      <td>NaN</td>\n",
       "      <td>NaN</td>\n",
       "      <td>NaN</td>\n",
       "      <td>NaN</td>\n",
       "      <td>NaN</td>\n",
       "      <td>NaN</td>\n",
       "      <td>...</td>\n",
       "      <td>NaN</td>\n",
       "      <td>NaN</td>\n",
       "      <td>NaN</td>\n",
       "      <td>NaN</td>\n",
       "      <td>NaN</td>\n",
       "      <td>NaN</td>\n",
       "      <td>NaN</td>\n",
       "      <td>NaN</td>\n",
       "      <td>NaN</td>\n",
       "      <td>NaN</td>\n",
       "    </tr>\n",
       "  </tbody>\n",
       "</table>\n",
       "<p>5 rows × 3159 columns</p>\n",
       "</div>"
      ],
      "text/plain": [
       "title   'burbs, The (1989)  (500) Days of Summer (2009)  \\\n",
       "userId                                                    \n",
       "1.0                    NaN                          NaN   \n",
       "2.0                    NaN                          NaN   \n",
       "3.0                    NaN                          NaN   \n",
       "4.0                    NaN                          NaN   \n",
       "5.0                    NaN                          NaN   \n",
       "\n",
       "title   *batteries not included (1987)  ...And Justice for All (1979)  \\\n",
       "userId                                                                  \n",
       "1.0                                NaN                            NaN   \n",
       "2.0                                NaN                            NaN   \n",
       "3.0                                NaN                            NaN   \n",
       "4.0                                NaN                            NaN   \n",
       "5.0                                NaN                            NaN   \n",
       "\n",
       "title   10 Things I Hate About You (1999)  10,000 BC (2008)  \\\n",
       "userId                                                        \n",
       "1.0                                   NaN               NaN   \n",
       "2.0                                   NaN               NaN   \n",
       "3.0                                   NaN               NaN   \n",
       "4.0                                   NaN               NaN   \n",
       "5.0                                   NaN               NaN   \n",
       "\n",
       "title   101 Dalmatians (1996)  \\\n",
       "userId                          \n",
       "1.0                       NaN   \n",
       "2.0                       NaN   \n",
       "3.0                       NaN   \n",
       "4.0                       NaN   \n",
       "5.0                       NaN   \n",
       "\n",
       "title   101 Dalmatians (One Hundred and One Dalmatians) (1961)  \\\n",
       "userId                                                           \n",
       "1.0                                                   NaN        \n",
       "2.0                                                   NaN        \n",
       "3.0                                                   NaN        \n",
       "4.0                                                   NaN        \n",
       "5.0                                                   NaN        \n",
       "\n",
       "title   102 Dalmatians (2000)  12 Angry Men (1957)  ...  \\\n",
       "userId                                              ...   \n",
       "1.0                       NaN                  NaN  ...   \n",
       "2.0                       NaN                  NaN  ...   \n",
       "3.0                       NaN                  NaN  ...   \n",
       "4.0                       NaN                  NaN  ...   \n",
       "5.0                       NaN                  NaN  ...   \n",
       "\n",
       "title   Zero Dark Thirty (2012)  Zero Effect (1998)  Zodiac (2007)  \\\n",
       "userId                                                               \n",
       "1.0                         NaN                 NaN            NaN   \n",
       "2.0                         NaN                 NaN            NaN   \n",
       "3.0                         NaN                 NaN            NaN   \n",
       "4.0                         NaN                 NaN            NaN   \n",
       "5.0                         NaN                 NaN            NaN   \n",
       "\n",
       "title   Zombieland (2009)  Zoolander (2001)  Zulu (1964)  [REC] (2007)  \\\n",
       "userId                                                                   \n",
       "1.0                   NaN               NaN          NaN           NaN   \n",
       "2.0                   NaN               NaN          NaN           NaN   \n",
       "3.0                   NaN               NaN          NaN           NaN   \n",
       "4.0                   NaN               NaN          NaN           NaN   \n",
       "5.0                   NaN               NaN          NaN           NaN   \n",
       "\n",
       "title   eXistenZ (1999)  xXx (2002)  ¡Three Amigos! (1986)  \n",
       "userId                                                      \n",
       "1.0                 NaN         NaN                    NaN  \n",
       "2.0                 NaN         NaN                    NaN  \n",
       "3.0                 NaN         NaN                    NaN  \n",
       "4.0                 NaN         NaN                    NaN  \n",
       "5.0                 NaN         NaN                    NaN  \n",
       "\n",
       "[5 rows x 3159 columns]"
      ]
     },
     "execution_count": 13,
     "metadata": {},
     "output_type": "execute_result"
    }
   ],
   "source": [
    "user_movie_df.head()"
   ]
  },
  {
   "cell_type": "markdown",
   "id": "83d69282-84fb-4e57-a3ba-611a108cb612",
   "metadata": {},
   "source": [
    "## Görev 2:"
   ]
  },
  {
   "cell_type": "markdown",
   "id": "cb2971d7-68be-496b-8ea6-8ad41d4f6127",
   "metadata": {},
   "source": [
    "#### Öneri yapılacak kullanıcının izlediği filmleri belirleyiniz."
   ]
  },
  {
   "cell_type": "code",
   "execution_count": 16,
   "id": "b1219914-f098-4567-bd24-6c31e7bc63f2",
   "metadata": {},
   "outputs": [],
   "source": [
    "pd.set_option('display.max_columns', 5)\n",
    "random_user = int(pd.Series(user_movie_df.index).sample(1, random_state=45).values)"
   ]
  },
  {
   "cell_type": "code",
   "execution_count": 122,
   "id": "ae000fa4-9e8f-438c-8d20-431f09452cc8",
   "metadata": {},
   "outputs": [
    {
     "data": {
      "text/plain": [
       "28941"
      ]
     },
     "execution_count": 122,
     "metadata": {},
     "output_type": "execute_result"
    }
   ],
   "source": [
    "random_user"
   ]
  },
  {
   "cell_type": "code",
   "execution_count": 17,
   "id": "c0278da7-10e6-49d6-a0ea-80da5f8dd385",
   "metadata": {},
   "outputs": [],
   "source": [
    "random_user_df = user_movie_df[user_movie_df.index == random_user]"
   ]
  },
  {
   "cell_type": "code",
   "execution_count": 18,
   "id": "a71dbda7-174c-47ac-917a-62df02c46f6e",
   "metadata": {},
   "outputs": [
    {
     "data": {
      "text/html": [
       "<div>\n",
       "<style scoped>\n",
       "    .dataframe tbody tr th:only-of-type {\n",
       "        vertical-align: middle;\n",
       "    }\n",
       "\n",
       "    .dataframe tbody tr th {\n",
       "        vertical-align: top;\n",
       "    }\n",
       "\n",
       "    .dataframe thead th {\n",
       "        text-align: right;\n",
       "    }\n",
       "</style>\n",
       "<table border=\"1\" class=\"dataframe\">\n",
       "  <thead>\n",
       "    <tr style=\"text-align: right;\">\n",
       "      <th>title</th>\n",
       "      <th>'burbs, The (1989)</th>\n",
       "      <th>(500) Days of Summer (2009)</th>\n",
       "      <th>...</th>\n",
       "      <th>xXx (2002)</th>\n",
       "      <th>¡Three Amigos! (1986)</th>\n",
       "    </tr>\n",
       "    <tr>\n",
       "      <th>userId</th>\n",
       "      <th></th>\n",
       "      <th></th>\n",
       "      <th></th>\n",
       "      <th></th>\n",
       "      <th></th>\n",
       "    </tr>\n",
       "  </thead>\n",
       "  <tbody>\n",
       "    <tr>\n",
       "      <th>28941.0</th>\n",
       "      <td>NaN</td>\n",
       "      <td>NaN</td>\n",
       "      <td>...</td>\n",
       "      <td>NaN</td>\n",
       "      <td>NaN</td>\n",
       "    </tr>\n",
       "  </tbody>\n",
       "</table>\n",
       "<p>1 rows × 3159 columns</p>\n",
       "</div>"
      ],
      "text/plain": [
       "title    'burbs, The (1989)  (500) Days of Summer (2009)  ...  xXx (2002)  \\\n",
       "userId                                                    ...               \n",
       "28941.0                 NaN                          NaN  ...         NaN   \n",
       "\n",
       "title    ¡Three Amigos! (1986)  \n",
       "userId                          \n",
       "28941.0                    NaN  \n",
       "\n",
       "[1 rows x 3159 columns]"
      ]
     },
     "execution_count": 18,
     "metadata": {},
     "output_type": "execute_result"
    }
   ],
   "source": [
    "random_user_df.head()"
   ]
  },
  {
   "cell_type": "code",
   "execution_count": 19,
   "id": "c0da6a27-0222-4a44-8fd6-db1d90bea746",
   "metadata": {},
   "outputs": [],
   "source": [
    "movies_watched = random_user_df.columns[random_user_df.notna().any()].tolist() "
   ]
  },
  {
   "cell_type": "code",
   "execution_count": 22,
   "id": "0f73ba5b-ba84-42da-beeb-599f24db0ec4",
   "metadata": {},
   "outputs": [
    {
     "data": {
      "text/plain": [
       "['Ace Ventura: Pet Detective (1994)',\n",
       " 'Ace Ventura: When Nature Calls (1995)',\n",
       " 'Aladdin (1992)',\n",
       " 'American President, The (1995)',\n",
       " 'Apollo 13 (1995)',\n",
       " 'Babe (1995)',\n",
       " 'Bullets Over Broadway (1994)',\n",
       " 'Clueless (1995)',\n",
       " 'Disclosure (1994)',\n",
       " 'Forrest Gump (1994)',\n",
       " 'Four Weddings and a Funeral (1994)',\n",
       " 'Home Alone (1990)',\n",
       " 'Jurassic Park (1993)',\n",
       " 'Like Water for Chocolate (Como agua para chocolate) (1992)',\n",
       " 'Little Women (1994)',\n",
       " \"Mr. Holland's Opus (1995)\",\n",
       " 'Mrs. Doubtfire (1993)',\n",
       " 'Much Ado About Nothing (1993)',\n",
       " \"Muriel's Wedding (1994)\",\n",
       " 'Nine Months (1995)',\n",
       " 'Operation Dumbo Drop (1995)',\n",
       " 'Piano, The (1993)',\n",
       " 'Postman, The (Postino, Il) (1994)',\n",
       " 'Ready to Wear (Pret-A-Porter) (1994)',\n",
       " 'Remains of the Day, The (1993)',\n",
       " 'Sabrina (1995)',\n",
       " \"Schindler's List (1993)\",\n",
       " 'Secret Garden, The (1993)',\n",
       " 'Sense and Sensibility (1995)',\n",
       " 'Shadowlands (1993)',\n",
       " 'Silence of the Lambs, The (1991)',\n",
       " 'Star Trek: Generations (1994)',\n",
       " 'Stargate (1994)']"
      ]
     },
     "execution_count": 22,
     "metadata": {},
     "output_type": "execute_result"
    }
   ],
   "source": [
    "movies_watched # random seçilen kişinin, izlediği film listesi"
   ]
  },
  {
   "cell_type": "markdown",
   "id": "262b1644-34aa-496d-9443-5dc704f0a246",
   "metadata": {},
   "source": [
    "## Görev 3:"
   ]
  },
  {
   "cell_type": "markdown",
   "id": "b2000619-a9de-45bb-9841-1b4ff572fc3c",
   "metadata": {},
   "source": [
    "#### Aynı filmleri izleyen diğer kullanıcıların verisine ve Id'lerine erişiniz."
   ]
  },
  {
   "cell_type": "code",
   "execution_count": 23,
   "id": "ad84e4ff-7dd4-446c-a86b-9c92593e6028",
   "metadata": {},
   "outputs": [],
   "source": [
    "movies_watched_df = user_movie_df[movies_watched]"
   ]
  },
  {
   "cell_type": "code",
   "execution_count": 24,
   "id": "c93da054-836a-4fea-a891-ae3f5862fae2",
   "metadata": {},
   "outputs": [
    {
     "data": {
      "text/html": [
       "<div>\n",
       "<style scoped>\n",
       "    .dataframe tbody tr th:only-of-type {\n",
       "        vertical-align: middle;\n",
       "    }\n",
       "\n",
       "    .dataframe tbody tr th {\n",
       "        vertical-align: top;\n",
       "    }\n",
       "\n",
       "    .dataframe thead th {\n",
       "        text-align: right;\n",
       "    }\n",
       "</style>\n",
       "<table border=\"1\" class=\"dataframe\">\n",
       "  <thead>\n",
       "    <tr style=\"text-align: right;\">\n",
       "      <th>title</th>\n",
       "      <th>Ace Ventura: Pet Detective (1994)</th>\n",
       "      <th>Ace Ventura: When Nature Calls (1995)</th>\n",
       "      <th>...</th>\n",
       "      <th>Star Trek: Generations (1994)</th>\n",
       "      <th>Stargate (1994)</th>\n",
       "    </tr>\n",
       "    <tr>\n",
       "      <th>userId</th>\n",
       "      <th></th>\n",
       "      <th></th>\n",
       "      <th></th>\n",
       "      <th></th>\n",
       "      <th></th>\n",
       "    </tr>\n",
       "  </thead>\n",
       "  <tbody>\n",
       "    <tr>\n",
       "      <th>1.0</th>\n",
       "      <td>NaN</td>\n",
       "      <td>NaN</td>\n",
       "      <td>...</td>\n",
       "      <td>NaN</td>\n",
       "      <td>NaN</td>\n",
       "    </tr>\n",
       "    <tr>\n",
       "      <th>2.0</th>\n",
       "      <td>NaN</td>\n",
       "      <td>NaN</td>\n",
       "      <td>...</td>\n",
       "      <td>NaN</td>\n",
       "      <td>NaN</td>\n",
       "    </tr>\n",
       "    <tr>\n",
       "      <th>3.0</th>\n",
       "      <td>NaN</td>\n",
       "      <td>NaN</td>\n",
       "      <td>...</td>\n",
       "      <td>5.0</td>\n",
       "      <td>5.0</td>\n",
       "    </tr>\n",
       "    <tr>\n",
       "      <th>4.0</th>\n",
       "      <td>NaN</td>\n",
       "      <td>3.0</td>\n",
       "      <td>...</td>\n",
       "      <td>3.0</td>\n",
       "      <td>NaN</td>\n",
       "    </tr>\n",
       "    <tr>\n",
       "      <th>5.0</th>\n",
       "      <td>NaN</td>\n",
       "      <td>NaN</td>\n",
       "      <td>...</td>\n",
       "      <td>NaN</td>\n",
       "      <td>4.0</td>\n",
       "    </tr>\n",
       "  </tbody>\n",
       "</table>\n",
       "<p>5 rows × 33 columns</p>\n",
       "</div>"
      ],
      "text/plain": [
       "title   Ace Ventura: Pet Detective (1994)  \\\n",
       "userId                                      \n",
       "1.0                                   NaN   \n",
       "2.0                                   NaN   \n",
       "3.0                                   NaN   \n",
       "4.0                                   NaN   \n",
       "5.0                                   NaN   \n",
       "\n",
       "title   Ace Ventura: When Nature Calls (1995)  ...  \\\n",
       "userId                                         ...   \n",
       "1.0                                       NaN  ...   \n",
       "2.0                                       NaN  ...   \n",
       "3.0                                       NaN  ...   \n",
       "4.0                                       3.0  ...   \n",
       "5.0                                       NaN  ...   \n",
       "\n",
       "title   Star Trek: Generations (1994)  Stargate (1994)  \n",
       "userId                                                  \n",
       "1.0                               NaN              NaN  \n",
       "2.0                               NaN              NaN  \n",
       "3.0                               5.0              5.0  \n",
       "4.0                               3.0              NaN  \n",
       "5.0                               NaN              4.0  \n",
       "\n",
       "[5 rows x 33 columns]"
      ]
     },
     "execution_count": 24,
     "metadata": {},
     "output_type": "execute_result"
    }
   ],
   "source": [
    "movies_watched_df.head()"
   ]
  },
  {
   "cell_type": "code",
   "execution_count": 25,
   "id": "5c31345d-cb76-4d42-a4c3-7e41d21ded52",
   "metadata": {},
   "outputs": [],
   "source": [
    "user_movie_count = movies_watched_df.T.notnull().sum()"
   ]
  },
  {
   "cell_type": "code",
   "execution_count": 26,
   "id": "190146fb-9007-4f7c-9cd0-b46d0ad29c3c",
   "metadata": {},
   "outputs": [
    {
     "data": {
      "text/plain": [
       "userId\n",
       "1.0          1\n",
       "2.0          2\n",
       "3.0          4\n",
       "4.0          6\n",
       "5.0         11\n",
       "            ..\n",
       "138489.0     1\n",
       "138490.0     7\n",
       "138491.0     0\n",
       "138492.0     2\n",
       "138493.0     9\n",
       "Length: 138493, dtype: int64"
      ]
     },
     "execution_count": 26,
     "metadata": {},
     "output_type": "execute_result"
    }
   ],
   "source": [
    "user_movie_count"
   ]
  },
  {
   "cell_type": "code",
   "execution_count": 27,
   "id": "7798aa81-de12-48ee-b274-bd7cc8fbf890",
   "metadata": {},
   "outputs": [],
   "source": [
    "user_movie_count = user_movie_count.reset_index()"
   ]
  },
  {
   "cell_type": "code",
   "execution_count": 30,
   "id": "9f78c534-36af-44c9-a6b2-be6ee401e7f6",
   "metadata": {},
   "outputs": [
    {
     "data": {
      "text/html": [
       "<div>\n",
       "<style scoped>\n",
       "    .dataframe tbody tr th:only-of-type {\n",
       "        vertical-align: middle;\n",
       "    }\n",
       "\n",
       "    .dataframe tbody tr th {\n",
       "        vertical-align: top;\n",
       "    }\n",
       "\n",
       "    .dataframe thead th {\n",
       "        text-align: right;\n",
       "    }\n",
       "</style>\n",
       "<table border=\"1\" class=\"dataframe\">\n",
       "  <thead>\n",
       "    <tr style=\"text-align: right;\">\n",
       "      <th></th>\n",
       "      <th>userId</th>\n",
       "      <th>0</th>\n",
       "    </tr>\n",
       "  </thead>\n",
       "  <tbody>\n",
       "    <tr>\n",
       "      <th>0</th>\n",
       "      <td>1.0</td>\n",
       "      <td>1</td>\n",
       "    </tr>\n",
       "    <tr>\n",
       "      <th>1</th>\n",
       "      <td>2.0</td>\n",
       "      <td>2</td>\n",
       "    </tr>\n",
       "    <tr>\n",
       "      <th>2</th>\n",
       "      <td>3.0</td>\n",
       "      <td>4</td>\n",
       "    </tr>\n",
       "    <tr>\n",
       "      <th>3</th>\n",
       "      <td>4.0</td>\n",
       "      <td>6</td>\n",
       "    </tr>\n",
       "    <tr>\n",
       "      <th>4</th>\n",
       "      <td>5.0</td>\n",
       "      <td>11</td>\n",
       "    </tr>\n",
       "  </tbody>\n",
       "</table>\n",
       "</div>"
      ],
      "text/plain": [
       "   userId   0\n",
       "0     1.0   1\n",
       "1     2.0   2\n",
       "2     3.0   4\n",
       "3     4.0   6\n",
       "4     5.0  11"
      ]
     },
     "execution_count": 30,
     "metadata": {},
     "output_type": "execute_result"
    }
   ],
   "source": [
    "user_movie_count.head()"
   ]
  },
  {
   "cell_type": "code",
   "execution_count": 31,
   "id": "7dc60934-2297-46e1-b3d5-d0531d72d916",
   "metadata": {},
   "outputs": [],
   "source": [
    "user_movie_count.columns = [\"userId\", \"movie_count\"]"
   ]
  },
  {
   "cell_type": "code",
   "execution_count": 32,
   "id": "a9af4964-5982-40d9-ba94-9c15f46fb540",
   "metadata": {},
   "outputs": [
    {
     "data": {
      "text/html": [
       "<div>\n",
       "<style scoped>\n",
       "    .dataframe tbody tr th:only-of-type {\n",
       "        vertical-align: middle;\n",
       "    }\n",
       "\n",
       "    .dataframe tbody tr th {\n",
       "        vertical-align: top;\n",
       "    }\n",
       "\n",
       "    .dataframe thead th {\n",
       "        text-align: right;\n",
       "    }\n",
       "</style>\n",
       "<table border=\"1\" class=\"dataframe\">\n",
       "  <thead>\n",
       "    <tr style=\"text-align: right;\">\n",
       "      <th></th>\n",
       "      <th>userId</th>\n",
       "      <th>movie_count</th>\n",
       "    </tr>\n",
       "  </thead>\n",
       "  <tbody>\n",
       "    <tr>\n",
       "      <th>0</th>\n",
       "      <td>1.0</td>\n",
       "      <td>1</td>\n",
       "    </tr>\n",
       "    <tr>\n",
       "      <th>1</th>\n",
       "      <td>2.0</td>\n",
       "      <td>2</td>\n",
       "    </tr>\n",
       "    <tr>\n",
       "      <th>2</th>\n",
       "      <td>3.0</td>\n",
       "      <td>4</td>\n",
       "    </tr>\n",
       "    <tr>\n",
       "      <th>3</th>\n",
       "      <td>4.0</td>\n",
       "      <td>6</td>\n",
       "    </tr>\n",
       "    <tr>\n",
       "      <th>4</th>\n",
       "      <td>5.0</td>\n",
       "      <td>11</td>\n",
       "    </tr>\n",
       "  </tbody>\n",
       "</table>\n",
       "</div>"
      ],
      "text/plain": [
       "   userId  movie_count\n",
       "0     1.0            1\n",
       "1     2.0            2\n",
       "2     3.0            4\n",
       "3     4.0            6\n",
       "4     5.0           11"
      ]
     },
     "execution_count": 32,
     "metadata": {},
     "output_type": "execute_result"
    }
   ],
   "source": [
    "user_movie_count.head()"
   ]
  },
  {
   "cell_type": "code",
   "execution_count": 39,
   "id": "a6e05115-2c7d-4f18-b516-f25f7a15ba37",
   "metadata": {},
   "outputs": [],
   "source": [
    "users_same_movies = user_movie_count[user_movie_count[\"movie_count\"] > 25][\"userId\"] # 20'den fazla aynı filmi izleyen kullanıcı id'leri"
   ]
  },
  {
   "cell_type": "code",
   "execution_count": 40,
   "id": "5d520347-c95a-4872-9e6a-31c32774b08d",
   "metadata": {},
   "outputs": [
    {
     "data": {
      "text/plain": [
       "774      775.0\n",
       "902      903.0\n",
       "981      982.0\n",
       "1104    1105.0\n",
       "1616    1617.0\n",
       "Name: userId, dtype: float64"
      ]
     },
     "execution_count": 40,
     "metadata": {},
     "output_type": "execute_result"
    }
   ],
   "source": [
    "users_same_movies.head()"
   ]
  },
  {
   "cell_type": "code",
   "execution_count": 41,
   "id": "1436286c-8528-4473-8272-1182f25b9591",
   "metadata": {},
   "outputs": [
    {
     "data": {
      "text/plain": [
       "682"
      ]
     },
     "execution_count": 41,
     "metadata": {},
     "output_type": "execute_result"
    }
   ],
   "source": [
    "users_same_movies.count()"
   ]
  },
  {
   "cell_type": "markdown",
   "id": "ec761538-e35f-4138-8ba8-e9d5d3689d84",
   "metadata": {},
   "source": [
    "## Görev 4:"
   ]
  },
  {
   "cell_type": "markdown",
   "id": "3e588a0f-81bc-4968-98d8-cf7a49d52aad",
   "metadata": {},
   "source": [
    "#### Öneri yapılacak kullanıcı ile en benzer kullanıcıları belirleyiniz."
   ]
  },
  {
   "cell_type": "code",
   "execution_count": 42,
   "id": "7e3a6197-bec8-44a2-b4d4-82fa25e1c820",
   "metadata": {},
   "outputs": [],
   "source": [
    "final_df = pd.concat([movies_watched_df[movies_watched_df.index.isin(users_same_movies)],\n",
    "                      random_user_df[movies_watched]])"
   ]
  },
  {
   "cell_type": "code",
   "execution_count": 43,
   "id": "97829057-7ce5-4a8b-8b2e-3869fe05e516",
   "metadata": {},
   "outputs": [
    {
     "data": {
      "text/html": [
       "<div>\n",
       "<style scoped>\n",
       "    .dataframe tbody tr th:only-of-type {\n",
       "        vertical-align: middle;\n",
       "    }\n",
       "\n",
       "    .dataframe tbody tr th {\n",
       "        vertical-align: top;\n",
       "    }\n",
       "\n",
       "    .dataframe thead th {\n",
       "        text-align: right;\n",
       "    }\n",
       "</style>\n",
       "<table border=\"1\" class=\"dataframe\">\n",
       "  <thead>\n",
       "    <tr style=\"text-align: right;\">\n",
       "      <th>title</th>\n",
       "      <th>Ace Ventura: Pet Detective (1994)</th>\n",
       "      <th>Ace Ventura: When Nature Calls (1995)</th>\n",
       "      <th>...</th>\n",
       "      <th>Star Trek: Generations (1994)</th>\n",
       "      <th>Stargate (1994)</th>\n",
       "    </tr>\n",
       "    <tr>\n",
       "      <th>userId</th>\n",
       "      <th></th>\n",
       "      <th></th>\n",
       "      <th></th>\n",
       "      <th></th>\n",
       "      <th></th>\n",
       "    </tr>\n",
       "  </thead>\n",
       "  <tbody>\n",
       "    <tr>\n",
       "      <th>775.0</th>\n",
       "      <td>2.5</td>\n",
       "      <td>1.5</td>\n",
       "      <td>...</td>\n",
       "      <td>3.5</td>\n",
       "      <td>2.5</td>\n",
       "    </tr>\n",
       "    <tr>\n",
       "      <th>903.0</th>\n",
       "      <td>2.0</td>\n",
       "      <td>1.0</td>\n",
       "      <td>...</td>\n",
       "      <td>2.0</td>\n",
       "      <td>3.0</td>\n",
       "    </tr>\n",
       "    <tr>\n",
       "      <th>982.0</th>\n",
       "      <td>3.5</td>\n",
       "      <td>3.0</td>\n",
       "      <td>...</td>\n",
       "      <td>2.5</td>\n",
       "      <td>3.0</td>\n",
       "    </tr>\n",
       "    <tr>\n",
       "      <th>1105.0</th>\n",
       "      <td>3.0</td>\n",
       "      <td>1.0</td>\n",
       "      <td>...</td>\n",
       "      <td>3.0</td>\n",
       "      <td>3.0</td>\n",
       "    </tr>\n",
       "    <tr>\n",
       "      <th>1617.0</th>\n",
       "      <td>2.0</td>\n",
       "      <td>NaN</td>\n",
       "      <td>...</td>\n",
       "      <td>3.0</td>\n",
       "      <td>3.0</td>\n",
       "    </tr>\n",
       "  </tbody>\n",
       "</table>\n",
       "<p>5 rows × 33 columns</p>\n",
       "</div>"
      ],
      "text/plain": [
       "title   Ace Ventura: Pet Detective (1994)  \\\n",
       "userId                                      \n",
       "775.0                                 2.5   \n",
       "903.0                                 2.0   \n",
       "982.0                                 3.5   \n",
       "1105.0                                3.0   \n",
       "1617.0                                2.0   \n",
       "\n",
       "title   Ace Ventura: When Nature Calls (1995)  ...  \\\n",
       "userId                                         ...   \n",
       "775.0                                     1.5  ...   \n",
       "903.0                                     1.0  ...   \n",
       "982.0                                     3.0  ...   \n",
       "1105.0                                    1.0  ...   \n",
       "1617.0                                    NaN  ...   \n",
       "\n",
       "title   Star Trek: Generations (1994)  Stargate (1994)  \n",
       "userId                                                  \n",
       "775.0                             3.5              2.5  \n",
       "903.0                             2.0              3.0  \n",
       "982.0                             2.5              3.0  \n",
       "1105.0                            3.0              3.0  \n",
       "1617.0                            3.0              3.0  \n",
       "\n",
       "[5 rows x 33 columns]"
      ]
     },
     "execution_count": 43,
     "metadata": {},
     "output_type": "execute_result"
    }
   ],
   "source": [
    "final_df.head()"
   ]
  },
  {
   "cell_type": "code",
   "execution_count": 44,
   "id": "80b0ec7d-29ee-4a7d-aaf0-879b0ae52f6b",
   "metadata": {},
   "outputs": [
    {
     "data": {
      "text/plain": [
       "userId    userId \n",
       "103594.0  43700.0   -0.778267\n",
       "11943.0   54459.0   -0.744263\n",
       "27463.0   67756.0   -0.740480\n",
       "111549.0  54188.0   -0.731474\n",
       "65832.0   75678.0   -0.716591\n",
       "dtype: float64"
      ]
     },
     "execution_count": 44,
     "metadata": {},
     "output_type": "execute_result"
    }
   ],
   "source": [
    "corr_df = final_df.T.corr().unstack().sort_values().drop_duplicates()\n",
    "corr_df.head()"
   ]
  },
  {
   "cell_type": "code",
   "execution_count": 47,
   "id": "2a460f4c-84b5-4ea7-af74-37e37d5ca025",
   "metadata": {},
   "outputs": [],
   "source": [
    "corr_df = pd.DataFrame(corr_df, columns=[\"corr\"])\n",
    "corr_df.index.names = ['user_id_1', 'user_id_2']\n",
    "corr_df = corr_df.reset_index()"
   ]
  },
  {
   "cell_type": "code",
   "execution_count": 48,
   "id": "21fb8e50-54bd-48a1-b328-c3994d2301f4",
   "metadata": {},
   "outputs": [
    {
     "data": {
      "text/html": [
       "<div>\n",
       "<style scoped>\n",
       "    .dataframe tbody tr th:only-of-type {\n",
       "        vertical-align: middle;\n",
       "    }\n",
       "\n",
       "    .dataframe tbody tr th {\n",
       "        vertical-align: top;\n",
       "    }\n",
       "\n",
       "    .dataframe thead th {\n",
       "        text-align: right;\n",
       "    }\n",
       "</style>\n",
       "<table border=\"1\" class=\"dataframe\">\n",
       "  <thead>\n",
       "    <tr style=\"text-align: right;\">\n",
       "      <th></th>\n",
       "      <th>user_id_1</th>\n",
       "      <th>user_id_2</th>\n",
       "      <th>corr</th>\n",
       "    </tr>\n",
       "  </thead>\n",
       "  <tbody>\n",
       "    <tr>\n",
       "      <th>0</th>\n",
       "      <td>103594.0</td>\n",
       "      <td>43700.0</td>\n",
       "      <td>-0.778267</td>\n",
       "    </tr>\n",
       "    <tr>\n",
       "      <th>1</th>\n",
       "      <td>11943.0</td>\n",
       "      <td>54459.0</td>\n",
       "      <td>-0.744263</td>\n",
       "    </tr>\n",
       "    <tr>\n",
       "      <th>2</th>\n",
       "      <td>27463.0</td>\n",
       "      <td>67756.0</td>\n",
       "      <td>-0.740480</td>\n",
       "    </tr>\n",
       "    <tr>\n",
       "      <th>3</th>\n",
       "      <td>111549.0</td>\n",
       "      <td>54188.0</td>\n",
       "      <td>-0.731474</td>\n",
       "    </tr>\n",
       "    <tr>\n",
       "      <th>4</th>\n",
       "      <td>65832.0</td>\n",
       "      <td>75678.0</td>\n",
       "      <td>-0.716591</td>\n",
       "    </tr>\n",
       "  </tbody>\n",
       "</table>\n",
       "</div>"
      ],
      "text/plain": [
       "   user_id_1  user_id_2      corr\n",
       "0   103594.0    43700.0 -0.778267\n",
       "1    11943.0    54459.0 -0.744263\n",
       "2    27463.0    67756.0 -0.740480\n",
       "3   111549.0    54188.0 -0.731474\n",
       "4    65832.0    75678.0 -0.716591"
      ]
     },
     "execution_count": 48,
     "metadata": {},
     "output_type": "execute_result"
    }
   ],
   "source": [
    "corr_df.head()"
   ]
  },
  {
   "cell_type": "code",
   "execution_count": 49,
   "id": "753a2332-9686-428d-89b2-9cedcf4956ce",
   "metadata": {},
   "outputs": [],
   "source": [
    "top_users = corr_df[(corr_df[\"user_id_1\"] == random_user) & (corr_df[\"corr\"] >= 0.65)][\n",
    "    [\"user_id_2\", \"corr\"]].reset_index(drop=True)"
   ]
  },
  {
   "cell_type": "code",
   "execution_count": 55,
   "id": "2499e6fa-e9ae-46c9-b76f-0792d1f91cad",
   "metadata": {},
   "outputs": [],
   "source": [
    "top_users = top_users.sort_values(by='corr', ascending=False)\n",
    "top_users.rename(columns={\"user_id_2\": \"userId\"}, inplace=True)"
   ]
  },
  {
   "cell_type": "code",
   "execution_count": 56,
   "id": "615f201a-7bd6-4696-bbc4-12bfbaa5b061",
   "metadata": {},
   "outputs": [
    {
     "data": {
      "text/html": [
       "<div>\n",
       "<style scoped>\n",
       "    .dataframe tbody tr th:only-of-type {\n",
       "        vertical-align: middle;\n",
       "    }\n",
       "\n",
       "    .dataframe tbody tr th {\n",
       "        vertical-align: top;\n",
       "    }\n",
       "\n",
       "    .dataframe thead th {\n",
       "        text-align: right;\n",
       "    }\n",
       "</style>\n",
       "<table border=\"1\" class=\"dataframe\">\n",
       "  <thead>\n",
       "    <tr style=\"text-align: right;\">\n",
       "      <th></th>\n",
       "      <th>userId</th>\n",
       "      <th>corr</th>\n",
       "    </tr>\n",
       "  </thead>\n",
       "  <tbody>\n",
       "    <tr>\n",
       "      <th>5</th>\n",
       "      <td>28941.0</td>\n",
       "      <td>1.000000</td>\n",
       "    </tr>\n",
       "    <tr>\n",
       "      <th>4</th>\n",
       "      <td>9783.0</td>\n",
       "      <td>0.747942</td>\n",
       "    </tr>\n",
       "    <tr>\n",
       "      <th>3</th>\n",
       "      <td>67346.0</td>\n",
       "      <td>0.732943</td>\n",
       "    </tr>\n",
       "    <tr>\n",
       "      <th>2</th>\n",
       "      <td>67346.0</td>\n",
       "      <td>0.732943</td>\n",
       "    </tr>\n",
       "    <tr>\n",
       "      <th>1</th>\n",
       "      <td>61709.0</td>\n",
       "      <td>0.665115</td>\n",
       "    </tr>\n",
       "  </tbody>\n",
       "</table>\n",
       "</div>"
      ],
      "text/plain": [
       "    userId      corr\n",
       "5  28941.0  1.000000\n",
       "4   9783.0  0.747942\n",
       "3  67346.0  0.732943\n",
       "2  67346.0  0.732943\n",
       "1  61709.0  0.665115"
      ]
     },
     "execution_count": 56,
     "metadata": {},
     "output_type": "execute_result"
    }
   ],
   "source": [
    "top_users.head()"
   ]
  },
  {
   "cell_type": "code",
   "execution_count": 57,
   "id": "83d4756c-1495-4617-adcd-edccf77f7067",
   "metadata": {},
   "outputs": [],
   "source": [
    "top_users_ratings = top_users.merge(rating[[\"userId\", \"movieId\", \"rating\"]], how='inner')"
   ]
  },
  {
   "cell_type": "code",
   "execution_count": 58,
   "id": "8f5d31fb-5cfd-41a4-af82-8ec7e764543d",
   "metadata": {},
   "outputs": [
    {
     "data": {
      "text/html": [
       "<div>\n",
       "<style scoped>\n",
       "    .dataframe tbody tr th:only-of-type {\n",
       "        vertical-align: middle;\n",
       "    }\n",
       "\n",
       "    .dataframe tbody tr th {\n",
       "        vertical-align: top;\n",
       "    }\n",
       "\n",
       "    .dataframe thead th {\n",
       "        text-align: right;\n",
       "    }\n",
       "</style>\n",
       "<table border=\"1\" class=\"dataframe\">\n",
       "  <thead>\n",
       "    <tr style=\"text-align: right;\">\n",
       "      <th></th>\n",
       "      <th>userId</th>\n",
       "      <th>corr</th>\n",
       "      <th>movieId</th>\n",
       "      <th>rating</th>\n",
       "    </tr>\n",
       "  </thead>\n",
       "  <tbody>\n",
       "    <tr>\n",
       "      <th>0</th>\n",
       "      <td>28941.0</td>\n",
       "      <td>1.0</td>\n",
       "      <td>7</td>\n",
       "      <td>5.0</td>\n",
       "    </tr>\n",
       "    <tr>\n",
       "      <th>1</th>\n",
       "      <td>28941.0</td>\n",
       "      <td>1.0</td>\n",
       "      <td>11</td>\n",
       "      <td>3.0</td>\n",
       "    </tr>\n",
       "    <tr>\n",
       "      <th>2</th>\n",
       "      <td>28941.0</td>\n",
       "      <td>1.0</td>\n",
       "      <td>17</td>\n",
       "      <td>5.0</td>\n",
       "    </tr>\n",
       "    <tr>\n",
       "      <th>3</th>\n",
       "      <td>28941.0</td>\n",
       "      <td>1.0</td>\n",
       "      <td>19</td>\n",
       "      <td>2.0</td>\n",
       "    </tr>\n",
       "    <tr>\n",
       "      <th>4</th>\n",
       "      <td>28941.0</td>\n",
       "      <td>1.0</td>\n",
       "      <td>34</td>\n",
       "      <td>5.0</td>\n",
       "    </tr>\n",
       "  </tbody>\n",
       "</table>\n",
       "</div>"
      ],
      "text/plain": [
       "    userId  corr  movieId  rating\n",
       "0  28941.0   1.0        7     5.0\n",
       "1  28941.0   1.0       11     3.0\n",
       "2  28941.0   1.0       17     5.0\n",
       "3  28941.0   1.0       19     2.0\n",
       "4  28941.0   1.0       34     5.0"
      ]
     },
     "execution_count": 58,
     "metadata": {},
     "output_type": "execute_result"
    }
   ],
   "source": [
    "top_users_ratings.head()"
   ]
  },
  {
   "cell_type": "code",
   "execution_count": 60,
   "id": "a7033d64-dcf5-456e-b2cd-4c42663b2368",
   "metadata": {},
   "outputs": [],
   "source": [
    "top_users_ratings = top_users.merge(rating[[\"userId\", \"movieId\", \"rating\"]], how='inner')"
   ]
  },
  {
   "cell_type": "code",
   "execution_count": 61,
   "id": "8f97e1a3-0cd4-49ba-80de-e6425321baa4",
   "metadata": {},
   "outputs": [
    {
     "data": {
      "text/html": [
       "<div>\n",
       "<style scoped>\n",
       "    .dataframe tbody tr th:only-of-type {\n",
       "        vertical-align: middle;\n",
       "    }\n",
       "\n",
       "    .dataframe tbody tr th {\n",
       "        vertical-align: top;\n",
       "    }\n",
       "\n",
       "    .dataframe thead th {\n",
       "        text-align: right;\n",
       "    }\n",
       "</style>\n",
       "<table border=\"1\" class=\"dataframe\">\n",
       "  <thead>\n",
       "    <tr style=\"text-align: right;\">\n",
       "      <th></th>\n",
       "      <th>userId</th>\n",
       "      <th>corr</th>\n",
       "      <th>movieId</th>\n",
       "      <th>rating</th>\n",
       "    </tr>\n",
       "  </thead>\n",
       "  <tbody>\n",
       "    <tr>\n",
       "      <th>0</th>\n",
       "      <td>28941.0</td>\n",
       "      <td>1.0</td>\n",
       "      <td>7</td>\n",
       "      <td>5.0</td>\n",
       "    </tr>\n",
       "    <tr>\n",
       "      <th>1</th>\n",
       "      <td>28941.0</td>\n",
       "      <td>1.0</td>\n",
       "      <td>11</td>\n",
       "      <td>3.0</td>\n",
       "    </tr>\n",
       "    <tr>\n",
       "      <th>2</th>\n",
       "      <td>28941.0</td>\n",
       "      <td>1.0</td>\n",
       "      <td>17</td>\n",
       "      <td>5.0</td>\n",
       "    </tr>\n",
       "    <tr>\n",
       "      <th>3</th>\n",
       "      <td>28941.0</td>\n",
       "      <td>1.0</td>\n",
       "      <td>19</td>\n",
       "      <td>2.0</td>\n",
       "    </tr>\n",
       "    <tr>\n",
       "      <th>4</th>\n",
       "      <td>28941.0</td>\n",
       "      <td>1.0</td>\n",
       "      <td>34</td>\n",
       "      <td>5.0</td>\n",
       "    </tr>\n",
       "  </tbody>\n",
       "</table>\n",
       "</div>"
      ],
      "text/plain": [
       "    userId  corr  movieId  rating\n",
       "0  28941.0   1.0        7     5.0\n",
       "1  28941.0   1.0       11     3.0\n",
       "2  28941.0   1.0       17     5.0\n",
       "3  28941.0   1.0       19     2.0\n",
       "4  28941.0   1.0       34     5.0"
      ]
     },
     "execution_count": 61,
     "metadata": {},
     "output_type": "execute_result"
    }
   ],
   "source": [
    "top_users_ratings.head()"
   ]
  },
  {
   "cell_type": "code",
   "execution_count": 62,
   "id": "ad59e5d5-2e8d-4b82-a914-e7aee66ec5de",
   "metadata": {},
   "outputs": [],
   "source": [
    "top_users_ratings = top_users_ratings[top_users_ratings[\"userId\"] != random_user] # kullanıcının kendisi çıkarılıyor."
   ]
  },
  {
   "cell_type": "code",
   "execution_count": 64,
   "id": "a2657942-645f-4934-b478-fa6efcd63cd0",
   "metadata": {},
   "outputs": [
    {
     "data": {
      "text/html": [
       "<div>\n",
       "<style scoped>\n",
       "    .dataframe tbody tr th:only-of-type {\n",
       "        vertical-align: middle;\n",
       "    }\n",
       "\n",
       "    .dataframe tbody tr th {\n",
       "        vertical-align: top;\n",
       "    }\n",
       "\n",
       "    .dataframe thead th {\n",
       "        text-align: right;\n",
       "    }\n",
       "</style>\n",
       "<table border=\"1\" class=\"dataframe\">\n",
       "  <thead>\n",
       "    <tr style=\"text-align: right;\">\n",
       "      <th></th>\n",
       "      <th>userId</th>\n",
       "      <th>corr</th>\n",
       "      <th>movieId</th>\n",
       "      <th>rating</th>\n",
       "    </tr>\n",
       "  </thead>\n",
       "  <tbody>\n",
       "    <tr>\n",
       "      <th>33</th>\n",
       "      <td>9783.0</td>\n",
       "      <td>0.747942</td>\n",
       "      <td>2</td>\n",
       "      <td>1.0</td>\n",
       "    </tr>\n",
       "    <tr>\n",
       "      <th>34</th>\n",
       "      <td>9783.0</td>\n",
       "      <td>0.747942</td>\n",
       "      <td>6</td>\n",
       "      <td>2.0</td>\n",
       "    </tr>\n",
       "    <tr>\n",
       "      <th>35</th>\n",
       "      <td>9783.0</td>\n",
       "      <td>0.747942</td>\n",
       "      <td>10</td>\n",
       "      <td>3.0</td>\n",
       "    </tr>\n",
       "    <tr>\n",
       "      <th>36</th>\n",
       "      <td>9783.0</td>\n",
       "      <td>0.747942</td>\n",
       "      <td>11</td>\n",
       "      <td>2.0</td>\n",
       "    </tr>\n",
       "    <tr>\n",
       "      <th>37</th>\n",
       "      <td>9783.0</td>\n",
       "      <td>0.747942</td>\n",
       "      <td>16</td>\n",
       "      <td>3.0</td>\n",
       "    </tr>\n",
       "  </tbody>\n",
       "</table>\n",
       "</div>"
      ],
      "text/plain": [
       "    userId      corr  movieId  rating\n",
       "33  9783.0  0.747942        2     1.0\n",
       "34  9783.0  0.747942        6     2.0\n",
       "35  9783.0  0.747942       10     3.0\n",
       "36  9783.0  0.747942       11     2.0\n",
       "37  9783.0  0.747942       16     3.0"
      ]
     },
     "execution_count": 64,
     "metadata": {},
     "output_type": "execute_result"
    }
   ],
   "source": [
    "top_users_ratings.head()"
   ]
  },
  {
   "cell_type": "markdown",
   "id": "16d4d3ab-dd8a-47c1-ba38-42c771cf0408",
   "metadata": {},
   "source": [
    "## Görev 5:"
   ]
  },
  {
   "cell_type": "markdown",
   "id": "a26b652d-2a4d-4d5b-9f2f-4f6189e05dfc",
   "metadata": {},
   "source": [
    "#### Weighted Average Recommendation Score'u hesaplayınız ve ilk 5 filmi tutunuz."
   ]
  },
  {
   "cell_type": "code",
   "execution_count": 65,
   "id": "ae8b0c42-8256-4b8a-9588-a0cb88d2a556",
   "metadata": {},
   "outputs": [
    {
     "data": {
      "text/html": [
       "<div>\n",
       "<style scoped>\n",
       "    .dataframe tbody tr th:only-of-type {\n",
       "        vertical-align: middle;\n",
       "    }\n",
       "\n",
       "    .dataframe tbody tr th {\n",
       "        vertical-align: top;\n",
       "    }\n",
       "\n",
       "    .dataframe thead th {\n",
       "        text-align: right;\n",
       "    }\n",
       "</style>\n",
       "<table border=\"1\" class=\"dataframe\">\n",
       "  <thead>\n",
       "    <tr style=\"text-align: right;\">\n",
       "      <th></th>\n",
       "      <th>userId</th>\n",
       "      <th>corr</th>\n",
       "      <th>movieId</th>\n",
       "      <th>rating</th>\n",
       "      <th>weighted_rating</th>\n",
       "    </tr>\n",
       "  </thead>\n",
       "  <tbody>\n",
       "    <tr>\n",
       "      <th>33</th>\n",
       "      <td>9783.0</td>\n",
       "      <td>0.747942</td>\n",
       "      <td>2</td>\n",
       "      <td>1.0</td>\n",
       "      <td>0.747942</td>\n",
       "    </tr>\n",
       "    <tr>\n",
       "      <th>34</th>\n",
       "      <td>9783.0</td>\n",
       "      <td>0.747942</td>\n",
       "      <td>6</td>\n",
       "      <td>2.0</td>\n",
       "      <td>1.495885</td>\n",
       "    </tr>\n",
       "    <tr>\n",
       "      <th>35</th>\n",
       "      <td>9783.0</td>\n",
       "      <td>0.747942</td>\n",
       "      <td>10</td>\n",
       "      <td>3.0</td>\n",
       "      <td>2.243827</td>\n",
       "    </tr>\n",
       "    <tr>\n",
       "      <th>36</th>\n",
       "      <td>9783.0</td>\n",
       "      <td>0.747942</td>\n",
       "      <td>11</td>\n",
       "      <td>2.0</td>\n",
       "      <td>1.495885</td>\n",
       "    </tr>\n",
       "    <tr>\n",
       "      <th>37</th>\n",
       "      <td>9783.0</td>\n",
       "      <td>0.747942</td>\n",
       "      <td>16</td>\n",
       "      <td>3.0</td>\n",
       "      <td>2.243827</td>\n",
       "    </tr>\n",
       "  </tbody>\n",
       "</table>\n",
       "</div>"
      ],
      "text/plain": [
       "    userId      corr  movieId  rating  weighted_rating\n",
       "33  9783.0  0.747942        2     1.0         0.747942\n",
       "34  9783.0  0.747942        6     2.0         1.495885\n",
       "35  9783.0  0.747942       10     3.0         2.243827\n",
       "36  9783.0  0.747942       11     2.0         1.495885\n",
       "37  9783.0  0.747942       16     3.0         2.243827"
      ]
     },
     "execution_count": 65,
     "metadata": {},
     "output_type": "execute_result"
    }
   ],
   "source": [
    "top_users_ratings['weighted_rating'] = top_users_ratings['corr'] * top_users_ratings['rating']\n",
    "top_users_ratings.head()"
   ]
  },
  {
   "cell_type": "code",
   "execution_count": 66,
   "id": "27b6ff3a-25d1-4dea-8fd5-6f53a0a51647",
   "metadata": {},
   "outputs": [
    {
     "data": {
      "text/html": [
       "<div>\n",
       "<style scoped>\n",
       "    .dataframe tbody tr th:only-of-type {\n",
       "        vertical-align: middle;\n",
       "    }\n",
       "\n",
       "    .dataframe tbody tr th {\n",
       "        vertical-align: top;\n",
       "    }\n",
       "\n",
       "    .dataframe thead th {\n",
       "        text-align: right;\n",
       "    }\n",
       "</style>\n",
       "<table border=\"1\" class=\"dataframe\">\n",
       "  <thead>\n",
       "    <tr style=\"text-align: right;\">\n",
       "      <th></th>\n",
       "      <th>weighted_rating</th>\n",
       "    </tr>\n",
       "    <tr>\n",
       "      <th>movieId</th>\n",
       "      <th></th>\n",
       "    </tr>\n",
       "  </thead>\n",
       "  <tbody>\n",
       "    <tr>\n",
       "      <th>1</th>\n",
       "      <td>2.645071</td>\n",
       "    </tr>\n",
       "    <tr>\n",
       "      <th>2</th>\n",
       "      <td>1.796120</td>\n",
       "    </tr>\n",
       "    <tr>\n",
       "      <th>3</th>\n",
       "      <td>1.398058</td>\n",
       "    </tr>\n",
       "    <tr>\n",
       "      <th>4</th>\n",
       "      <td>2.352706</td>\n",
       "    </tr>\n",
       "    <tr>\n",
       "      <th>5</th>\n",
       "      <td>1.832357</td>\n",
       "    </tr>\n",
       "    <tr>\n",
       "      <th>...</th>\n",
       "      <td>...</td>\n",
       "    </tr>\n",
       "    <tr>\n",
       "      <th>56367</th>\n",
       "      <td>2.565300</td>\n",
       "    </tr>\n",
       "    <tr>\n",
       "      <th>56508</th>\n",
       "      <td>2.931772</td>\n",
       "    </tr>\n",
       "    <tr>\n",
       "      <th>56788</th>\n",
       "      <td>2.565300</td>\n",
       "    </tr>\n",
       "    <tr>\n",
       "      <th>58303</th>\n",
       "      <td>2.931772</td>\n",
       "    </tr>\n",
       "    <tr>\n",
       "      <th>59725</th>\n",
       "      <td>2.931772</td>\n",
       "    </tr>\n",
       "  </tbody>\n",
       "</table>\n",
       "<p>3240 rows × 1 columns</p>\n",
       "</div>"
      ],
      "text/plain": [
       "         weighted_rating\n",
       "movieId                 \n",
       "1               2.645071\n",
       "2               1.796120\n",
       "3               1.398058\n",
       "4               2.352706\n",
       "5               1.832357\n",
       "...                  ...\n",
       "56367           2.565300\n",
       "56508           2.931772\n",
       "56788           2.565300\n",
       "58303           2.931772\n",
       "59725           2.931772\n",
       "\n",
       "[3240 rows x 1 columns]"
      ]
     },
     "execution_count": 66,
     "metadata": {},
     "output_type": "execute_result"
    }
   ],
   "source": [
    "top_users_ratings.groupby('movieId').agg({\"weighted_rating\": \"mean\"})"
   ]
  },
  {
   "cell_type": "code",
   "execution_count": 70,
   "id": "b6b80308-8a0c-48cf-b022-469ea7bb97eb",
   "metadata": {},
   "outputs": [],
   "source": [
    "recommendation_df = top_users_ratings.groupby('movieId').agg({\"weighted_rating\": \"mean\"})"
   ]
  },
  {
   "cell_type": "code",
   "execution_count": 71,
   "id": "210105b3-63e4-4e16-a51b-5d6396d66fd7",
   "metadata": {},
   "outputs": [],
   "source": [
    "recommendation_df = recommendation_df.reset_index()"
   ]
  },
  {
   "cell_type": "code",
   "execution_count": 72,
   "id": "32a56314-d488-43a0-b65b-db50315a1afb",
   "metadata": {},
   "outputs": [
    {
     "data": {
      "text/html": [
       "<div>\n",
       "<style scoped>\n",
       "    .dataframe tbody tr th:only-of-type {\n",
       "        vertical-align: middle;\n",
       "    }\n",
       "\n",
       "    .dataframe tbody tr th {\n",
       "        vertical-align: top;\n",
       "    }\n",
       "\n",
       "    .dataframe thead th {\n",
       "        text-align: right;\n",
       "    }\n",
       "</style>\n",
       "<table border=\"1\" class=\"dataframe\">\n",
       "  <thead>\n",
       "    <tr style=\"text-align: right;\">\n",
       "      <th></th>\n",
       "      <th>movieId</th>\n",
       "      <th>weighted_rating</th>\n",
       "    </tr>\n",
       "  </thead>\n",
       "  <tbody>\n",
       "    <tr>\n",
       "      <th>0</th>\n",
       "      <td>1</td>\n",
       "      <td>2.645071</td>\n",
       "    </tr>\n",
       "    <tr>\n",
       "      <th>1</th>\n",
       "      <td>2</td>\n",
       "      <td>1.796120</td>\n",
       "    </tr>\n",
       "    <tr>\n",
       "      <th>2</th>\n",
       "      <td>3</td>\n",
       "      <td>1.398058</td>\n",
       "    </tr>\n",
       "    <tr>\n",
       "      <th>3</th>\n",
       "      <td>4</td>\n",
       "      <td>2.352706</td>\n",
       "    </tr>\n",
       "    <tr>\n",
       "      <th>4</th>\n",
       "      <td>5</td>\n",
       "      <td>1.832357</td>\n",
       "    </tr>\n",
       "  </tbody>\n",
       "</table>\n",
       "</div>"
      ],
      "text/plain": [
       "   movieId  weighted_rating\n",
       "0        1         2.645071\n",
       "1        2         1.796120\n",
       "2        3         1.398058\n",
       "3        4         2.352706\n",
       "4        5         1.832357"
      ]
     },
     "execution_count": 72,
     "metadata": {},
     "output_type": "execute_result"
    }
   ],
   "source": [
    "recommendation_df.head()"
   ]
  },
  {
   "cell_type": "code",
   "execution_count": 74,
   "id": "8cce9a0e-e555-4800-8a5e-af4f22d750e7",
   "metadata": {},
   "outputs": [
    {
     "data": {
      "text/plain": [
       "movieId    3240\n",
       "dtype: int64"
      ]
     },
     "execution_count": 74,
     "metadata": {},
     "output_type": "execute_result"
    }
   ],
   "source": [
    "recommendation_df[[\"movieId\"]].nunique()"
   ]
  },
  {
   "cell_type": "code",
   "execution_count": 75,
   "id": "0a024d54-dfdf-488c-9ac1-1c090d2db41f",
   "metadata": {},
   "outputs": [],
   "source": [
    "movies_to_be_recommend = recommendation_df[recommendation_df[\"weighted_rating\"] > 3.6].sort_values(\"weighted_rating\", ascending=False)"
   ]
  },
  {
   "cell_type": "code",
   "execution_count": 76,
   "id": "b5d117ed-7f34-4d15-b2c1-55244a806ffe",
   "metadata": {},
   "outputs": [
    {
     "data": {
      "text/html": [
       "<div>\n",
       "<style scoped>\n",
       "    .dataframe tbody tr th:only-of-type {\n",
       "        vertical-align: middle;\n",
       "    }\n",
       "\n",
       "    .dataframe tbody tr th {\n",
       "        vertical-align: top;\n",
       "    }\n",
       "\n",
       "    .dataframe thead th {\n",
       "        text-align: right;\n",
       "    }\n",
       "</style>\n",
       "<table border=\"1\" class=\"dataframe\">\n",
       "  <thead>\n",
       "    <tr style=\"text-align: right;\">\n",
       "      <th></th>\n",
       "      <th>movieId</th>\n",
       "      <th>weighted_rating</th>\n",
       "    </tr>\n",
       "  </thead>\n",
       "  <tbody>\n",
       "    <tr>\n",
       "      <th>52</th>\n",
       "      <td>82</td>\n",
       "      <td>3.664714</td>\n",
       "    </tr>\n",
       "    <tr>\n",
       "      <th>416</th>\n",
       "      <td>858</td>\n",
       "      <td>3.664714</td>\n",
       "    </tr>\n",
       "    <tr>\n",
       "      <th>1451</th>\n",
       "      <td>3194</td>\n",
       "      <td>3.664714</td>\n",
       "    </tr>\n",
       "    <tr>\n",
       "      <th>1547</th>\n",
       "      <td>3451</td>\n",
       "      <td>3.664714</td>\n",
       "    </tr>\n",
       "    <tr>\n",
       "      <th>1775</th>\n",
       "      <td>4062</td>\n",
       "      <td>3.664714</td>\n",
       "    </tr>\n",
       "  </tbody>\n",
       "</table>\n",
       "</div>"
      ],
      "text/plain": [
       "      movieId  weighted_rating\n",
       "52         82         3.664714\n",
       "416       858         3.664714\n",
       "1451     3194         3.664714\n",
       "1547     3451         3.664714\n",
       "1775     4062         3.664714"
      ]
     },
     "execution_count": 76,
     "metadata": {},
     "output_type": "execute_result"
    }
   ],
   "source": [
    "movies_to_be_recommend.head()"
   ]
  },
  {
   "cell_type": "code",
   "execution_count": 79,
   "id": "e7ff6e7d-d314-40ae-bd1a-54a764a26af8",
   "metadata": {},
   "outputs": [
    {
     "data": {
      "text/html": [
       "<div>\n",
       "<style scoped>\n",
       "    .dataframe tbody tr th:only-of-type {\n",
       "        vertical-align: middle;\n",
       "    }\n",
       "\n",
       "    .dataframe tbody tr th {\n",
       "        vertical-align: top;\n",
       "    }\n",
       "\n",
       "    .dataframe thead th {\n",
       "        text-align: right;\n",
       "    }\n",
       "</style>\n",
       "<table border=\"1\" class=\"dataframe\">\n",
       "  <thead>\n",
       "    <tr style=\"text-align: right;\">\n",
       "      <th></th>\n",
       "      <th>movieId</th>\n",
       "      <th>weighted_rating</th>\n",
       "      <th>title</th>\n",
       "    </tr>\n",
       "  </thead>\n",
       "  <tbody>\n",
       "    <tr>\n",
       "      <th>0</th>\n",
       "      <td>82</td>\n",
       "      <td>3.664714</td>\n",
       "      <td>Antonia's Line (Antonia) (1995)</td>\n",
       "    </tr>\n",
       "    <tr>\n",
       "      <th>1</th>\n",
       "      <td>858</td>\n",
       "      <td>3.664714</td>\n",
       "      <td>Godfather, The (1972)</td>\n",
       "    </tr>\n",
       "    <tr>\n",
       "      <th>2</th>\n",
       "      <td>3194</td>\n",
       "      <td>3.664714</td>\n",
       "      <td>Way We Were, The (1973)</td>\n",
       "    </tr>\n",
       "    <tr>\n",
       "      <th>3</th>\n",
       "      <td>3451</td>\n",
       "      <td>3.664714</td>\n",
       "      <td>Guess Who's Coming to Dinner (1967)</td>\n",
       "    </tr>\n",
       "    <tr>\n",
       "      <th>4</th>\n",
       "      <td>4062</td>\n",
       "      <td>3.664714</td>\n",
       "      <td>Mystic Pizza (1988)</td>\n",
       "    </tr>\n",
       "  </tbody>\n",
       "</table>\n",
       "</div>"
      ],
      "text/plain": [
       "   movieId  weighted_rating                                title\n",
       "0       82         3.664714      Antonia's Line (Antonia) (1995)\n",
       "1      858         3.664714                Godfather, The (1972)\n",
       "2     3194         3.664714              Way We Were, The (1973)\n",
       "3     3451         3.664714  Guess Who's Coming to Dinner (1967)\n",
       "4     4062         3.664714                  Mystic Pizza (1988)"
      ]
     },
     "execution_count": 79,
     "metadata": {},
     "output_type": "execute_result"
    }
   ],
   "source": [
    "movie = pd.read_csv(r'C:/Users/eyp_d/Desktop/VBO-Bootcamp-Dersler/4.Hafta/Ders Öncesi Notlar/movie_lens_dataset/movie.csv')\n",
    "movies_to_be_recommend.merge(movie[[\"movieId\", \"title\"]]).head()"
   ]
  },
  {
   "cell_type": "markdown",
   "id": "e45e9d48-2e95-45ad-aba7-15156455ae21",
   "metadata": {},
   "source": [
    "## Görev 6:"
   ]
  },
  {
   "cell_type": "markdown",
   "id": "41467a0c-7361-428d-8305-baa6d3ec0887",
   "metadata": {},
   "source": [
    "#### Kullanıcının izlediği filmlerden en son en yüksek puan verdiği filmin adına göre user-basede ve item-based öneri yapınız."
   ]
  },
  {
   "cell_type": "code",
   "execution_count": 112,
   "id": "1648d71d-c4b1-4d97-be4b-72fc8573b23e",
   "metadata": {},
   "outputs": [],
   "source": [
    "movies_to_be_recommend = recommendation_df[recommendation_df[\"weighted_rating\"] > 3.5].sort_values(\"weighted_rating\", ascending=False)"
   ]
  },
  {
   "cell_type": "code",
   "execution_count": 113,
   "id": "e8502d5d-5ec0-4b8f-b60e-d43e0e4ff02e",
   "metadata": {},
   "outputs": [
    {
     "data": {
      "text/html": [
       "<div>\n",
       "<style scoped>\n",
       "    .dataframe tbody tr th:only-of-type {\n",
       "        vertical-align: middle;\n",
       "    }\n",
       "\n",
       "    .dataframe tbody tr th {\n",
       "        vertical-align: top;\n",
       "    }\n",
       "\n",
       "    .dataframe thead th {\n",
       "        text-align: right;\n",
       "    }\n",
       "</style>\n",
       "<table border=\"1\" class=\"dataframe\">\n",
       "  <thead>\n",
       "    <tr style=\"text-align: right;\">\n",
       "      <th></th>\n",
       "      <th>movieId</th>\n",
       "      <th>weighted_rating</th>\n",
       "    </tr>\n",
       "  </thead>\n",
       "  <tbody>\n",
       "    <tr>\n",
       "      <th>52</th>\n",
       "      <td>82</td>\n",
       "      <td>3.664714</td>\n",
       "    </tr>\n",
       "    <tr>\n",
       "      <th>1395</th>\n",
       "      <td>3068</td>\n",
       "      <td>3.664714</td>\n",
       "    </tr>\n",
       "    <tr>\n",
       "      <th>1451</th>\n",
       "      <td>3194</td>\n",
       "      <td>3.664714</td>\n",
       "    </tr>\n",
       "    <tr>\n",
       "      <th>1547</th>\n",
       "      <td>3451</td>\n",
       "      <td>3.664714</td>\n",
       "    </tr>\n",
       "    <tr>\n",
       "      <th>1775</th>\n",
       "      <td>4062</td>\n",
       "      <td>3.664714</td>\n",
       "    </tr>\n",
       "  </tbody>\n",
       "</table>\n",
       "</div>"
      ],
      "text/plain": [
       "      movieId  weighted_rating\n",
       "52         82         3.664714\n",
       "1395     3068         3.664714\n",
       "1451     3194         3.664714\n",
       "1547     3451         3.664714\n",
       "1775     4062         3.664714"
      ]
     },
     "execution_count": 113,
     "metadata": {},
     "output_type": "execute_result"
    }
   ],
   "source": [
    "movies_to_be_recommend.head()"
   ]
  },
  {
   "cell_type": "code",
   "execution_count": 114,
   "id": "d469eef9-4c1b-46ee-ad36-beb60cd97e9c",
   "metadata": {},
   "outputs": [],
   "source": [
    "movies_to_be_recommend = movies_to_be_recommend.merge(movie[[\"movieId\", \"title\"]])"
   ]
  },
  {
   "cell_type": "code",
   "execution_count": 115,
   "id": "2f3474e3-0302-43fc-ba05-3bd68a2f2fbe",
   "metadata": {},
   "outputs": [
    {
     "data": {
      "text/plain": [
       "0        Antonia's Line (Antonia) (1995)\n",
       "1                    Verdict, The (1982)\n",
       "2                Way We Were, The (1973)\n",
       "3    Guess Who's Coming to Dinner (1967)\n",
       "4                    Mystic Pizza (1988)\n",
       "Name: title, dtype: object"
      ]
     },
     "execution_count": 115,
     "metadata": {},
     "output_type": "execute_result"
    }
   ],
   "source": [
    "movies_to_be_recommend[\"title\"].head()"
   ]
  },
  {
   "cell_type": "code",
   "execution_count": 119,
   "id": "466c1636-3f4e-4dae-b823-390a27b46e13",
   "metadata": {},
   "outputs": [],
   "source": [
    "movie = pd.read_csv(r'C:/Users/eyp_d/Desktop/VBO-Bootcamp-Dersler/4.Hafta/Ders Öncesi Notlar/movie_lens_dataset/movie.csv')\n",
    "rating = pd.read_csv('C:/Users/eyp_d/Desktop/VBO-Bootcamp-Dersler/4.Hafta/Ders Öncesi Notlar/movie_lens_dataset/rating.csv')"
   ]
  },
  {
   "cell_type": "code",
   "execution_count": 190,
   "id": "a789d053-cc92-4f83-ad11-33de1957dbdc",
   "metadata": {},
   "outputs": [],
   "source": [
    "movie_id = rating[(rating[\"userId\"] == random_user) & (rating[\"rating\"] == 5)].sort_values(by=\"timestamp\", ascending=False)[\"movieId\"][0:1].values[0]"
   ]
  },
  {
   "cell_type": "code",
   "execution_count": 191,
   "id": "30ac7a9f-c12f-4a7f-8005-05525d284d49",
   "metadata": {},
   "outputs": [
    {
     "data": {
      "text/plain": [
       "7"
      ]
     },
     "execution_count": 191,
     "metadata": {},
     "output_type": "execute_result"
    }
   ],
   "source": [
    "movie_id"
   ]
  },
  {
   "cell_type": "code",
   "execution_count": 215,
   "id": "e17e2c26-8c16-4bc1-ba69-c834cbd34190",
   "metadata": {},
   "outputs": [],
   "source": [
    "movie_name = movie[movie[\"movieId\"] == movie_id][\"title\"].values[0]"
   ]
  },
  {
   "cell_type": "code",
   "execution_count": 216,
   "id": "a2860d73-1b47-47ee-a651-f21b14c5eef6",
   "metadata": {},
   "outputs": [
    {
     "data": {
      "text/plain": [
       "'Sabrina (1995)'"
      ]
     },
     "execution_count": 216,
     "metadata": {},
     "output_type": "execute_result"
    }
   ],
   "source": [
    "movie_name"
   ]
  },
  {
   "cell_type": "code",
   "execution_count": 217,
   "id": "339e3ef3-1abd-4503-bcf3-daef56e6017b",
   "metadata": {},
   "outputs": [],
   "source": [
    "movie_name = user_movie_df[movie_name]\n",
    "movies_from_item_based = user_movie_df.corrwith(movie_name).sort_values(ascending=False).head(10)"
   ]
  },
  {
   "cell_type": "code",
   "execution_count": 218,
   "id": "6cd16ad1-9577-476f-9c34-31eff4ac867d",
   "metadata": {},
   "outputs": [
    {
     "data": {
      "text/plain": [
       "Index(['Intouchables (2011)', 'Father of the Bride (1991)',\n",
       "       'Anna and the King (1999)', 'Runaway Bride (1999)',\n",
       "       'Phantom of the Opera, The (2004)'],\n",
       "      dtype='object', name='title')"
      ]
     },
     "execution_count": 218,
     "metadata": {},
     "output_type": "execute_result"
    }
   ],
   "source": [
    "movies_from_item_based[1:6].index"
   ]
  },
  {
   "cell_type": "code",
   "execution_count": null,
   "id": "e54e3778-d7c2-431a-9a14-706919d7d11f",
   "metadata": {},
   "outputs": [],
   "source": []
  }
 ],
 "metadata": {
  "kernelspec": {
   "display_name": "Python 3",
   "language": "python",
   "name": "python3"
  },
  "language_info": {
   "codemirror_mode": {
    "name": "ipython",
    "version": 3
   },
   "file_extension": ".py",
   "mimetype": "text/x-python",
   "name": "python",
   "nbconvert_exporter": "python",
   "pygments_lexer": "ipython3",
   "version": "3.8.8"
  }
 },
 "nbformat": 4,
 "nbformat_minor": 5
}
