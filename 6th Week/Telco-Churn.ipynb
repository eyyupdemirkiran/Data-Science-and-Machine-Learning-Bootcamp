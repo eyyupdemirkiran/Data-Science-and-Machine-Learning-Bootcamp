{
 "cells": [
  {
   "cell_type": "markdown",
   "id": "b7ce7995-7f98-4931-bbe8-ae083ac6a393",
   "metadata": {},
   "source": [
    "# 1- Exploratory Data Analysis (Keşifçi Veri Analizi)"
   ]
  },
  {
   "cell_type": "markdown",
   "id": "d92c3944-4e4b-40eb-8baf-d9955942a928",
   "metadata": {
    "tags": []
   },
   "source": [
    "## 1.1-Veri Setini İnceleme"
   ]
  },
  {
   "cell_type": "code",
   "execution_count": 1,
   "id": "275473d6-6449-469c-b70b-e9944292d5f6",
   "metadata": {},
   "outputs": [],
   "source": [
    "import numpy as np\n",
    "import pandas as pd\n",
    "import seaborn as sns\n",
    "from matplotlib import pyplot as plt\n",
    "import missingno as msno\n",
    "from datetime import date\n",
    "from sklearn.metrics import accuracy_score\n",
    "from sklearn.model_selection import train_test_split\n",
    "from sklearn.neighbors import LocalOutlierFactor\n",
    "from sklearn.preprocessing import MinMaxScaler, LabelEncoder, StandardScaler, RobustScaler\n",
    "from catboost import CatBoostClassifier\n",
    "from sklearn.metrics import accuracy_score, precision_score, recall_score, f1_score,roc_auc_score"
   ]
  },
  {
   "cell_type": "code",
   "execution_count": 2,
   "id": "cfb7b16e-8b64-4387-9a13-0da953d292f3",
   "metadata": {},
   "outputs": [],
   "source": [
    "pd.set_option(\"display.max_columns\", 8)\n",
    "pd.set_option(\"display.max_rows\", None)\n",
    "pd.set_option(\"display.float_format\", lambda x: \"%.3f\" % x)\n",
    "pd.set_option(\"display.width\", 500)"
   ]
  },
  {
   "cell_type": "code",
   "execution_count": 3,
   "id": "1f738da3-1dc1-4069-b016-5a53dc310942",
   "metadata": {},
   "outputs": [],
   "source": [
    "def load_telco():\n",
    "    data = pd.read_csv(\"C:/Users/eyp_d/Desktop/VBO-Bootcamp-Dersler/6.Hafta/Ders Öncesi Notlar/datasets/Telco-Customer-Churn.csv\")\n",
    "    return data"
   ]
  },
  {
   "cell_type": "code",
   "execution_count": 4,
   "id": "6bb81aef-ad19-4de7-8313-fc678f3da656",
   "metadata": {},
   "outputs": [
    {
     "data": {
      "text/html": [
       "<div>\n",
       "<style scoped>\n",
       "    .dataframe tbody tr th:only-of-type {\n",
       "        vertical-align: middle;\n",
       "    }\n",
       "\n",
       "    .dataframe tbody tr th {\n",
       "        vertical-align: top;\n",
       "    }\n",
       "\n",
       "    .dataframe thead th {\n",
       "        text-align: right;\n",
       "    }\n",
       "</style>\n",
       "<table border=\"1\" class=\"dataframe\">\n",
       "  <thead>\n",
       "    <tr style=\"text-align: right;\">\n",
       "      <th></th>\n",
       "      <th>customerID</th>\n",
       "      <th>gender</th>\n",
       "      <th>SeniorCitizen</th>\n",
       "      <th>Partner</th>\n",
       "      <th>...</th>\n",
       "      <th>PaymentMethod</th>\n",
       "      <th>MonthlyCharges</th>\n",
       "      <th>TotalCharges</th>\n",
       "      <th>Churn</th>\n",
       "    </tr>\n",
       "  </thead>\n",
       "  <tbody>\n",
       "    <tr>\n",
       "      <th>0</th>\n",
       "      <td>7590-VHVEG</td>\n",
       "      <td>Female</td>\n",
       "      <td>0</td>\n",
       "      <td>Yes</td>\n",
       "      <td>...</td>\n",
       "      <td>Electronic check</td>\n",
       "      <td>29.850</td>\n",
       "      <td>29.85</td>\n",
       "      <td>No</td>\n",
       "    </tr>\n",
       "    <tr>\n",
       "      <th>1</th>\n",
       "      <td>5575-GNVDE</td>\n",
       "      <td>Male</td>\n",
       "      <td>0</td>\n",
       "      <td>No</td>\n",
       "      <td>...</td>\n",
       "      <td>Mailed check</td>\n",
       "      <td>56.950</td>\n",
       "      <td>1889.5</td>\n",
       "      <td>No</td>\n",
       "    </tr>\n",
       "    <tr>\n",
       "      <th>2</th>\n",
       "      <td>3668-QPYBK</td>\n",
       "      <td>Male</td>\n",
       "      <td>0</td>\n",
       "      <td>No</td>\n",
       "      <td>...</td>\n",
       "      <td>Mailed check</td>\n",
       "      <td>53.850</td>\n",
       "      <td>108.15</td>\n",
       "      <td>Yes</td>\n",
       "    </tr>\n",
       "    <tr>\n",
       "      <th>3</th>\n",
       "      <td>7795-CFOCW</td>\n",
       "      <td>Male</td>\n",
       "      <td>0</td>\n",
       "      <td>No</td>\n",
       "      <td>...</td>\n",
       "      <td>Bank transfer (automatic)</td>\n",
       "      <td>42.300</td>\n",
       "      <td>1840.75</td>\n",
       "      <td>No</td>\n",
       "    </tr>\n",
       "    <tr>\n",
       "      <th>4</th>\n",
       "      <td>9237-HQITU</td>\n",
       "      <td>Female</td>\n",
       "      <td>0</td>\n",
       "      <td>No</td>\n",
       "      <td>...</td>\n",
       "      <td>Electronic check</td>\n",
       "      <td>70.700</td>\n",
       "      <td>151.65</td>\n",
       "      <td>Yes</td>\n",
       "    </tr>\n",
       "  </tbody>\n",
       "</table>\n",
       "<p>5 rows × 21 columns</p>\n",
       "</div>"
      ],
      "text/plain": [
       "   customerID  gender  SeniorCitizen Partner  ...              PaymentMethod  MonthlyCharges TotalCharges Churn\n",
       "0  7590-VHVEG  Female              0     Yes  ...           Electronic check          29.850        29.85    No\n",
       "1  5575-GNVDE    Male              0      No  ...               Mailed check          56.950       1889.5    No\n",
       "2  3668-QPYBK    Male              0      No  ...               Mailed check          53.850       108.15   Yes\n",
       "3  7795-CFOCW    Male              0      No  ...  Bank transfer (automatic)          42.300      1840.75    No\n",
       "4  9237-HQITU  Female              0      No  ...           Electronic check          70.700       151.65   Yes\n",
       "\n",
       "[5 rows x 21 columns]"
      ]
     },
     "execution_count": 4,
     "metadata": {},
     "output_type": "execute_result"
    }
   ],
   "source": [
    "df = load_telco()\n",
    "df.head()"
   ]
  },
  {
   "cell_type": "code",
   "execution_count": 5,
   "id": "a8265281-87bd-4226-9dd2-73a1f8f416d2",
   "metadata": {},
   "outputs": [
    {
     "data": {
      "text/plain": [
       "(7043, 21)"
      ]
     },
     "execution_count": 5,
     "metadata": {},
     "output_type": "execute_result"
    }
   ],
   "source": [
    "df.shape  # Veri seti boyutu "
   ]
  },
  {
   "cell_type": "code",
   "execution_count": 6,
   "id": "bc526c6e-76b5-40e9-a5c9-97b1c19192ef",
   "metadata": {},
   "outputs": [
    {
     "name": "stdout",
     "output_type": "stream",
     "text": [
      "<class 'pandas.core.frame.DataFrame'>\n",
      "RangeIndex: 7043 entries, 0 to 7042\n",
      "Data columns (total 21 columns):\n",
      " #   Column            Non-Null Count  Dtype  \n",
      "---  ------            --------------  -----  \n",
      " 0   customerID        7043 non-null   object \n",
      " 1   gender            7043 non-null   object \n",
      " 2   SeniorCitizen     7043 non-null   int64  \n",
      " 3   Partner           7043 non-null   object \n",
      " 4   Dependents        7043 non-null   object \n",
      " 5   tenure            7043 non-null   int64  \n",
      " 6   PhoneService      7043 non-null   object \n",
      " 7   MultipleLines     7043 non-null   object \n",
      " 8   InternetService   7043 non-null   object \n",
      " 9   OnlineSecurity    7043 non-null   object \n",
      " 10  OnlineBackup      7043 non-null   object \n",
      " 11  DeviceProtection  7043 non-null   object \n",
      " 12  TechSupport       7043 non-null   object \n",
      " 13  StreamingTV       7043 non-null   object \n",
      " 14  StreamingMovies   7043 non-null   object \n",
      " 15  Contract          7043 non-null   object \n",
      " 16  PaperlessBilling  7043 non-null   object \n",
      " 17  PaymentMethod     7043 non-null   object \n",
      " 18  MonthlyCharges    7043 non-null   float64\n",
      " 19  TotalCharges      7043 non-null   object \n",
      " 20  Churn             7043 non-null   object \n",
      "dtypes: float64(1), int64(2), object(18)\n",
      "memory usage: 1.1+ MB\n"
     ]
    }
   ],
   "source": [
    "df.info() # Veri seti değişkenler bilgisi"
   ]
  },
  {
   "cell_type": "code",
   "execution_count": 7,
   "id": "e039cebd-f5f4-4616-b5e3-90ae9b0d9c1e",
   "metadata": {},
   "outputs": [],
   "source": [
    "df[\"TotalCharges\"] = pd.to_numeric(df[\"TotalCharges\"], errors='coerce')\n",
    "df[\"Churn\"] = df[\"Churn\"].apply(lambda x : 1 if x == \"Yes\" else 0)"
   ]
  },
  {
   "cell_type": "markdown",
   "id": "87ec94dd-149e-44af-b9aa-00de070af227",
   "metadata": {},
   "source": [
    "TotalCharges ve bağımlı değişken veri tipi değiştirildi"
   ]
  },
  {
   "cell_type": "code",
   "execution_count": 8,
   "id": "08bbaddb-d074-460b-92af-92b05904c07a",
   "metadata": {},
   "outputs": [
    {
     "data": {
      "text/html": [
       "<div>\n",
       "<style scoped>\n",
       "    .dataframe tbody tr th:only-of-type {\n",
       "        vertical-align: middle;\n",
       "    }\n",
       "\n",
       "    .dataframe tbody tr th {\n",
       "        vertical-align: top;\n",
       "    }\n",
       "\n",
       "    .dataframe thead th {\n",
       "        text-align: right;\n",
       "    }\n",
       "</style>\n",
       "<table border=\"1\" class=\"dataframe\">\n",
       "  <thead>\n",
       "    <tr style=\"text-align: right;\">\n",
       "      <th></th>\n",
       "      <th>CUSTOMERID</th>\n",
       "      <th>GENDER</th>\n",
       "      <th>SENIORCITIZEN</th>\n",
       "      <th>PARTNER</th>\n",
       "      <th>...</th>\n",
       "      <th>PAYMENTMETHOD</th>\n",
       "      <th>MONTHLYCHARGES</th>\n",
       "      <th>TOTALCHARGES</th>\n",
       "      <th>CHURN</th>\n",
       "    </tr>\n",
       "  </thead>\n",
       "  <tbody>\n",
       "    <tr>\n",
       "      <th>0</th>\n",
       "      <td>7590-VHVEG</td>\n",
       "      <td>Female</td>\n",
       "      <td>0</td>\n",
       "      <td>Yes</td>\n",
       "      <td>...</td>\n",
       "      <td>Electronic check</td>\n",
       "      <td>29.850</td>\n",
       "      <td>29.850</td>\n",
       "      <td>0</td>\n",
       "    </tr>\n",
       "    <tr>\n",
       "      <th>1</th>\n",
       "      <td>5575-GNVDE</td>\n",
       "      <td>Male</td>\n",
       "      <td>0</td>\n",
       "      <td>No</td>\n",
       "      <td>...</td>\n",
       "      <td>Mailed check</td>\n",
       "      <td>56.950</td>\n",
       "      <td>1889.500</td>\n",
       "      <td>0</td>\n",
       "    </tr>\n",
       "    <tr>\n",
       "      <th>2</th>\n",
       "      <td>3668-QPYBK</td>\n",
       "      <td>Male</td>\n",
       "      <td>0</td>\n",
       "      <td>No</td>\n",
       "      <td>...</td>\n",
       "      <td>Mailed check</td>\n",
       "      <td>53.850</td>\n",
       "      <td>108.150</td>\n",
       "      <td>1</td>\n",
       "    </tr>\n",
       "    <tr>\n",
       "      <th>3</th>\n",
       "      <td>7795-CFOCW</td>\n",
       "      <td>Male</td>\n",
       "      <td>0</td>\n",
       "      <td>No</td>\n",
       "      <td>...</td>\n",
       "      <td>Bank transfer (automatic)</td>\n",
       "      <td>42.300</td>\n",
       "      <td>1840.750</td>\n",
       "      <td>0</td>\n",
       "    </tr>\n",
       "    <tr>\n",
       "      <th>4</th>\n",
       "      <td>9237-HQITU</td>\n",
       "      <td>Female</td>\n",
       "      <td>0</td>\n",
       "      <td>No</td>\n",
       "      <td>...</td>\n",
       "      <td>Electronic check</td>\n",
       "      <td>70.700</td>\n",
       "      <td>151.650</td>\n",
       "      <td>1</td>\n",
       "    </tr>\n",
       "  </tbody>\n",
       "</table>\n",
       "<p>5 rows × 21 columns</p>\n",
       "</div>"
      ],
      "text/plain": [
       "   CUSTOMERID  GENDER  SENIORCITIZEN PARTNER  ...              PAYMENTMETHOD  MONTHLYCHARGES TOTALCHARGES CHURN\n",
       "0  7590-VHVEG  Female              0     Yes  ...           Electronic check          29.850       29.850     0\n",
       "1  5575-GNVDE    Male              0      No  ...               Mailed check          56.950     1889.500     0\n",
       "2  3668-QPYBK    Male              0      No  ...               Mailed check          53.850      108.150     1\n",
       "3  7795-CFOCW    Male              0      No  ...  Bank transfer (automatic)          42.300     1840.750     0\n",
       "4  9237-HQITU  Female              0      No  ...           Electronic check          70.700      151.650     1\n",
       "\n",
       "[5 rows x 21 columns]"
      ]
     },
     "execution_count": 8,
     "metadata": {},
     "output_type": "execute_result"
    }
   ],
   "source": [
    "df.columns = [col.upper() for col in df.columns]\n",
    "df.head()"
   ]
  },
  {
   "cell_type": "markdown",
   "id": "4a25e98a-754a-44a3-a1dd-3ba7cd22408e",
   "metadata": {},
   "source": [
    "Değişken adları kullanım kolaylığı için büyük harflere çevirildi."
   ]
  },
  {
   "cell_type": "markdown",
   "id": "90acee49-e97c-47f3-b457-dfdbcfc36dd5",
   "metadata": {},
   "source": [
    "## 1.2-Değişkenler Arasındaki Korelasyon Analizi"
   ]
  },
  {
   "cell_type": "code",
   "execution_count": 9,
   "id": "6b583954-c808-4275-af72-35f794800419",
   "metadata": {},
   "outputs": [],
   "source": [
    "def label_encoder(dataframe, binary_col):\n",
    "    labelencoder = LabelEncoder()\n",
    "    dataframe[binary_col] = labelencoder.fit_transform(dataframe[binary_col])\n",
    "    return dataframe"
   ]
  },
  {
   "cell_type": "code",
   "execution_count": 10,
   "id": "4b3e4046-4929-4c78-9ae5-36a07f8f4155",
   "metadata": {},
   "outputs": [],
   "source": [
    "binary_cols = [col for col in df.columns if df[col].dtype == \"O\" and df[col].nunique() <= 4] "
   ]
  },
  {
   "cell_type": "code",
   "execution_count": 11,
   "id": "0e49e425-39f4-432f-a1e9-ea0488a9c0ee",
   "metadata": {},
   "outputs": [],
   "source": [
    "df_label = df.copy()"
   ]
  },
  {
   "cell_type": "code",
   "execution_count": 12,
   "id": "1bf08340-9884-437d-b6d2-9de97cf5706a",
   "metadata": {},
   "outputs": [],
   "source": [
    "for col in binary_cols:\n",
    "    df_label = label_encoder(df_label, col).copy()"
   ]
  },
  {
   "cell_type": "code",
   "execution_count": 13,
   "id": "3d6f424a-169d-47f2-9900-3ff35bfdd97c",
   "metadata": {},
   "outputs": [],
   "source": [
    "df_corr = df_label.corr(method ='pearson')"
   ]
  },
  {
   "cell_type": "code",
   "execution_count": 14,
   "id": "7ce94aea-5e3d-4e36-bd41-e3461a4c32ce",
   "metadata": {},
   "outputs": [
    {
     "data": {
      "text/plain": [
       "<AxesSubplot:>"
      ]
     },
     "execution_count": 14,
     "metadata": {},
     "output_type": "execute_result"
    },
    {
     "data": {
      "image/png": "[encoded data removed]",
      "text/plain": [
       "<Figure size 936x576 with 2 Axes>"
      ]
     },
     "metadata": {},
     "output_type": "display_data"
    }
   ],
   "source": [
    "sns.set(rc = {'figure.figsize':(13,8)})\n",
    "sns.heatmap(df_corr)"
   ]
  },
  {
   "cell_type": "markdown",
   "id": "a14fb6dc-2a5d-4235-8505-14a96b9e2d49",
   "metadata": {},
   "source": [
    "## 1.3-Numerik ve Kategorik Değişkenlerin Analizi"
   ]
  },
  {
   "cell_type": "markdown",
   "id": "9ced8210-c5f7-4d27-8f72-b2e91e7411b1",
   "metadata": {},
   "source": [
    "grab_col_names() fonksiyonu bir dataframedeki değişkenlerin türlerini göstermek için kullanılır."
   ]
  },
  {
   "cell_type": "code",
   "execution_count": 15,
   "id": "c6a75ba3-09f7-4f66-b4da-594b6e09295d",
   "metadata": {},
   "outputs": [],
   "source": [
    "def grab_col_names(dataframe, cat_th=10, car_th=20):\n",
    "\n",
    "    # cat_cols, cat_but_car\n",
    "    cat_cols = [col for col in dataframe.columns if dataframe[col].dtypes == \"O\"]\n",
    "    num_but_cat = [col for col in dataframe.columns if dataframe[col].nunique() < cat_th and\n",
    "                   dataframe[col].dtypes != \"O\"]\n",
    "    cat_but_car = [col for col in dataframe.columns if dataframe[col].nunique() > car_th and\n",
    "                   dataframe[col].dtypes == \"O\"]\n",
    "    cat_cols = cat_cols + num_but_cat\n",
    "    cat_cols = [col for col in cat_cols if col not in cat_but_car]\n",
    "\n",
    "    # num_cols\n",
    "    num_cols = [col for col in dataframe.columns if dataframe[col].dtypes != \"O\"]\n",
    "    num_cols = [col for col in num_cols if col not in num_but_cat]\n",
    "  \n",
    "    return cat_cols, num_cols, cat_but_car"
   ]
  },
  {
   "cell_type": "code",
   "execution_count": 16,
   "id": "b0ad8da7-67aa-439a-885d-5b653a9eca3a",
   "metadata": {},
   "outputs": [],
   "source": [
    "cat_cols, num_cols, cat_but_car = grab_col_names(df)"
   ]
  },
  {
   "cell_type": "markdown",
   "id": "5bb18e8a-c1b3-42bb-9e6a-653284c38f2e",
   "metadata": {},
   "source": [
    "### 1.3.1-Kategorik Değişkenlerin Bağımlı Değişkene Göre Analizi"
   ]
  },
  {
   "cell_type": "markdown",
   "id": "949bcb1b-295a-4f20-b61e-fd5e5fd11d8c",
   "metadata": {},
   "source": [
    "Veri setindeki değişkenlerin bağımlı değişkenle olan korelasyon grafiği incelenerek, yüksek korelasyon değerlerine sahip kategorik değişkenler bu bölümde incelenecektir."
   ]
  },
  {
   "cell_type": "markdown",
   "id": "bd1a197b-3587-42c2-8877-e345da1a291e",
   "metadata": {},
   "source": [
    "cat_summary() veri setindeki kategorik değişkenlerin dağılımını veren özet fonksiyonudur."
   ]
  },
  {
   "cell_type": "code",
   "execution_count": 17,
   "id": "6c2134df-c7b1-4be7-afba-27b192e32287",
   "metadata": {
    "tags": []
   },
   "outputs": [],
   "source": [
    "def cat_summary(dataframe, col_name, target_col):\n",
    "    print(pd.DataFrame({col_name: dataframe[col_name].value_counts(),\n",
    "                        \"Ratio\": 100 * dataframe[col_name].value_counts() / len(dataframe),\n",
    "                        f\"{target_col}\"+\"_Mean\": df.groupby(col_name)[target_col].mean()}))"
   ]
  },
  {
   "cell_type": "markdown",
   "id": "0bcb2db2-3738-449a-9021-9bec531d3d96",
   "metadata": {},
   "source": [
    "cat_analyser_plot() veri setindeki kategorik değişkenlerin dağılımı ve bağımlı değişkenle olan ilişkisini gösteren grafik fonksiyonudur."
   ]
  },
  {
   "cell_type": "code",
   "execution_count": 18,
   "id": "08758d43-617a-4890-9ed4-26e4b8014cd2",
   "metadata": {},
   "outputs": [],
   "source": [
    "def cat_analyser_plot(df, cat_col, target_col):  # Kategorik değişkenlerin bağımlı değişkene göre dağılımını inceleyen plot fonksiyonu\n",
    "    fig, axes = plt.subplots(1, 2, figsize=(12, 4))\n",
    "      \n",
    "    df[cat_col].value_counts().plot(kind='bar', ax=axes[0], color=['#1f77b4', '#ff7f0e', '#2ca02c', '#d62728'])\n",
    "    axes[0].set_title(f\"{cat_col}\"+\" \"+\"Dağılımı\")\n",
    "    axes[0].set_xlabel(f\"{cat_col}\")\n",
    "    axes[0].set_ylabel(\"Gözlem Sayısı\")\n",
    "    \n",
    "    df.groupby(cat_col)[target_col].mean().plot(kind='bar', ax=axes[1], color=['#1f77b4', '#ff7f0e', '#2ca02c', '#d62728'] )\n",
    "    axes[1].set_title(f\"{cat_col}\"+\" \"+\" Kırılımında\"+\" \"+f\"{target_col}\"+\" \"+ \"Ortalaması\")\n",
    "    axes[1].set_xlabel(f\"{cat_col}\")\n",
    "    axes[1].set_ylabel(f\"{target_col}\")\n",
    "    plt.show()"
   ]
  },
  {
   "cell_type": "markdown",
   "id": "3102e8f8-f0b7-4dbe-98d6-eebc88b98eab",
   "metadata": {},
   "source": [
    "##### SENIORCITIZEN değişkeninin analizi"
   ]
  },
  {
   "cell_type": "code",
   "execution_count": 19,
   "id": "0abd8880-f743-410b-a692-5c672d373b81",
   "metadata": {},
   "outputs": [
    {
     "name": "stdout",
     "output_type": "stream",
     "text": [
      "   SENIORCITIZEN  Ratio  CHURN_Mean\n",
      "0           5901 83.785       0.236\n",
      "1           1142 16.215       0.417\n"
     ]
    }
   ],
   "source": [
    "cat_summary(df, \"SENIORCITIZEN\", \"CHURN\")"
   ]
  },
  {
   "cell_type": "code",
   "execution_count": 20,
   "id": "c5032ae2-7fcb-4a2a-9ce4-e0962d05209e",
   "metadata": {},
   "outputs": [
    {
     "data": {
      "image/png": "[encoded data removed]",
      "text/plain": [
       "<Figure size 864x288 with 2 Axes>"
      ]
     },
     "metadata": {},
     "output_type": "display_data"
    }
   ],
   "source": [
    "cat_analyser_plot(df,\"SENIORCITIZEN\",\"CHURN\")"
   ]
  },
  {
   "cell_type": "markdown",
   "id": "e3200da8-38ec-49ea-a8b9-fdb24abddc14",
   "metadata": {},
   "source": [
    "SENIORCITIZEN = 1, yani yaşlı müşterilerin genel dağılımının az olduğu ve CHURN, yani şirketi terk etme ortalamaları oldukça yüksek. Şirketin yaşlı müşterilere yeterince hitap etmediği çıkarımını yapabiliriz.*"
   ]
  },
  {
   "cell_type": "markdown",
   "id": "f8a2c1af-2222-45ae-b95a-f042b48608f2",
   "metadata": {},
   "source": [
    "##### PARTNER değişkeninin analizi"
   ]
  },
  {
   "cell_type": "code",
   "execution_count": 21,
   "id": "14c84e43-ccfa-4218-b781-865eec7c760f",
   "metadata": {},
   "outputs": [
    {
     "name": "stdout",
     "output_type": "stream",
     "text": [
      "     PARTNER  Ratio  CHURN_Mean\n",
      "No      3641 51.697       0.330\n",
      "Yes     3402 48.303       0.197\n"
     ]
    }
   ],
   "source": [
    "cat_summary(df, \"PARTNER\", \"CHURN\")"
   ]
  },
  {
   "cell_type": "code",
   "execution_count": 22,
   "id": "c0188e25-e79d-49fd-aa00-7a6b0773e50d",
   "metadata": {},
   "outputs": [
    {
     "data": {
      "image/png": "[encoded data removed]",
      "text/plain": [
       "<Figure size 864x288 with 2 Axes>"
      ]
     },
     "metadata": {},
     "output_type": "display_data"
    }
   ],
   "source": [
    "cat_analyser_plot(df,\"PARTNER\",\"CHURN\")"
   ]
  },
  {
   "cell_type": "markdown",
   "id": "9f0c3cd3-b318-4f6d-8ee1-94e725bdb805",
   "metadata": {},
   "source": [
    "Bir partneri(evli) olan müşteri dağılımı, olmayanlara eşit olmasına karşın herhangi evli olmayan bir müşterinin churn etme olasılığının daha yüksek olduğu görülebilir."
   ]
  },
  {
   "cell_type": "markdown",
   "id": "d975de5d-e6f4-4997-81d9-39ac29fa8424",
   "metadata": {},
   "source": [
    "##### INTERNETSERVICE değişkeninin analizi"
   ]
  },
  {
   "cell_type": "code",
   "execution_count": 23,
   "id": "e5fb63ab-c0a8-4606-9ad0-244075a1066d",
   "metadata": {},
   "outputs": [
    {
     "name": "stdout",
     "output_type": "stream",
     "text": [
      "             INTERNETSERVICE  Ratio  CHURN_Mean\n",
      "DSL                     2421 34.375       0.190\n",
      "Fiber optic             3096 43.959       0.419\n",
      "No                      1526 21.667       0.074\n"
     ]
    }
   ],
   "source": [
    "cat_summary(df, \"INTERNETSERVICE\", \"CHURN\")"
   ]
  },
  {
   "cell_type": "code",
   "execution_count": 24,
   "id": "6c1ce8c6-01fc-4158-97d1-75b71a2f0a47",
   "metadata": {},
   "outputs": [
    {
     "data": {
      "image/png": "[encoded data removed]",
      "text/plain": [
       "<Figure size 864x288 with 2 Axes>"
      ]
     },
     "metadata": {},
     "output_type": "display_data"
    }
   ],
   "source": [
    "cat_analyser_plot(df,\"INTERNETSERVICE\",\"CHURN\")"
   ]
  },
  {
   "cell_type": "markdown",
   "id": "2aac1ff2-1ecb-47be-b54c-a1cf82f904e0",
   "metadata": {},
   "source": [
    "Churn olan müşterilerden internet servisi olarak Fiber Optic kullananların çoğunlukta olduğu görülebilir. Fiber optic internet servisinin müşteriler tarafından beğenilmediği yorumu yapılabilir."
   ]
  },
  {
   "cell_type": "markdown",
   "id": "727154ce-48e5-4594-b905-978088998c59",
   "metadata": {},
   "source": [
    "##### DEPENDENTS değişkeninin analizi"
   ]
  },
  {
   "cell_type": "code",
   "execution_count": 25,
   "id": "37db04ea-0a47-4cee-bf9b-2bab366a2770",
   "metadata": {},
   "outputs": [
    {
     "name": "stdout",
     "output_type": "stream",
     "text": [
      "     DEPENDENTS  Ratio  CHURN_Mean\n",
      "No         4933 70.041       0.313\n",
      "Yes        2110 29.959       0.155\n"
     ]
    }
   ],
   "source": [
    "cat_summary(df, \"DEPENDENTS\", \"CHURN\")"
   ]
  },
  {
   "cell_type": "code",
   "execution_count": 26,
   "id": "3f79ad35-6d67-4b09-9fa0-6a608c1f70b1",
   "metadata": {},
   "outputs": [
    {
     "data": {
      "image/png": "[encoded data removed]",
      "text/plain": [
       "<Figure size 864x288 with 2 Axes>"
      ]
     },
     "metadata": {},
     "output_type": "display_data"
    }
   ],
   "source": [
    "cat_analyser_plot(df,\"DEPENDENTS\",\"CHURN\")"
   ]
  },
  {
   "cell_type": "markdown",
   "id": "2653d681-6358-4a3e-9c67-a3c36dd3a9f6",
   "metadata": {},
   "source": [
    "DEPENDENTS = No, yani bakmakla yükümlü oldukları kimsesi olmayan müşterilerin çoğunluğu oluşturmakta ve churn olmasında etkili olduğu gözlenmektedir."
   ]
  },
  {
   "cell_type": "markdown",
   "id": "34d6d989-7796-45fa-a16c-9c9d5cb6b380",
   "metadata": {},
   "source": [
    "### 1.3.2-Nümerik Değişkenlerin Bağımlı Değişkene Göre Analizi"
   ]
  },
  {
   "cell_type": "markdown",
   "id": "09aa2dbe-21a4-4100-8119-669969b5d1e1",
   "metadata": {},
   "source": [
    "Veri setindeki değişkenlerin bağımlı değişkenle olan korelasyon grafiği incelenerek, yüksek korelasyon değerlerine sahip nümerik değişkenler bu bölümde incelenecektir."
   ]
  },
  {
   "cell_type": "code",
   "execution_count": 27,
   "id": "4d845a82-8a14-4211-bee9-5905dc696efd",
   "metadata": {},
   "outputs": [
    {
     "data": {
      "text/plain": [
       "['TENURE', 'MONTHLYCHARGES', 'TOTALCHARGES']"
      ]
     },
     "execution_count": 27,
     "metadata": {},
     "output_type": "execute_result"
    }
   ],
   "source": [
    "num_cols  # Nümerik değişkenler"
   ]
  },
  {
   "cell_type": "markdown",
   "id": "68b15384-c3a9-4a5e-9778-2ee3929ab99e",
   "metadata": {},
   "source": [
    "num_summary() veri setindeki nümerik değişkenlerin dağılımını veren özet fonksiyonudur."
   ]
  },
  {
   "cell_type": "code",
   "execution_count": 28,
   "id": "e095f13f-e818-445a-9aed-2d7bd731533a",
   "metadata": {},
   "outputs": [],
   "source": [
    "def num_summary(dataframe, numerical_col, plot=False):\n",
    "    quantiles = [0.05, 0.10, 0.20, 0.30, 0.40, 0.50, 0.60, 0.70, 0.80, 0.90, 0.95, 0.99]\n",
    "    print(\"\\t\\t\\t\"+f\"{numerical_col}\"+\" Nümerik Değişken İstatistikleri\")\n",
    "    print(\"\\t\\t\\t---------------------------------------------\")\n",
    "    print(pd.DataFrame(dataframe[numerical_col].describe(quantiles)).T, \"\\n\")\n",
    "\n",
    "    if plot:\n",
    "        dataframe[numerical_col].hist(bins=20)\n",
    "        plt.xlabel(numerical_col)\n",
    "        plt.title(numerical_col)\n",
    "        plt.show()"
   ]
  },
  {
   "cell_type": "markdown",
   "id": "2e51872a-469f-411c-bd7b-6d872d5d8ae8",
   "metadata": {},
   "source": [
    "num_analyser_plot() veri setindeki nümerik değişkenlerin dağılımı ve bağımlı değişkenle olan ilişkisini gösteren grafik fonksiyonudur."
   ]
  },
  {
   "cell_type": "code",
   "execution_count": 29,
   "id": "73fd5928-77c3-4cbb-a880-3650dc2e2c72",
   "metadata": {},
   "outputs": [],
   "source": [
    "def num_analyser_plot(df, num_col, target_col):\n",
    "    fig, axes = plt.subplots(1, 2, figsize=(12, 4))\n",
    "    \n",
    "    df[num_col].hist(bins=20, ax=axes[0])\n",
    "    axes[0].set_title(f\"{num_col}\"+\" \"+\"Dağılımı\")\n",
    "    axes[0].set_xlabel(f\"{num_col}\")\n",
    "    axes[0].set_ylabel(\"Gözlem Sayısı\")\n",
    "    \n",
    "    quantiles = [0, 0.25, 0.50, 0.75, 1]\n",
    "    num_df = df.copy()\n",
    "    num_df[f\"{num_col}\"+\"_CAT\"] = pd.qcut(df[num_col], q=quantiles) # nümerik değişken kategorize edildi.\n",
    "    \n",
    "    num_df.groupby(f\"{num_col}\"+\"_CAT\")[target_col].mean().plot(kind='bar', ax=axes[1], color=['#1f77b4', '#ff7f0e', '#2ca02c', '#d62728'])\n",
    "    axes[1].set_title(f\"{num_col}\"+\" \"+\" Kırılımında\"+\" \"+f\"{target_col}\"+\" \"+ \"Ortalaması\")\n",
    "    axes[1].set_xlabel(f\"{num_col}\")\n",
    "    axes[1].set_ylabel(f\"{target_col}\")\n",
    "    plt.xticks(rotation=0)\n",
    "    plt.show()"
   ]
  },
  {
   "cell_type": "markdown",
   "id": "f798bf98-f036-4274-8575-27e43892774f",
   "metadata": {},
   "source": [
    "##### TENURE değişkeninin analizi"
   ]
  },
  {
   "cell_type": "code",
   "execution_count": 30,
   "id": "1ba18055-8c60-47f3-b0d3-a08747f72ec4",
   "metadata": {},
   "outputs": [
    {
     "name": "stdout",
     "output_type": "stream",
     "text": [
      "\t\t\tTENURE Nümerik Değişken İstatistikleri\n",
      "\t\t\t---------------------------------------------\n",
      "          count   mean    std   min  ...    90%    95%    99%    max\n",
      "TENURE 7043.000 32.371 24.559 0.000  ... 69.000 72.000 72.000 72.000\n",
      "\n",
      "[1 rows x 17 columns] \n",
      "\n"
     ]
    }
   ],
   "source": [
    "num_summary(df, \"TENURE\")"
   ]
  },
  {
   "cell_type": "code",
   "execution_count": 31,
   "id": "c92f93f5-cfdb-4e60-8224-eba346f0f119",
   "metadata": {},
   "outputs": [
    {
     "data": {
      "image/png": "[encoded data removed]",
      "text/plain": [
       "<Figure size 864x288 with 2 Axes>"
      ]
     },
     "metadata": {},
     "output_type": "display_data"
    }
   ],
   "source": [
    "num_analyser_plot(df, \"TENURE\", \"CHURN\")"
   ]
  },
  {
   "cell_type": "markdown",
   "id": "1f93ee85-ed08-40c4-aa81-13eede06f327",
   "metadata": {},
   "source": [
    "TENURE, yani müşterilerin şirkette kaldığı süreyi ifade eden değişken incelendiğinde çoğunluğun 0-4 ay aralığında kaldığı görülebilir. TENUR sayısının düşük olduğu yani, en fazla yeni müşterilerin şirketi terk etme potansiyelinde olduğu görülebilir. "
   ]
  },
  {
   "cell_type": "markdown",
   "id": "4c75d938-0d66-4ee4-b730-0f5f5e53fb6f",
   "metadata": {},
   "source": [
    "##### MONTHLYCHARGES değişkeninin analizi"
   ]
  },
  {
   "cell_type": "code",
   "execution_count": 32,
   "id": "7ff16650-a8f2-4380-98d2-1c2e9a886c23",
   "metadata": {},
   "outputs": [
    {
     "name": "stdout",
     "output_type": "stream",
     "text": [
      "\t\t\tMONTHLYCHARGES Nümerik Değişken İstatistikleri\n",
      "\t\t\t---------------------------------------------\n",
      "                  count   mean    std    min  ...     90%     95%     99%     max\n",
      "MONTHLYCHARGES 7043.000 64.762 30.090 18.250  ... 102.600 107.400 114.729 118.750\n",
      "\n",
      "[1 rows x 17 columns] \n",
      "\n"
     ]
    }
   ],
   "source": [
    "num_summary(df, \"MONTHLYCHARGES\")"
   ]
  },
  {
   "cell_type": "code",
   "execution_count": 33,
   "id": "f0b7b7ce-cc07-4818-9d4b-06c205a17824",
   "metadata": {},
   "outputs": [
    {
     "data": {
      "image/png": "[encoded data removed]",
      "text/plain": [
       "<Figure size 864x288 with 2 Axes>"
      ]
     },
     "metadata": {},
     "output_type": "display_data"
    }
   ],
   "source": [
    "num_analyser_plot(df, \"MONTHLYCHARGES\", \"CHURN\")"
   ]
  },
  {
   "cell_type": "markdown",
   "id": "7ae6671f-d662-46a3-96c7-22d7ec7cdfbd",
   "metadata": {},
   "source": [
    "Müşterilerden aylık olarak tahsil edilen tutarların dağılımı baskın bir şekilde 20-25 bandında iken CHURN oranının ortalması daha çok 70-90 bandında gözükmektedir. Yani, şirketi terk eden müşterilerin çoğunluğu yüksek aylık ücret tahsil edilenler diyebiliriz."
   ]
  },
  {
   "cell_type": "markdown",
   "id": "2928832a-b837-45e1-bfdf-eb7156fa83f2",
   "metadata": {},
   "source": [
    "##### TOTALCHARGES değişkeninin analizi"
   ]
  },
  {
   "cell_type": "code",
   "execution_count": 34,
   "id": "b2bc9a71-a47d-4c2b-b6c9-ddb4454d44fe",
   "metadata": {},
   "outputs": [
    {
     "name": "stdout",
     "output_type": "stream",
     "text": [
      "\t\t\tTOTALCHARGES Nümerik Değişken İstatistikleri\n",
      "\t\t\t---------------------------------------------\n",
      "                count     mean      std    min  ...      90%      95%      99%      max\n",
      "TOTALCHARGES 7032.000 2283.300 2266.771 18.800  ... 5976.640 6923.590 8039.883 8684.800\n",
      "\n",
      "[1 rows x 17 columns] \n",
      "\n"
     ]
    }
   ],
   "source": [
    "num_summary(df, \"TOTALCHARGES\")"
   ]
  },
  {
   "cell_type": "code",
   "execution_count": 35,
   "id": "d95e95f9-bfbd-47ae-998b-0f13d5d85967",
   "metadata": {},
   "outputs": [
    {
     "data": {
      "image/png": "[encoded data removed]",
      "text/plain": [
       "<Figure size 864x288 with 2 Axes>"
      ]
     },
     "metadata": {},
     "output_type": "display_data"
    }
   ],
   "source": [
    "num_analyser_plot(df, \"TOTALCHARGES\", \"CHURN\")"
   ]
  },
  {
   "cell_type": "markdown",
   "id": "ab76e3ab-ea39-4ac2-a4ab-439443ae4130",
   "metadata": {},
   "source": [
    "Şirketi terk eden müşterilerin toplam ödedikleri ücretler incelendiğinde giriş seviyesi toplam ücret ödeme yapmış müşterilerin şirketi terk ettiği görülebilir."
   ]
  },
  {
   "cell_type": "markdown",
   "id": "a4c75b69-73ce-4b2b-95de-e40ee4b47b12",
   "metadata": {},
   "source": [
    "## 1.4-Aykırı Gözlem Analizi"
   ]
  },
  {
   "cell_type": "code",
   "execution_count": 36,
   "id": "aeb51a9e-1136-4c34-9caa-11da0912cb86",
   "metadata": {},
   "outputs": [
    {
     "data": {
      "image/png": "[encoded data removed]",
      "text/plain": [
       "<Figure size 864x360 with 3 Axes>"
      ]
     },
     "metadata": {},
     "output_type": "display_data"
    }
   ],
   "source": [
    "fig, axes = plt.subplots(1, 3, figsize=(12, 5))\n",
    "fig.suptitle('Numerik Değişkenlerin Boxplot ile Ayrkırı Gözlem Analizi')\n",
    "sns.boxplot(x=df[\"TENURE\"], ax=axes[0])\n",
    "sns.boxplot(x=df[\"MONTHLYCHARGES\"], ax=axes[1])\n",
    "sns.boxplot(x=df[\"TOTALCHARGES\"], ax=axes[2])\n",
    "plt.show() "
   ]
  },
  {
   "cell_type": "markdown",
   "id": "d3b3cf9f-f3ad-4d93-b674-46f437c8bc6e",
   "metadata": {},
   "source": [
    "Değişkenlerde aykırı değer gözükmemektedir."
   ]
  },
  {
   "cell_type": "markdown",
   "id": "e49d2253-3862-448a-a686-55337c79c615",
   "metadata": {},
   "source": [
    "##### Sayısal olarak inceleme"
   ]
  },
  {
   "cell_type": "markdown",
   "id": "29dff29e-cb20-48be-9a13-02dce8c2dbd2",
   "metadata": {},
   "source": [
    "Değişkenin outlier threshold değerlerini hesaplayan fonksiyon."
   ]
  },
  {
   "cell_type": "code",
   "execution_count": 37,
   "id": "a312a51d-8fd5-4552-8887-427fc1614034",
   "metadata": {},
   "outputs": [],
   "source": [
    "def outlier_thresholds(dataframe, col_name, q1=0.25, q3=0.75):\n",
    "    quartile1 = dataframe[col_name].quantile(q1)\n",
    "    quartile3 = dataframe[col_name].quantile(q3)\n",
    "    interquantile_range = quartile3 - quartile1\n",
    "    up_limit = quartile3 + 1.5 * interquantile_range\n",
    "    low_limit = quartile1 - 1.5 * interquantile_range\n",
    "    return low_limit, up_limit"
   ]
  },
  {
   "cell_type": "markdown",
   "id": "2a6e691b-7f30-48c5-88b6-a1a444573fa5",
   "metadata": {},
   "source": [
    "Değişkende outlier olup olmadığını dönen fonksiyon."
   ]
  },
  {
   "cell_type": "code",
   "execution_count": 38,
   "id": "4776cd66-8801-4d60-a37a-af97cec23fde",
   "metadata": {},
   "outputs": [],
   "source": [
    "def check_outlier(dataframe, col_name):\n",
    "    low_limit, up_limit = outlier_thresholds(dataframe, col_name)\n",
    "    if dataframe[(dataframe[col_name] > up_limit) | (dataframe[col_name] < low_limit)].any(axis=None):\n",
    "        return True\n",
    "    else:\n",
    "        return False"
   ]
  },
  {
   "cell_type": "code",
   "execution_count": 39,
   "id": "95412e4a-3a46-4422-a50a-07f534cb82eb",
   "metadata": {},
   "outputs": [
    {
     "name": "stdout",
     "output_type": "stream",
     "text": [
      "TENURE: False\n",
      "MONTHLYCHARGES: False\n",
      "TOTALCHARGES: False\n"
     ]
    }
   ],
   "source": [
    "for col in num_cols:\n",
    "    print(f\"{col}:\", check_outlier(df, col))"
   ]
  },
  {
   "cell_type": "markdown",
   "id": "c661a0c5-da30-4ead-a07f-2ccbb7decf01",
   "metadata": {},
   "source": [
    "## 1.5-Eksik Gözlem Analizi"
   ]
  },
  {
   "cell_type": "code",
   "execution_count": 40,
   "id": "8809a350-752c-43f7-b262-02c0ea19841f",
   "metadata": {},
   "outputs": [
    {
     "data": {
      "text/plain": [
       "True"
      ]
     },
     "execution_count": 40,
     "metadata": {},
     "output_type": "execute_result"
    }
   ],
   "source": [
    "df.isnull().values.any() # Veri setinde eksik gözlem(missing value) var mı?"
   ]
  },
  {
   "cell_type": "markdown",
   "id": "993f450b-a6bd-4926-ac26-58fc459121a8",
   "metadata": {},
   "source": [
    "Missing value gözlem değerlerine sahip değişkenler var."
   ]
  },
  {
   "cell_type": "markdown",
   "id": "4fd9697a-0be2-435c-ad16-bf885ae39ef9",
   "metadata": {},
   "source": [
    "missing_values_table(), missing value gözlemlere sahip değişkenleri, missing value sayısını ve ortalamasını dönen fonksiyon"
   ]
  },
  {
   "cell_type": "code",
   "execution_count": 41,
   "id": "753d4776-9279-40a6-ad63-76a41768bb27",
   "metadata": {},
   "outputs": [],
   "source": [
    "def missing_values_table(dataframe, na_name=False):\n",
    "    na_columns = [col for col in dataframe.columns if dataframe[col].isnull().sum() > 0]\n",
    "    n_miss = dataframe[na_columns].isnull().sum().sort_values(ascending=False)\n",
    "    ratio = (dataframe[na_columns].isnull().sum() / dataframe.shape[0] * 100).sort_values(ascending=False)\n",
    "    missing_df = pd.concat([n_miss, np.round(ratio, 2)], axis=1, keys=['n_miss', 'ratio'])\n",
    "    print(missing_df, end=\"\\n\")\n",
    "    if na_name:\n",
    "        return na_columns"
   ]
  },
  {
   "cell_type": "code",
   "execution_count": 42,
   "id": "13aa3a95-5908-4c70-9557-9b8a4bfa1c96",
   "metadata": {},
   "outputs": [
    {
     "name": "stdout",
     "output_type": "stream",
     "text": [
      "              n_miss  ratio\n",
      "TOTALCHARGES      11  0.160\n"
     ]
    },
    {
     "data": {
      "text/plain": [
       "['TOTALCHARGES']"
      ]
     },
     "execution_count": 42,
     "metadata": {},
     "output_type": "execute_result"
    }
   ],
   "source": [
    "missing_values_table(df, na_name=True)"
   ]
  },
  {
   "cell_type": "markdown",
   "id": "3e8b9998-db5a-4f70-b735-6c4341ef1811",
   "metadata": {},
   "source": [
    "# 2-Feature Engineering (Özellik Mühendisliği)"
   ]
  },
  {
   "cell_type": "markdown",
   "id": "76474cd1-cfd1-414e-a741-e7e16586c613",
   "metadata": {},
   "source": [
    "Buraya kadarki kısım, Veri setine ilk bakışla ilgiliydi. EDA olarak da tanımlanan buraya kadarki kısımda veri üzerinde herhangi bir değişiklik yapılmadı.\n",
    "\n",
    "Görev-2 ile birlikte veri seti, geliştirilecek model için sayısallaştırılacaktır."
   ]
  },
  {
   "cell_type": "markdown",
   "id": "b07b1b3c-34b4-4f4b-910e-b8bbbca67ff9",
   "metadata": {},
   "source": [
    "## 2.1-Eksik ve Aykırı Değerleri Düzeltme"
   ]
  },
  {
   "cell_type": "markdown",
   "id": "6fb519aa-2c26-41e3-8d25-cdfd0e239ca1",
   "metadata": {},
   "source": [
    "Keşifçi Veri Analizi bölümünde görüldüğü üzere veri setinin herhangi bir değişkeninde outlier bulunmamaktadır."
   ]
  },
  {
   "cell_type": "markdown",
   "id": "095c6319-eb54-4659-8eba-9e5454916235",
   "metadata": {},
   "source": [
    "TOTALCHARGES değişkeninde bulunan missing value gözlemleri, değişkene ait median değeriyle baskılandı."
   ]
  },
  {
   "cell_type": "code",
   "execution_count": 43,
   "id": "5eda6ebb-8966-451d-a3b6-acae6eb77d7a",
   "metadata": {},
   "outputs": [],
   "source": [
    "df[\"TOTALCHARGES\"].fillna(df[\"TOTALCHARGES\"].median(), inplace=True) "
   ]
  },
  {
   "cell_type": "code",
   "execution_count": 44,
   "id": "e0c7625b-c876-4f9e-b39c-5339b153c549",
   "metadata": {},
   "outputs": [
    {
     "data": {
      "text/plain": [
       "False"
      ]
     },
     "execution_count": 44,
     "metadata": {},
     "output_type": "execute_result"
    }
   ],
   "source": [
    "df.isnull().values.any() # Missing value gözleme sahip değişken kalmadı."
   ]
  },
  {
   "cell_type": "markdown",
   "id": "84e2842e-bfae-41e6-b67d-3a6d1cc6f980",
   "metadata": {},
   "source": [
    "## 2.2-Yeni Değişkenler Oluşturma"
   ]
  },
  {
   "cell_type": "markdown",
   "id": "499191a5-0eda-428c-b35c-9f53f988c6bc",
   "metadata": {},
   "source": [
    "Bu bölümde, Keşifçi Veri Analizi bölümünde ele alınan değişkenlerin bağımlı değişken ile olan ilişkisi üzerinden, yeni değişkenler türetme aşamasıdır."
   ]
  },
  {
   "cell_type": "markdown",
   "id": "b910ffaf-b5f4-4da9-84ca-975cfd59124d",
   "metadata": {},
   "source": [
    "Var olan değişkenler üzerinden türetilecek olan yeni değişkenlerle, bağımlı değişken ile arasında anlamlı çıkarımlar kurulması amaçlanacaktır."
   ]
  },
  {
   "cell_type": "code",
   "execution_count": 45,
   "id": "97bf54e9-e455-4b3c-be61-4dbffc7a9fce",
   "metadata": {},
   "outputs": [
    {
     "data": {
      "text/html": [
       "<div>\n",
       "<style scoped>\n",
       "    .dataframe tbody tr th:only-of-type {\n",
       "        vertical-align: middle;\n",
       "    }\n",
       "\n",
       "    .dataframe tbody tr th {\n",
       "        vertical-align: top;\n",
       "    }\n",
       "\n",
       "    .dataframe thead th {\n",
       "        text-align: right;\n",
       "    }\n",
       "</style>\n",
       "<table border=\"1\" class=\"dataframe\">\n",
       "  <thead>\n",
       "    <tr style=\"text-align: right;\">\n",
       "      <th></th>\n",
       "      <th>CUSTOMERID</th>\n",
       "      <th>GENDER</th>\n",
       "      <th>SENIORCITIZEN</th>\n",
       "      <th>PARTNER</th>\n",
       "      <th>...</th>\n",
       "      <th>PAYMENTMETHOD</th>\n",
       "      <th>MONTHLYCHARGES</th>\n",
       "      <th>TOTALCHARGES</th>\n",
       "      <th>CHURN</th>\n",
       "    </tr>\n",
       "  </thead>\n",
       "  <tbody>\n",
       "    <tr>\n",
       "      <th>0</th>\n",
       "      <td>7590-VHVEG</td>\n",
       "      <td>Female</td>\n",
       "      <td>0</td>\n",
       "      <td>Yes</td>\n",
       "      <td>...</td>\n",
       "      <td>Electronic check</td>\n",
       "      <td>29.850</td>\n",
       "      <td>29.850</td>\n",
       "      <td>0</td>\n",
       "    </tr>\n",
       "    <tr>\n",
       "      <th>1</th>\n",
       "      <td>5575-GNVDE</td>\n",
       "      <td>Male</td>\n",
       "      <td>0</td>\n",
       "      <td>No</td>\n",
       "      <td>...</td>\n",
       "      <td>Mailed check</td>\n",
       "      <td>56.950</td>\n",
       "      <td>1889.500</td>\n",
       "      <td>0</td>\n",
       "    </tr>\n",
       "    <tr>\n",
       "      <th>2</th>\n",
       "      <td>3668-QPYBK</td>\n",
       "      <td>Male</td>\n",
       "      <td>0</td>\n",
       "      <td>No</td>\n",
       "      <td>...</td>\n",
       "      <td>Mailed check</td>\n",
       "      <td>53.850</td>\n",
       "      <td>108.150</td>\n",
       "      <td>1</td>\n",
       "    </tr>\n",
       "    <tr>\n",
       "      <th>3</th>\n",
       "      <td>7795-CFOCW</td>\n",
       "      <td>Male</td>\n",
       "      <td>0</td>\n",
       "      <td>No</td>\n",
       "      <td>...</td>\n",
       "      <td>Bank transfer (automatic)</td>\n",
       "      <td>42.300</td>\n",
       "      <td>1840.750</td>\n",
       "      <td>0</td>\n",
       "    </tr>\n",
       "    <tr>\n",
       "      <th>4</th>\n",
       "      <td>9237-HQITU</td>\n",
       "      <td>Female</td>\n",
       "      <td>0</td>\n",
       "      <td>No</td>\n",
       "      <td>...</td>\n",
       "      <td>Electronic check</td>\n",
       "      <td>70.700</td>\n",
       "      <td>151.650</td>\n",
       "      <td>1</td>\n",
       "    </tr>\n",
       "  </tbody>\n",
       "</table>\n",
       "<p>5 rows × 21 columns</p>\n",
       "</div>"
      ],
      "text/plain": [
       "   CUSTOMERID  GENDER  SENIORCITIZEN PARTNER  ...              PAYMENTMETHOD  MONTHLYCHARGES TOTALCHARGES CHURN\n",
       "0  7590-VHVEG  Female              0     Yes  ...           Electronic check          29.850       29.850     0\n",
       "1  5575-GNVDE    Male              0      No  ...               Mailed check          56.950     1889.500     0\n",
       "2  3668-QPYBK    Male              0      No  ...               Mailed check          53.850      108.150     1\n",
       "3  7795-CFOCW    Male              0      No  ...  Bank transfer (automatic)          42.300     1840.750     0\n",
       "4  9237-HQITU  Female              0      No  ...           Electronic check          70.700      151.650     1\n",
       "\n",
       "[5 rows x 21 columns]"
      ]
     },
     "execution_count": 45,
     "metadata": {},
     "output_type": "execute_result"
    }
   ],
   "source": [
    "df.head()"
   ]
  },
  {
   "cell_type": "markdown",
   "id": "88b0473f-9092-4e1d-81cc-818f1467e207",
   "metadata": {},
   "source": [
    "##### TENURE Değişkeni Segmentasyonu"
   ]
  },
  {
   "cell_type": "markdown",
   "id": "19754456-9740-4503-852c-f6d8c3e80315",
   "metadata": {},
   "source": [
    "TENUR değişkenindeki değerlere göre basit müşteri segmentasyonunu yapar."
   ]
  },
  {
   "cell_type": "code",
   "execution_count": 46,
   "id": "a1ba7ae7-552c-4044-b784-351e3cfce709",
   "metadata": {},
   "outputs": [],
   "source": [
    "df.loc[(df['TENURE'] <= 6), 'NEW_TENURE'] = 'new_customer'\n",
    "df.loc[(df['TENURE'] > 6) & (df['TENURE'] <= 18), 'NEW_TENURE']  = \"potential_loyalists\"\n",
    "df.loc[(df['TENURE'] > 18) & (df['TENURE'] <= 54), 'NEW_TENURE'] = 'loyal_customer'\n",
    "df.loc[(df['TENURE'] > 54), 'NEW_TENURE'] = 'champions'"
   ]
  },
  {
   "cell_type": "markdown",
   "id": "90eb5ffc-e0d4-4743-86be-181007f19f70",
   "metadata": {},
   "source": [
    "##### MONTHLYCHARGES Değişkeni Segmentasyonu"
   ]
  },
  {
   "cell_type": "markdown",
   "id": "e86adb82-4c9e-409a-aca6-b82a854c1819",
   "metadata": {},
   "source": [
    "TENUR değişkenindeki değerlere göre müşterinin aldığı hizmetin segmentasyonunu yapar."
   ]
  },
  {
   "cell_type": "code",
   "execution_count": 47,
   "id": "de09bcc1-4874-4905-8e09-26e10acd90d9",
   "metadata": {},
   "outputs": [],
   "source": [
    "df.loc[(df['MONTHLYCHARGES'] <= 25), 'NEW_MONTHLYCHARGES'] = 'simple_packg'\n",
    "df.loc[(df['MONTHLYCHARGES'] > 25) & (df['MONTHLYCHARGES'] <= 45), 'NEW_MONTHLYCHARGES']  = \"normal_packg\"\n",
    "df.loc[(df['MONTHLYCHARGES'] > 45) & (df['MONTHLYCHARGES'] <= 70), 'NEW_MONTHLYCHARGES'] = 'gold_packg'\n",
    "df.loc[(df['MONTHLYCHARGES'] > 70), 'NEW_MONTHLYCHARGES'] = 'ultra_packg'"
   ]
  },
  {
   "cell_type": "markdown",
   "id": "561c5038-28df-4cbf-bebf-ed2178ac448f",
   "metadata": {},
   "source": [
    "##### Loyal ve yaşlı olmayan müşteriler"
   ]
  },
  {
   "cell_type": "code",
   "execution_count": 48,
   "id": "e41fe3f9-e3f2-4edc-954a-9048ea86c849",
   "metadata": {},
   "outputs": [],
   "source": [
    "df[\"NEW_LoyalYoung\"] = df.apply(lambda x: 1 if (x[\"SENIORCITIZEN\"] == 0) \n",
    "                                     and (x[\"NEW_TENURE\"] == \"loyal_customer\" or x[\"NEW_TENURE\"] == \"champions\") else 0, axis=1)"
   ]
  },
  {
   "cell_type": "markdown",
   "id": "e8f7c77c-6324-4790-8edc-12c153068b7b",
   "metadata": {},
   "source": [
    "##### Genç olup streaming servislerini kullanan müşteriler"
   ]
  },
  {
   "cell_type": "code",
   "execution_count": 49,
   "id": "b68aa2e8-e64e-4586-aec8-2e9276268cd8",
   "metadata": {},
   "outputs": [],
   "source": [
    "df[\"NEW_YoungStreaming\"] = df.apply(lambda x: 1 if (x[\"SENIORCITIZEN\"] == 0) \n",
    "                                     and (x[\"STREAMINGTV\"] == \"Yes\") and (x[\"STREAMINGMOVIES\"] == \"Yes\") else 0, axis=1)"
   ]
  },
  {
   "cell_type": "markdown",
   "id": "950a63cb-3bc1-4588-a0c6-61010d47d68d",
   "metadata": {},
   "source": [
    "##### Ödemeleri otomatik ödeme yoluyla yapanlar"
   ]
  },
  {
   "cell_type": "code",
   "execution_count": 50,
   "id": "4189349a-0f83-48e7-a7fe-31fa64ebd6e9",
   "metadata": {
    "tags": []
   },
   "outputs": [],
   "source": [
    "df[\"NEW_AutoPayment\"] = df[\"PAYMENTMETHOD\"].apply(lambda x: 1 if x in [\"Bank transfer (automatic)\",\"Credit card (automatic)\"] else 0)"
   ]
  },
  {
   "cell_type": "markdown",
   "id": "14984f3f-ac5a-4534-8f2b-cccc9c1d5ac4",
   "metadata": {},
   "source": [
    "##### Genç olup, bakmak durumunda kaldığı kişileri olmayan müşteriler"
   ]
  },
  {
   "cell_type": "code",
   "execution_count": 51,
   "id": "d3393cdc-38b0-45c3-9ff1-07b10f4eb41a",
   "metadata": {
    "tags": []
   },
   "outputs": [],
   "source": [
    "df[\"NEW_YoungUndependent\"] = df.apply(lambda x: 1 if(x[\"SENIORCITIZEN\"] == 0) and (x[\"DEPENDENTS\"] == \"No\") else 0, axis=1)"
   ]
  },
  {
   "cell_type": "markdown",
   "id": "848cdc68-d65f-4e10-98b1-153947d61e7d",
   "metadata": {},
   "source": [
    "##### Evli olup, bakmak durumunda kaldığı kişileri olan müşteriler"
   ]
  },
  {
   "cell_type": "code",
   "execution_count": 52,
   "id": "21068f0d-eada-4106-9740-86ec256149c3",
   "metadata": {
    "tags": []
   },
   "outputs": [],
   "source": [
    "df[\"NEW_PartnerDependent\"] = df.apply(lambda x: 1 if(x[\"PARTNER\"] == \"Yes\") and (x[\"DEPENDENTS\"] == \"Yes\") else 0, axis=1)"
   ]
  },
  {
   "cell_type": "markdown",
   "id": "73581ede-084b-4820-92ee-60568e0acfe9",
   "metadata": {},
   "source": [
    "##### Evli olup, loyal seviye olan müşteriler"
   ]
  },
  {
   "cell_type": "code",
   "execution_count": 53,
   "id": "c21bfdb2-dca2-444a-b504-13ab403eec0e",
   "metadata": {},
   "outputs": [],
   "source": [
    "df[\"NEW_PartnerLoyal\"] = df.apply(lambda x: 1 if(x[\"PARTNER\"] == \"Yes\") \n",
    "                                      and (x[\"NEW_TENURE\"] == \"loyal_customer\"\n",
    "                                        or x[\"NEW_TENURE\"] == \"champions\") else 0, axis=1)"
   ]
  },
  {
   "cell_type": "markdown",
   "id": "9bd53bbe-31c1-426c-b844-e5bdb8f6a9d3",
   "metadata": {},
   "source": [
    "##### Müşterinin toplam aldığı servis sayısı"
   ]
  },
  {
   "cell_type": "code",
   "execution_count": 54,
   "id": "933d7a9a-0047-4fc5-95e8-5a5be4232dee",
   "metadata": {
    "tags": []
   },
   "outputs": [],
   "source": [
    "df['NEW_TotalServices'] = (df[['PHONESERVICE', 'INTERNETSERVICE', 'ONLINESECURITY',\n",
    "                                 'ONLINEBACKUP', 'DEVICEPROTECTION', 'TECHSUPPORT',\n",
    "                                 'STREAMINGTV', 'STREAMINGMOVIES']]== 'Yes').sum(axis=1)"
   ]
  },
  {
   "cell_type": "markdown",
   "id": "05116c02-2991-494a-8b6e-d67a071d0d6c",
   "metadata": {},
   "source": [
    "##### Müşterinin servis başına ödediği ücret "
   ]
  },
  {
   "cell_type": "code",
   "execution_count": 55,
   "id": "65259aa4-3efd-43cd-84a8-2c2298d2d25f",
   "metadata": {},
   "outputs": [],
   "source": [
    "df[\"NEW_AVG_Service_Fee\"] = df[\"MONTHLYCHARGES\"] / (df['NEW_TotalServices'] + 1)"
   ]
  },
  {
   "cell_type": "markdown",
   "id": "cd148c91-e41d-4f71-816b-88e2f65ccae0",
   "metadata": {},
   "source": [
    "##### 1 veya 2 yıllık kontrat imzalamış müşteriler"
   ]
  },
  {
   "cell_type": "code",
   "execution_count": 56,
   "id": "52112b84-c8f6-4633-87f7-1d329fd6cf48",
   "metadata": {},
   "outputs": [],
   "source": [
    "df[\"NEW_Engaged\"] = df[\"CONTRACT\"].apply(lambda x: 1 if x in [\"One year\",\"Two year\"] else 0)"
   ]
  },
  {
   "cell_type": "code",
   "execution_count": 57,
   "id": "f57c00a8-2e3f-4c1e-b203-ffa609581dd4",
   "metadata": {},
   "outputs": [
    {
     "data": {
      "text/html": [
       "<div>\n",
       "<style scoped>\n",
       "    .dataframe tbody tr th:only-of-type {\n",
       "        vertical-align: middle;\n",
       "    }\n",
       "\n",
       "    .dataframe tbody tr th {\n",
       "        vertical-align: top;\n",
       "    }\n",
       "\n",
       "    .dataframe thead th {\n",
       "        text-align: right;\n",
       "    }\n",
       "</style>\n",
       "<table border=\"1\" class=\"dataframe\">\n",
       "  <thead>\n",
       "    <tr style=\"text-align: right;\">\n",
       "      <th></th>\n",
       "      <th>CUSTOMERID</th>\n",
       "      <th>GENDER</th>\n",
       "      <th>SENIORCITIZEN</th>\n",
       "      <th>PARTNER</th>\n",
       "      <th>...</th>\n",
       "      <th>NEW_PartnerLoyal</th>\n",
       "      <th>NEW_TotalServices</th>\n",
       "      <th>NEW_AVG_Service_Fee</th>\n",
       "      <th>NEW_Engaged</th>\n",
       "    </tr>\n",
       "  </thead>\n",
       "  <tbody>\n",
       "    <tr>\n",
       "      <th>0</th>\n",
       "      <td>7590-VHVEG</td>\n",
       "      <td>Female</td>\n",
       "      <td>0</td>\n",
       "      <td>Yes</td>\n",
       "      <td>...</td>\n",
       "      <td>0</td>\n",
       "      <td>1</td>\n",
       "      <td>14.925</td>\n",
       "      <td>0</td>\n",
       "    </tr>\n",
       "    <tr>\n",
       "      <th>1</th>\n",
       "      <td>5575-GNVDE</td>\n",
       "      <td>Male</td>\n",
       "      <td>0</td>\n",
       "      <td>No</td>\n",
       "      <td>...</td>\n",
       "      <td>0</td>\n",
       "      <td>3</td>\n",
       "      <td>14.238</td>\n",
       "      <td>1</td>\n",
       "    </tr>\n",
       "    <tr>\n",
       "      <th>2</th>\n",
       "      <td>3668-QPYBK</td>\n",
       "      <td>Male</td>\n",
       "      <td>0</td>\n",
       "      <td>No</td>\n",
       "      <td>...</td>\n",
       "      <td>0</td>\n",
       "      <td>3</td>\n",
       "      <td>13.463</td>\n",
       "      <td>0</td>\n",
       "    </tr>\n",
       "    <tr>\n",
       "      <th>3</th>\n",
       "      <td>7795-CFOCW</td>\n",
       "      <td>Male</td>\n",
       "      <td>0</td>\n",
       "      <td>No</td>\n",
       "      <td>...</td>\n",
       "      <td>0</td>\n",
       "      <td>3</td>\n",
       "      <td>10.575</td>\n",
       "      <td>1</td>\n",
       "    </tr>\n",
       "    <tr>\n",
       "      <th>4</th>\n",
       "      <td>9237-HQITU</td>\n",
       "      <td>Female</td>\n",
       "      <td>0</td>\n",
       "      <td>No</td>\n",
       "      <td>...</td>\n",
       "      <td>0</td>\n",
       "      <td>1</td>\n",
       "      <td>35.350</td>\n",
       "      <td>0</td>\n",
       "    </tr>\n",
       "  </tbody>\n",
       "</table>\n",
       "<p>5 rows × 32 columns</p>\n",
       "</div>"
      ],
      "text/plain": [
       "   CUSTOMERID  GENDER  SENIORCITIZEN PARTNER  ... NEW_PartnerLoyal  NEW_TotalServices NEW_AVG_Service_Fee NEW_Engaged\n",
       "0  7590-VHVEG  Female              0     Yes  ...                0                  1              14.925           0\n",
       "1  5575-GNVDE    Male              0      No  ...                0                  3              14.238           1\n",
       "2  3668-QPYBK    Male              0      No  ...                0                  3              13.463           0\n",
       "3  7795-CFOCW    Male              0      No  ...                0                  3              10.575           1\n",
       "4  9237-HQITU  Female              0      No  ...                0                  1              35.350           0\n",
       "\n",
       "[5 rows x 32 columns]"
      ]
     },
     "execution_count": 57,
     "metadata": {},
     "output_type": "execute_result"
    }
   ],
   "source": [
    "df.head()"
   ]
  },
  {
   "cell_type": "markdown",
   "id": "d5b8e944-92c0-411b-8141-cecca27951a8",
   "metadata": {},
   "source": [
    "## 2.3-Encoding işlemlerini gerçekleştirme."
   ]
  },
  {
   "cell_type": "markdown",
   "id": "d6a3adc5-d1d5-4694-87a2-b3744d2825ed",
   "metadata": {},
   "source": [
    "Bu bölüm, veri setindeki kategorik değişkenlerin model tarafından anlaşılabilir formatta olacak şekilde encode edilmesi aşamasıdır. Sırasıyla Label Encoding, Rare Encoding ve One-Hot Encoding işlemleri yapılacaktır."
   ]
  },
  {
   "cell_type": "markdown",
   "id": "b06d2b94-71db-4214-842f-d78e07384b42",
   "metadata": {},
   "source": [
    "### 2.3.1-Label Encoder"
   ]
  },
  {
   "cell_type": "markdown",
   "id": "376f8d09-489d-4bbf-9975-9992f02aa6c8",
   "metadata": {},
   "source": [
    "2 farklı deişkene sahip kategorik değişkenlerin binary(0-1) haline çevrilmesi aşamasıdır."
   ]
  },
  {
   "cell_type": "code",
   "execution_count": 58,
   "id": "b52fe6d5-a34c-43dc-bb56-258a3af2f0b4",
   "metadata": {},
   "outputs": [],
   "source": [
    "def label_encoder(dataframe, binary_col):\n",
    "    labelencoder = LabelEncoder()\n",
    "    dataframe[binary_col] = labelencoder.fit_transform(dataframe[binary_col])\n",
    "    return dataframe"
   ]
  },
  {
   "cell_type": "code",
   "execution_count": 59,
   "id": "d20409f8-000e-4605-a9f2-df6ad7e30e8b",
   "metadata": {},
   "outputs": [
    {
     "data": {
      "text/plain": [
       "['GENDER', 'PARTNER', 'DEPENDENTS', 'PHONESERVICE', 'PAPERLESSBILLING']"
      ]
     },
     "execution_count": 59,
     "metadata": {},
     "output_type": "execute_result"
    }
   ],
   "source": [
    "binary_cols = [col for col in df.columns if df[col].dtype == \"O\" and df[col].nunique() == 2] #\n",
    "binary_cols"
   ]
  },
  {
   "cell_type": "code",
   "execution_count": 60,
   "id": "3e31c0e6-1890-46df-aa77-c9203aaae477",
   "metadata": {},
   "outputs": [
    {
     "data": {
      "text/html": [
       "<div>\n",
       "<style scoped>\n",
       "    .dataframe tbody tr th:only-of-type {\n",
       "        vertical-align: middle;\n",
       "    }\n",
       "\n",
       "    .dataframe tbody tr th {\n",
       "        vertical-align: top;\n",
       "    }\n",
       "\n",
       "    .dataframe thead th {\n",
       "        text-align: right;\n",
       "    }\n",
       "</style>\n",
       "<table border=\"1\" class=\"dataframe\">\n",
       "  <thead>\n",
       "    <tr style=\"text-align: right;\">\n",
       "      <th></th>\n",
       "      <th>CUSTOMERID</th>\n",
       "      <th>GENDER</th>\n",
       "      <th>SENIORCITIZEN</th>\n",
       "      <th>PARTNER</th>\n",
       "      <th>...</th>\n",
       "      <th>NEW_PartnerLoyal</th>\n",
       "      <th>NEW_TotalServices</th>\n",
       "      <th>NEW_AVG_Service_Fee</th>\n",
       "      <th>NEW_Engaged</th>\n",
       "    </tr>\n",
       "  </thead>\n",
       "  <tbody>\n",
       "    <tr>\n",
       "      <th>0</th>\n",
       "      <td>7590-VHVEG</td>\n",
       "      <td>0</td>\n",
       "      <td>0</td>\n",
       "      <td>1</td>\n",
       "      <td>...</td>\n",
       "      <td>0</td>\n",
       "      <td>1</td>\n",
       "      <td>14.925</td>\n",
       "      <td>0</td>\n",
       "    </tr>\n",
       "    <tr>\n",
       "      <th>1</th>\n",
       "      <td>5575-GNVDE</td>\n",
       "      <td>1</td>\n",
       "      <td>0</td>\n",
       "      <td>0</td>\n",
       "      <td>...</td>\n",
       "      <td>0</td>\n",
       "      <td>3</td>\n",
       "      <td>14.238</td>\n",
       "      <td>1</td>\n",
       "    </tr>\n",
       "  </tbody>\n",
       "</table>\n",
       "<p>2 rows × 32 columns</p>\n",
       "</div>"
      ],
      "text/plain": [
       "   CUSTOMERID  GENDER  SENIORCITIZEN  PARTNER  ...  NEW_PartnerLoyal  NEW_TotalServices  NEW_AVG_Service_Fee NEW_Engaged\n",
       "0  7590-VHVEG       0              0        1  ...                 0                  1               14.925           0\n",
       "1  5575-GNVDE       1              0        0  ...                 0                  3               14.238           1\n",
       "\n",
       "[2 rows x 32 columns]"
      ]
     },
     "execution_count": 60,
     "metadata": {},
     "output_type": "execute_result"
    }
   ],
   "source": [
    "for col in binary_cols:\n",
    "    df = label_encoder(df, col)\n",
    "df.head(2)"
   ]
  },
  {
   "cell_type": "markdown",
   "id": "ba3de2d9-aee3-4082-b02f-60fb0ca10604",
   "metadata": {},
   "source": [
    "### 2.3.2-Rare Encoding"
   ]
  },
  {
   "cell_type": "markdown",
   "id": "7b19872f-bd62-48f9-afe0-b2a5337e8661",
   "metadata": {},
   "source": [
    "Bağımlı değişkene göre dağılımı seyrek olan değişken gözlemlerinin birarada encode edilmesidir. "
   ]
  },
  {
   "cell_type": "code",
   "execution_count": 61,
   "id": "9d06ad0f-9d26-4528-90b4-7d8ff149cad2",
   "metadata": {},
   "outputs": [],
   "source": [
    "cat_cols, num_cols, cat_but_car = grab_col_names(df)"
   ]
  },
  {
   "cell_type": "code",
   "execution_count": 62,
   "id": "d94bc734-0d8d-4a6e-bd61-188f16754441",
   "metadata": {},
   "outputs": [],
   "source": [
    "def rare_analyser(dataframe, target, cat_cols):\n",
    "    for col in cat_cols:\n",
    "        print(col, \":\", len(dataframe[col].value_counts()))\n",
    "        print(pd.DataFrame({\"COUNT\": dataframe[col].value_counts(),\n",
    "                            \"RATIO\": dataframe[col].value_counts() / len(dataframe),\n",
    "                            \"TARGET_MEAN\": dataframe.groupby(col)[target].mean()}), end=\"\\n\\n\\n\")"
   ]
  },
  {
   "cell_type": "code",
   "execution_count": 63,
   "id": "e94c2957-166d-4064-821f-e0c4c0951e7b",
   "metadata": {
    "tags": []
   },
   "outputs": [],
   "source": [
    "rare_analyser(df, \"CHURN\", cat_cols)"
   ]
  },
  {
   "cell_type": "markdown",
   "id": "76ed5ffd-d44c-471a-8637-68fc4f3541d0",
   "metadata": {},
   "source": [
    "Rare olarak kabul edilebilecek herhangi bir değişken gözlemi gözükmüyor. "
   ]
  },
  {
   "cell_type": "markdown",
   "id": "5c7d99b8-49d4-47aa-aa6c-787d0db93d77",
   "metadata": {},
   "source": [
    "### 2.3.3-One-Hot Encoding"
   ]
  },
  {
   "cell_type": "markdown",
   "id": "233b01e9-f930-4bc8-af14-2ec5e1d9751c",
   "metadata": {},
   "source": [
    "2'den fazla benzersiz(uniq) gözleme sahip kategorik değişkenlerin encode edilmesi aşamasıdır. "
   ]
  },
  {
   "cell_type": "code",
   "execution_count": 64,
   "id": "558fdd66-cc76-4530-8f37-34e073a892c0",
   "metadata": {},
   "outputs": [
    {
     "data": {
      "text/plain": [
       "['MULTIPLELINES',\n",
       " 'INTERNETSERVICE',\n",
       " 'ONLINESECURITY',\n",
       " 'ONLINEBACKUP',\n",
       " 'DEVICEPROTECTION',\n",
       " 'TECHSUPPORT',\n",
       " 'STREAMINGTV',\n",
       " 'STREAMINGMOVIES',\n",
       " 'CONTRACT',\n",
       " 'PAYMENTMETHOD',\n",
       " 'NEW_TENURE',\n",
       " 'NEW_MONTHLYCHARGES',\n",
       " 'NEW_TotalServices']"
      ]
     },
     "execution_count": 64,
     "metadata": {},
     "output_type": "execute_result"
    }
   ],
   "source": [
    "ohe_cols = [col for col in df.columns if 10 >= df[col].nunique() > 2]  # One-Hot encoding için uygun değişkenler\n",
    "ohe_cols"
   ]
  },
  {
   "cell_type": "code",
   "execution_count": 65,
   "id": "aacd23ec-2927-449d-af0b-4411a65c1646",
   "metadata": {},
   "outputs": [],
   "source": [
    "def one_hot_encoder(dataframe, categorical_cols, drop_first=True):\n",
    "    dataframe = pd.get_dummies(dataframe, columns=categorical_cols, drop_first=drop_first)\n",
    "    return dataframe"
   ]
  },
  {
   "cell_type": "code",
   "execution_count": 66,
   "id": "26015990-f2f8-47bf-b2a6-ec95d03c0d3c",
   "metadata": {},
   "outputs": [],
   "source": [
    "df = one_hot_encoder(df, ohe_cols)"
   ]
  },
  {
   "cell_type": "code",
   "execution_count": 67,
   "id": "c6eb768d-233a-4293-81c0-3896c42b35bb",
   "metadata": {},
   "outputs": [
    {
     "data": {
      "text/html": [
       "<div>\n",
       "<style scoped>\n",
       "    .dataframe tbody tr th:only-of-type {\n",
       "        vertical-align: middle;\n",
       "    }\n",
       "\n",
       "    .dataframe tbody tr th {\n",
       "        vertical-align: top;\n",
       "    }\n",
       "\n",
       "    .dataframe thead th {\n",
       "        text-align: right;\n",
       "    }\n",
       "</style>\n",
       "<table border=\"1\" class=\"dataframe\">\n",
       "  <thead>\n",
       "    <tr style=\"text-align: right;\">\n",
       "      <th></th>\n",
       "      <th>CUSTOMERID</th>\n",
       "      <th>GENDER</th>\n",
       "      <th>SENIORCITIZEN</th>\n",
       "      <th>PARTNER</th>\n",
       "      <th>...</th>\n",
       "      <th>NEW_TotalServices_4</th>\n",
       "      <th>NEW_TotalServices_5</th>\n",
       "      <th>NEW_TotalServices_6</th>\n",
       "      <th>NEW_TotalServices_7</th>\n",
       "    </tr>\n",
       "  </thead>\n",
       "  <tbody>\n",
       "    <tr>\n",
       "      <th>0</th>\n",
       "      <td>7590-VHVEG</td>\n",
       "      <td>0</td>\n",
       "      <td>0</td>\n",
       "      <td>1</td>\n",
       "      <td>...</td>\n",
       "      <td>0</td>\n",
       "      <td>0</td>\n",
       "      <td>0</td>\n",
       "      <td>0</td>\n",
       "    </tr>\n",
       "    <tr>\n",
       "      <th>1</th>\n",
       "      <td>5575-GNVDE</td>\n",
       "      <td>1</td>\n",
       "      <td>0</td>\n",
       "      <td>0</td>\n",
       "      <td>...</td>\n",
       "      <td>0</td>\n",
       "      <td>0</td>\n",
       "      <td>0</td>\n",
       "      <td>0</td>\n",
       "    </tr>\n",
       "    <tr>\n",
       "      <th>2</th>\n",
       "      <td>3668-QPYBK</td>\n",
       "      <td>1</td>\n",
       "      <td>0</td>\n",
       "      <td>0</td>\n",
       "      <td>...</td>\n",
       "      <td>0</td>\n",
       "      <td>0</td>\n",
       "      <td>0</td>\n",
       "      <td>0</td>\n",
       "    </tr>\n",
       "  </tbody>\n",
       "</table>\n",
       "<p>3 rows × 53 columns</p>\n",
       "</div>"
      ],
      "text/plain": [
       "   CUSTOMERID  GENDER  SENIORCITIZEN  PARTNER  ...  NEW_TotalServices_4  NEW_TotalServices_5  NEW_TotalServices_6  NEW_TotalServices_7\n",
       "0  7590-VHVEG       0              0        1  ...                    0                    0                    0                    0\n",
       "1  5575-GNVDE       1              0        0  ...                    0                    0                    0                    0\n",
       "2  3668-QPYBK       1              0        0  ...                    0                    0                    0                    0\n",
       "\n",
       "[3 rows x 53 columns]"
      ]
     },
     "execution_count": 67,
     "metadata": {},
     "output_type": "execute_result"
    }
   ],
   "source": [
    "df.head(3)    # Encoding sonrası veri seti"
   ]
  },
  {
   "cell_type": "code",
   "execution_count": 68,
   "id": "fa1094a9-298b-49cb-b4ae-d10eee3fa127",
   "metadata": {},
   "outputs": [
    {
     "data": {
      "text/plain": [
       "(7043, 53)"
      ]
     },
     "execution_count": 68,
     "metadata": {},
     "output_type": "execute_result"
    }
   ],
   "source": [
    "df.shape"
   ]
  },
  {
   "cell_type": "markdown",
   "id": "067e34bd-2c0f-4515-89b5-eb29874e069e",
   "metadata": {},
   "source": [
    "## 2.4-Numerik Değişkenler için Standartlaştırma İşlemi"
   ]
  },
  {
   "cell_type": "code",
   "execution_count": 69,
   "id": "d11e6142-b168-431c-8033-c5d507810b46",
   "metadata": {},
   "outputs": [
    {
     "data": {
      "text/plain": [
       "['TENURE', 'MONTHLYCHARGES', 'TOTALCHARGES', 'NEW_AVG_Service_Fee']"
      ]
     },
     "execution_count": 69,
     "metadata": {},
     "output_type": "execute_result"
    }
   ],
   "source": [
    "cat_cols, num_cols, cat_but_car = grab_col_names(df)  # Nümerik değişkenler\n",
    "num_cols"
   ]
  },
  {
   "cell_type": "code",
   "execution_count": 70,
   "id": "8e338764-ac37-4308-a138-4dcb0f24da3e",
   "metadata": {},
   "outputs": [],
   "source": [
    "scaler = StandardScaler()\n",
    "df[num_cols] = scaler.fit_transform(df[num_cols])"
   ]
  },
  {
   "cell_type": "code",
   "execution_count": 71,
   "id": "58c41642-e29b-476d-88c1-207b8241e114",
   "metadata": {},
   "outputs": [
    {
     "data": {
      "text/html": [
       "<div>\n",
       "<style scoped>\n",
       "    .dataframe tbody tr th:only-of-type {\n",
       "        vertical-align: middle;\n",
       "    }\n",
       "\n",
       "    .dataframe tbody tr th {\n",
       "        vertical-align: top;\n",
       "    }\n",
       "\n",
       "    .dataframe thead th {\n",
       "        text-align: right;\n",
       "    }\n",
       "</style>\n",
       "<table border=\"1\" class=\"dataframe\">\n",
       "  <thead>\n",
       "    <tr style=\"text-align: right;\">\n",
       "      <th></th>\n",
       "      <th>TENURE</th>\n",
       "      <th>MONTHLYCHARGES</th>\n",
       "      <th>TOTALCHARGES</th>\n",
       "      <th>NEW_AVG_Service_Fee</th>\n",
       "    </tr>\n",
       "  </thead>\n",
       "  <tbody>\n",
       "    <tr>\n",
       "      <th>0</th>\n",
       "      <td>-1.277</td>\n",
       "      <td>-1.160</td>\n",
       "      <td>-0.994</td>\n",
       "      <td>-0.311</td>\n",
       "    </tr>\n",
       "    <tr>\n",
       "      <th>1</th>\n",
       "      <td>0.066</td>\n",
       "      <td>-0.260</td>\n",
       "      <td>-0.173</td>\n",
       "      <td>-0.410</td>\n",
       "    </tr>\n",
       "    <tr>\n",
       "      <th>2</th>\n",
       "      <td>-1.237</td>\n",
       "      <td>-0.363</td>\n",
       "      <td>-0.960</td>\n",
       "      <td>-0.522</td>\n",
       "    </tr>\n",
       "    <tr>\n",
       "      <th>3</th>\n",
       "      <td>0.514</td>\n",
       "      <td>-0.747</td>\n",
       "      <td>-0.195</td>\n",
       "      <td>-0.939</td>\n",
       "    </tr>\n",
       "    <tr>\n",
       "      <th>4</th>\n",
       "      <td>-1.237</td>\n",
       "      <td>0.197</td>\n",
       "      <td>-0.940</td>\n",
       "      <td>2.636</td>\n",
       "    </tr>\n",
       "  </tbody>\n",
       "</table>\n",
       "</div>"
      ],
      "text/plain": [
       "   TENURE  MONTHLYCHARGES  TOTALCHARGES  NEW_AVG_Service_Fee\n",
       "0  -1.277          -1.160        -0.994               -0.311\n",
       "1   0.066          -0.260        -0.173               -0.410\n",
       "2  -1.237          -0.363        -0.960               -0.522\n",
       "3   0.514          -0.747        -0.195               -0.939\n",
       "4  -1.237           0.197        -0.940                2.636"
      ]
     },
     "execution_count": 71,
     "metadata": {},
     "output_type": "execute_result"
    }
   ],
   "source": [
    "df[num_cols].head()  # Nümerik değişkenler standartlaştırıldı."
   ]
  },
  {
   "cell_type": "code",
   "execution_count": 72,
   "id": "82931ff3-90db-4b9e-aa27-3471039c3e7d",
   "metadata": {},
   "outputs": [
    {
     "data": {
      "text/html": [
       "<div>\n",
       "<style scoped>\n",
       "    .dataframe tbody tr th:only-of-type {\n",
       "        vertical-align: middle;\n",
       "    }\n",
       "\n",
       "    .dataframe tbody tr th {\n",
       "        vertical-align: top;\n",
       "    }\n",
       "\n",
       "    .dataframe thead th {\n",
       "        text-align: right;\n",
       "    }\n",
       "</style>\n",
       "<table border=\"1\" class=\"dataframe\">\n",
       "  <thead>\n",
       "    <tr style=\"text-align: right;\">\n",
       "      <th></th>\n",
       "      <th>CUSTOMERID</th>\n",
       "      <th>GENDER</th>\n",
       "      <th>SENIORCITIZEN</th>\n",
       "      <th>PARTNER</th>\n",
       "      <th>...</th>\n",
       "      <th>NEW_TotalServices_4</th>\n",
       "      <th>NEW_TotalServices_5</th>\n",
       "      <th>NEW_TotalServices_6</th>\n",
       "      <th>NEW_TotalServices_7</th>\n",
       "    </tr>\n",
       "  </thead>\n",
       "  <tbody>\n",
       "    <tr>\n",
       "      <th>0</th>\n",
       "      <td>7590-VHVEG</td>\n",
       "      <td>0</td>\n",
       "      <td>0</td>\n",
       "      <td>1</td>\n",
       "      <td>...</td>\n",
       "      <td>0</td>\n",
       "      <td>0</td>\n",
       "      <td>0</td>\n",
       "      <td>0</td>\n",
       "    </tr>\n",
       "    <tr>\n",
       "      <th>1</th>\n",
       "      <td>5575-GNVDE</td>\n",
       "      <td>1</td>\n",
       "      <td>0</td>\n",
       "      <td>0</td>\n",
       "      <td>...</td>\n",
       "      <td>0</td>\n",
       "      <td>0</td>\n",
       "      <td>0</td>\n",
       "      <td>0</td>\n",
       "    </tr>\n",
       "    <tr>\n",
       "      <th>2</th>\n",
       "      <td>3668-QPYBK</td>\n",
       "      <td>1</td>\n",
       "      <td>0</td>\n",
       "      <td>0</td>\n",
       "      <td>...</td>\n",
       "      <td>0</td>\n",
       "      <td>0</td>\n",
       "      <td>0</td>\n",
       "      <td>0</td>\n",
       "    </tr>\n",
       "  </tbody>\n",
       "</table>\n",
       "<p>3 rows × 53 columns</p>\n",
       "</div>"
      ],
      "text/plain": [
       "   CUSTOMERID  GENDER  SENIORCITIZEN  PARTNER  ...  NEW_TotalServices_4  NEW_TotalServices_5  NEW_TotalServices_6  NEW_TotalServices_7\n",
       "0  7590-VHVEG       0              0        1  ...                    0                    0                    0                    0\n",
       "1  5575-GNVDE       1              0        0  ...                    0                    0                    0                    0\n",
       "2  3668-QPYBK       1              0        0  ...                    0                    0                    0                    0\n",
       "\n",
       "[3 rows x 53 columns]"
      ]
     },
     "execution_count": 72,
     "metadata": {},
     "output_type": "execute_result"
    }
   ],
   "source": [
    "df.head(3)  # Standartlaştırma sonrası veri seti"
   ]
  },
  {
   "cell_type": "markdown",
   "id": "47f2a8bf-9ef3-4e7c-9f34-5b5803bec142",
   "metadata": {},
   "source": [
    "# 3-Model oluşturma ve Test"
   ]
  },
  {
   "cell_type": "markdown",
   "id": "cb56e0ce-f542-46f6-bb34-401ab24ea251",
   "metadata": {},
   "source": [
    "Bu aşamada, Keşifçi Veri Analizi ve Özellik Mühendisliği bölümlerinde hazırlanan veri seti üzerinde basit sınıflandırma modeli geliştirilecek olup konunun detaylarına(model metrik optimizasyonu) girilmeden, test süreci gerçekleştirilecektir.\n",
    "\n",
    "Sonuç olarak, hazırlanan veri seti ile model metriklerinin sonuçları ve model için anlamlı/önemli değişkenler incelenecektir."
   ]
  },
  {
   "cell_type": "code",
   "execution_count": 73,
   "id": "ffb41c65-daaf-40c1-8880-ed5e7098ab5e",
   "metadata": {},
   "outputs": [],
   "source": [
    "df.drop(\"CUSTOMERID\", inplace=True, axis=1) # Modelin oluşturulmasında anlamlı bilgi taşımayan CUSTIOMERID değişkeni silindi."
   ]
  },
  {
   "cell_type": "markdown",
   "id": "4e2f5a40-d334-4e1b-8b6e-e2ca6f9e75fc",
   "metadata": {},
   "source": [
    "Genel Bakış"
   ]
  },
  {
   "cell_type": "code",
   "execution_count": 74,
   "id": "0505e489-ca99-403b-98d0-dd03bee56bd0",
   "metadata": {},
   "outputs": [
    {
     "data": {
      "text/html": [
       "<div>\n",
       "<style scoped>\n",
       "    .dataframe tbody tr th:only-of-type {\n",
       "        vertical-align: middle;\n",
       "    }\n",
       "\n",
       "    .dataframe tbody tr th {\n",
       "        vertical-align: top;\n",
       "    }\n",
       "\n",
       "    .dataframe thead th {\n",
       "        text-align: right;\n",
       "    }\n",
       "</style>\n",
       "<table border=\"1\" class=\"dataframe\">\n",
       "  <thead>\n",
       "    <tr style=\"text-align: right;\">\n",
       "      <th></th>\n",
       "      <th>GENDER</th>\n",
       "      <th>SENIORCITIZEN</th>\n",
       "      <th>PARTNER</th>\n",
       "      <th>DEPENDENTS</th>\n",
       "      <th>...</th>\n",
       "      <th>NEW_TotalServices_4</th>\n",
       "      <th>NEW_TotalServices_5</th>\n",
       "      <th>NEW_TotalServices_6</th>\n",
       "      <th>NEW_TotalServices_7</th>\n",
       "    </tr>\n",
       "  </thead>\n",
       "  <tbody>\n",
       "    <tr>\n",
       "      <th>0</th>\n",
       "      <td>0</td>\n",
       "      <td>0</td>\n",
       "      <td>1</td>\n",
       "      <td>0</td>\n",
       "      <td>...</td>\n",
       "      <td>0</td>\n",
       "      <td>0</td>\n",
       "      <td>0</td>\n",
       "      <td>0</td>\n",
       "    </tr>\n",
       "    <tr>\n",
       "      <th>1</th>\n",
       "      <td>1</td>\n",
       "      <td>0</td>\n",
       "      <td>0</td>\n",
       "      <td>0</td>\n",
       "      <td>...</td>\n",
       "      <td>0</td>\n",
       "      <td>0</td>\n",
       "      <td>0</td>\n",
       "      <td>0</td>\n",
       "    </tr>\n",
       "    <tr>\n",
       "      <th>2</th>\n",
       "      <td>1</td>\n",
       "      <td>0</td>\n",
       "      <td>0</td>\n",
       "      <td>0</td>\n",
       "      <td>...</td>\n",
       "      <td>0</td>\n",
       "      <td>0</td>\n",
       "      <td>0</td>\n",
       "      <td>0</td>\n",
       "    </tr>\n",
       "    <tr>\n",
       "      <th>3</th>\n",
       "      <td>1</td>\n",
       "      <td>0</td>\n",
       "      <td>0</td>\n",
       "      <td>0</td>\n",
       "      <td>...</td>\n",
       "      <td>0</td>\n",
       "      <td>0</td>\n",
       "      <td>0</td>\n",
       "      <td>0</td>\n",
       "    </tr>\n",
       "    <tr>\n",
       "      <th>4</th>\n",
       "      <td>0</td>\n",
       "      <td>0</td>\n",
       "      <td>0</td>\n",
       "      <td>0</td>\n",
       "      <td>...</td>\n",
       "      <td>0</td>\n",
       "      <td>0</td>\n",
       "      <td>0</td>\n",
       "      <td>0</td>\n",
       "    </tr>\n",
       "  </tbody>\n",
       "</table>\n",
       "<p>5 rows × 52 columns</p>\n",
       "</div>"
      ],
      "text/plain": [
       "   GENDER  SENIORCITIZEN  PARTNER  DEPENDENTS  ...  NEW_TotalServices_4  NEW_TotalServices_5  NEW_TotalServices_6  NEW_TotalServices_7\n",
       "0       0              0        1           0  ...                    0                    0                    0                    0\n",
       "1       1              0        0           0  ...                    0                    0                    0                    0\n",
       "2       1              0        0           0  ...                    0                    0                    0                    0\n",
       "3       1              0        0           0  ...                    0                    0                    0                    0\n",
       "4       0              0        0           0  ...                    0                    0                    0                    0\n",
       "\n",
       "[5 rows x 52 columns]"
      ]
     },
     "execution_count": 74,
     "metadata": {},
     "output_type": "execute_result"
    }
   ],
   "source": [
    "df.head()"
   ]
  },
  {
   "cell_type": "code",
   "execution_count": 75,
   "id": "f05bead4-4a6c-490f-9de3-8a94cb742e2c",
   "metadata": {},
   "outputs": [
    {
     "data": {
      "text/plain": [
       "(7043, 52)"
      ]
     },
     "execution_count": 75,
     "metadata": {},
     "output_type": "execute_result"
    }
   ],
   "source": [
    "df.shape   # Model öncesi veri setinin son büyüklüğü"
   ]
  },
  {
   "cell_type": "code",
   "execution_count": 76,
   "id": "acda024d-e057-4466-bd0e-80bbbeb51299",
   "metadata": {},
   "outputs": [],
   "source": [
    "y = df[\"CHURN\"]\n",
    "X = df.drop([\"CHURN\"], axis=1)"
   ]
  },
  {
   "cell_type": "code",
   "execution_count": 77,
   "id": "5bb279c2-84a2-47f4-bff8-952f97c22724",
   "metadata": {},
   "outputs": [],
   "source": [
    "X_train, X_test, y_train, y_test = train_test_split(X, y, test_size=0.30, random_state=17)"
   ]
  },
  {
   "cell_type": "code",
   "execution_count": 78,
   "id": "e1b98966-4cf4-4540-90a1-32f4ffa4e1b6",
   "metadata": {},
   "outputs": [],
   "source": [
    "catboost_model = CatBoostClassifier(verbose=False, random_state=42).fit(X_train, y_train)\n",
    "y_pred = catboost_model.predict(X_test)"
   ]
  },
  {
   "cell_type": "code",
   "execution_count": 79,
   "id": "016d45d7-0784-4e14-90be-c52a68dd6cdf",
   "metadata": {},
   "outputs": [
    {
     "name": "stdout",
     "output_type": "stream",
     "text": [
      "Accuracy: 0.79\n",
      "Recall: 0.64\n",
      "Precision: 0.52\n",
      "F1: 0.58\n",
      "Auc: 0.74\n"
     ]
    }
   ],
   "source": [
    "print(f\"Accuracy: {round(accuracy_score(y_pred, y_test), 2)}\")  # Modele ait ölçüm metriklerinin değerleri\n",
    "print(f\"Recall: {round(recall_score(y_pred,y_test),2)}\")\n",
    "print(f\"Precision: {round(precision_score(y_pred,y_test), 2)}\")\n",
    "print(f\"F1: {round(f1_score(y_pred,y_test), 2)}\")\n",
    "print(f\"Auc: {round(roc_auc_score(y_pred,y_test), 2)}\")"
   ]
  },
  {
   "cell_type": "markdown",
   "id": "f1457ed5-2877-43cb-a47f-499b4398f432",
   "metadata": {},
   "source": [
    "plot_feature_importance(), model için önemli/anlamlı bilgi içeren değişkenlerin grafiksel olarak gösteren fonksiyondur."
   ]
  },
  {
   "cell_type": "code",
   "execution_count": 80,
   "id": "34c882ea-772e-4c93-ae24-1e7568e21cd8",
   "metadata": {},
   "outputs": [],
   "source": [
    "def plot_feature_importance(importance,names,model_type):\n",
    "    feature_importance = np.array(importance)\n",
    "    feature_names = np.array(names)\n",
    "    \n",
    "    data = {'feature_names': feature_names, 'feature_importance': feature_importance}\n",
    "    fi_df = pd.DataFrame(data)\n",
    "    fi_df.sort_values(by=['feature_importance'], ascending=False, inplace=True)\n",
    "    \n",
    "    plt.figure(figsize=(20, 18))\n",
    "    sns.barplot(x=fi_df['feature_importance'], y=fi_df['feature_names'])\n",
    "    plt.title(model_type + ' FEATURE IMPORTANCE')\n",
    "    plt.xlabel('FEATURE IMPORTANCE')\n",
    "    plt.ylabel('FEATURE NAMES')\n",
    "    plt.show()"
   ]
  },
  {
   "cell_type": "code",
   "execution_count": 81,
   "id": "ab86d185-4f51-4449-a039-c24b69e233b1",
   "metadata": {},
   "outputs": [
    {
     "data": {
      "image/png": "[encoded data removed]",
      "text/plain": [
       "<Figure size 1440x1296 with 1 Axes>"
      ]
     },
     "metadata": {},
     "output_type": "display_data"
    }
   ],
   "source": [
    "plot_feature_importance(catboost_model.get_feature_importance(), X.columns, 'CATBOOST')"
   ]
  },
  {
   "cell_type": "markdown",
   "id": "62a8ccfb-04f3-4dc9-9d38-ec708ac2020c",
   "metadata": {},
   "source": [
    "## Sonuç\n",
    "Yukarıdaki grafikten, müşteri terk senaryosu için önemli/anlamlı bilgi içeren değişkenler incelenebilir. Buna göre, Feature Extraction ve Encoding aşamalarında üretilen yeni değişkenlerin de modelin anlamlılığı üzerindeki etkisi görülebilir. \n",
    "\n",
    "Model için önemli değişkenler gözönünde bulundurularak, iş modelleri geliştirilebilir."
   ]
  },
  {
   "cell_type": "markdown",
   "id": "b9276d79-7583-43af-88ec-a85d59949fe6",
   "metadata": {},
   "source": [
    "#### Kaynakça: \n",
    "Veri Bilimi Okulu:   \n",
    "https://www.veribilimiokulu.com/"
   ]
  }
 ],
 "metadata": {
  "kernelspec": {
   "display_name": "Python 3",
   "language": "python",
   "name": "python3"
  },
  "language_info": {
   "codemirror_mode": {
    "name": "ipython",
    "version": 3
   },
   "file_extension": ".py",
   "mimetype": "text/x-python",
   "name": "python",
   "nbconvert_exporter": "python",
   "pygments_lexer": "ipython3",
   "version": "3.8.8"
  },
  "toc-autonumbering": false,
  "toc-showcode": false,
  "toc-showmarkdowntxt": false,
  "toc-showtags": false
 },
 "nbformat": 4,
 "nbformat_minor": 5
}
